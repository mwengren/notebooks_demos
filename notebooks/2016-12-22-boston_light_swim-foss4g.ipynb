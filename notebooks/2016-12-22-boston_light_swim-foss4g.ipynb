{
 "cells": [
  {
   "cell_type": "markdown",
   "metadata": {},
   "source": [
    "# The Boston Light Swim temperature analysis with Python\n",
    "\n",
    "In the past we demonstrated how to perform a CSW catalog search with [`OWSLib`](https://ioos.github.io/notebooks_demos//notebooks/2016-12-19-exploring_csw),\n",
    "and how to obtain near real-time data with [`pyoos`](https://ioos.github.io/notebooks_demos//notebooks/2016-10-12-fetching_data).\n",
    "In this notebook we will use both to find all observations and model data around the Boston Harbor to access the sea water temperature.\n",
    "\n",
    "\n",
    "This workflow is part of an example to advise swimmers of the annual [Boston lighthouse swim](http://bostonlightswim.org/) of the Boston Harbor water temperature conditions prior to the race. For more information regarding the workflow presented here see [Signell, Richard P.; Fernandes, Filipe; Wilcox, Kyle.   2016. \"Dynamic Reusable Workflows for Ocean Science.\" *J. Mar. Sci. Eng.* 4, no. 4: 68](http://dx.doi.org/10.3390/jmse4040068).\n",
    "\n",
    "(This notebook uses a custom `ioos_tools` module that needs to be added to the path separately. We recommend cloning the [repository](https://github.com/ioos/notebooks_demos) on GitHub which already includes the most update version of `ioos_tools`.)"
   ]
  },
  {
   "cell_type": "code",
   "execution_count": 1,
   "metadata": {
    "collapsed": true
   },
   "outputs": [],
   "source": [
    "import os\n",
    "import sys\n",
    "import warnings\n",
    "\n",
    "ioos_tools = os.path.join(os.path.pardir)\n",
    "sys.path.append(ioos_tools)\n",
    "\n",
    "# Suppresing warnings for a \"pretty output.\"\n",
    "warnings.simplefilter('ignore')"
   ]
  },
  {
   "cell_type": "markdown",
   "metadata": {},
   "source": [
    "This notebook is quite big and complex,\n",
    "so to help us keep things organized we'll define a cell with the most important options and switches.\n",
    "\n",
    "Below we can define the date,\n",
    "bounding box, phenomena `SOS` and `CF` names and units,\n",
    "and the catalogs we will search."
   ]
  },
  {
   "cell_type": "code",
   "execution_count": 2,
   "metadata": {},
   "outputs": [
    {
     "name": "stdout",
     "output_type": "stream",
     "text": [
      "Overwriting config.yaml\n"
     ]
    }
   ],
   "source": [
    "%%writefile config.yaml\n",
    "\n",
    "# Specify a YYYY-MM-DD hh:mm:ss date or integer day offset.\n",
    "# If both start and stop are offsets they will be computed relative to datetime.today() at midnight.\n",
    "# Use the dates commented below to reproduce the last Boston Light Swim event forecast.\n",
    "date:\n",
    "    start: -5 # 2016-8-16 00:00:00\n",
    "    stop: +4 # 2016-8-29 00:00:00\n",
    "\n",
    "run_name: 'latest'\n",
    "\n",
    "# Boston harbor.\n",
    "region:\n",
    "    bbox: [-71.3, 42.03, -70.57, 42.63]\n",
    "    crs: 'urn:ogc:def:crs:OGC:1.3:CRS84'\n",
    "\n",
    "sos_name: 'sea_water_temperature'\n",
    "\n",
    "cf_names:\n",
    "    - sea_water_temperature\n",
    "    - sea_surface_temperature\n",
    "    - sea_water_potential_temperature\n",
    "    - equivalent_potential_temperature\n",
    "    - sea_water_conservative_temperature\n",
    "    - pseudo_equivalent_potential_temperature\n",
    "\n",
    "units: 'celsius'\n",
    "\n",
    "catalogs:\n",
    "    - https://data.ioos.us/csw\n",
    "#    - https://gamone.whoi.edu/csw"
   ]
  },
  {
   "cell_type": "markdown",
   "metadata": {},
   "source": [
    "We'll print some of the search configuration options along the way to keep track of them."
   ]
  },
  {
   "cell_type": "code",
   "execution_count": 3,
   "metadata": {},
   "outputs": [
    {
     "name": "stdout",
     "output_type": "stream",
     "text": [
      "Saving data inside directory /home/mwengren/workspace/code/git/ioos/notebooks_demos/notebooks/latest\n",
      "*********************** Run information ************************\n",
      "Run date: 2017-08-16 06:12:23\n",
      "Start: 2017-08-11 00:00:00\n",
      "Stop: 2017-08-20 00:00:00\n",
      "Bounding box: -71.30, 42.03,-70.57, 42.63\n"
     ]
    }
   ],
   "source": [
    "import shutil\n",
    "from datetime import datetime\n",
    "from ioos_tools.ioos import parse_config\n",
    "\n",
    "config = parse_config('config.yaml')\n",
    "\n",
    "# Saves downloaded data into a temporary directory.\n",
    "save_dir = os.path.abspath(config['run_name'])\n",
    "if os.path.exists(save_dir):\n",
    "    shutil.rmtree(save_dir)\n",
    "os.makedirs(save_dir)\n",
    "\n",
    "fmt = '{:*^64}'.format\n",
    "print(fmt('Saving data inside directory {}'.format(save_dir)))\n",
    "print(fmt(' Run information '))\n",
    "print('Run date: {:%Y-%m-%d %H:%M:%S}'.format(datetime.utcnow()))\n",
    "print('Start: {:%Y-%m-%d %H:%M:%S}'.format(config['date']['start']))\n",
    "print('Stop: {:%Y-%m-%d %H:%M:%S}'.format(config['date']['stop']))\n",
    "print('Bounding box: {0:3.2f}, {1:3.2f},'\n",
    "      '{2:3.2f}, {3:3.2f}'.format(*config['region']['bbox']))"
   ]
  },
  {
   "cell_type": "markdown",
   "metadata": {},
   "source": [
    "We already created an `OWSLib.fes` filter [before](https://ioos.github.io/notebooks_demos//notebooks/2016-12-19-exploring_csw).\n",
    "The main difference here is that we do not want the atmosphere model data,\n",
    "so we are filtering out all the `GRIB-2` data format."
   ]
  },
  {
   "cell_type": "code",
   "execution_count": 4,
   "metadata": {
    "collapsed": true
   },
   "outputs": [],
   "source": [
    "def make_filter(config):\n",
    "    from owslib import fes\n",
    "    from ioos_tools.ioos import fes_date_filter\n",
    "    kw = dict(wildCard='*', escapeChar='\\\\',\n",
    "              singleChar='?', propertyname='apiso:AnyText')\n",
    "\n",
    "    or_filt = fes.Or([fes.PropertyIsLike(literal=('*%s*' % val), **kw)\n",
    "                      for val in config['cf_names']])\n",
    "\n",
    "    not_filt = fes.Not([fes.PropertyIsLike(literal='GRIB-2', **kw)])\n",
    "\n",
    "    begin, end = fes_date_filter(config['date']['start'],\n",
    "                                 config['date']['stop'])\n",
    "    bbox_crs = fes.BBox(config['region']['bbox'],\n",
    "                        crs=config['region']['crs'])\n",
    "    filter_list = [fes.And([bbox_crs, begin, end, or_filt, not_filt])]\n",
    "    return filter_list\n",
    "\n",
    "\n",
    "filter_list = make_filter(config)"
   ]
  },
  {
   "cell_type": "markdown",
   "metadata": {},
   "source": [
    "In the cell below we ask the catalog for all the returns that match the filter and have an OPeNDAP endpoint."
   ]
  },
  {
   "cell_type": "code",
   "execution_count": 6,
   "metadata": {
    "code_folding": [],
    "scrolled": false
   },
   "outputs": [
    {
     "name": "stdout",
     "output_type": "stream",
     "text": [
      "********************* Catalog information **********************\n",
      "URL: https://data.ioos.us/csw\n",
      "OPeNDAP\n",
      "http://oos.soest.hawaii.edu/thredds/dodsC/hioos/satellite/dhw_5km\n",
      "http://oos.soest.hawaii.edu/thredds/dodsC/pacioos/hycom/global\n",
      "http://thredds.cdip.ucsd.edu/thredds/dodsC/cdip/realtime/162p1_rt.nc\n",
      "http://thredds.cdip.ucsd.edu/thredds/dodsC/cdip/realtime/166p1_rt.nc\n",
      "http://thredds.cdip.ucsd.edu/thredds/dodsC/cdip/realtime/201p1_rt.nc\n",
      "http://thredds.cdip.ucsd.edu/thredds/dodsC/cdip/realtime/204p1_rt.nc\n",
      "http://thredds.cdip.ucsd.edu/thredds/dodsC/cdip/realtime/231p1_rt.nc\n",
      "http://thredds.secoora.org/thredds/dodsC/G1_SST_GLOBAL.nc\n",
      "http://thredds.secoora.org/thredds/dodsC/SECOORA_NCSU_CNAPS.nc\n",
      "http://www.neracoos.org/thredds/dodsC/UMO/DSG/SOS/A01/Accelerometer/HistoricRealtime/Agg.ncml\n",
      "http://www.smast.umassd.edu:8080/thredds/dodsC/FVCOM/NECOFS/Forecasts/NECOFS_FVCOM_OCEAN_BOSTON_FORECAST.nc\n",
      "http://www.smast.umassd.edu:8080/thredds/dodsC/FVCOM/NECOFS/Forecasts/NECOFS_FVCOM_OCEAN_MASSBAY_FORECAST.nc\n",
      "http://www.smast.umassd.edu:8080/thredds/dodsC/FVCOM/NECOFS/Forecasts/NECOFS_FVCOM_OCEAN_SCITUATE_FORECAST.nc\n",
      "http://www.smast.umassd.edu:8080/thredds/dodsC/FVCOM/NECOFS/Forecasts/NECOFS_GOM3_FORECAST.nc\n",
      "Number of datasets available: 20\n",
      "Directional wave and sea surface temperature measurements collected in situ by Datawell Mark 3 directional buoy located near OCEAN STATION PAPA from 2015/01/01 01:00:00 to 2017/08/13 17:40:59.\n",
      "Directional wave and sea surface temperature measurements collected in situ by Datawell Mark 3 directional buoy located near SCRIPPS NEARSHORE, CA from 2015/01/07 23:00:00 to 2017/08/15 18:00:32.\n",
      "G1SST, 1km blended SST\n",
      "HYbrid Coordinate Ocean Model (HYCOM): Global\n",
      "NECOFS (FVCOM) - Scituate - Latest Forecast\n",
      "NECOFS GOM3 (FVCOM) - Northeast US - Latest Forecast\n",
      "NECOFS Massachusetts (FVCOM) - Boston - Latest Forecast\n",
      "NECOFS Massachusetts (FVCOM) - Massachusetts Coastal - Latest Forecast\n",
      "NERACOOS Gulf of Maine Ocean Array: Realtime Buoy Observations: A01 Massachusetts Bay: A01 ACCELEROMETER Massachusetts Bay\n",
      "NOAA Coral Reef Watch Operational Daily Near-Real-Time Global 5-km Satellite Coral Bleaching Monitoring Products\n",
      "A01 Accelerometer - Waves\n",
      "A01 Directional Waves (waves.mstrain Experimental)\n",
      "A01 Met - Meteorology\n",
      "A01 Optode - Oxygen\n",
      "A01 Sbe37 - CTD\n",
      "COAWST Modeling System: USEast: ROMS-WRF-SWAN coupled model (aka CNAPS)\n",
      "Coupled Northwest Atlantic Prediction System (CNAPS)\n",
      "Directional wave and sea surface temperature measurements collected in situ by Datawell Mark 3 directional buoy located near CLATSOP SPIT, OR from 2016/10/12 17:00:00 to 2017/08/15 17:31:29.\n",
      "Directional wave and sea surface temperature measurements collected in situ by Datawell Mark 3 directional buoy located near LAKESIDE, OR from 2017/03/31 23:00:00 to 2017/08/15 17:32:02.\n",
      "Directional wave and sea surface temperature measurements collected in situ by Datawell Mark 3 directional buoy located near LOWER COOK INLET, AK from 2016/12/16 00:00:00 to 2017/08/13 18:09:42.\n",
      "\n",
      "\n"
     ]
    }
   ],
   "source": [
    "from ioos_tools.ioos import service_urls, get_csw_records\n",
    "from owslib.csw import CatalogueServiceWeb\n",
    "\n",
    "\n",
    "dap_urls = []\n",
    "print(fmt(' Catalog information '))\n",
    "for endpoint in config['catalogs']:\n",
    "    print('URL: {}'.format(endpoint))\n",
    "    try:\n",
    "        csw = CatalogueServiceWeb(endpoint, timeout=120)\n",
    "    except Exception as e:\n",
    "        print('{}'.format(e))\n",
    "        continue\n",
    "    csw = get_csw_records(csw, filter_list, esn='full')\n",
    "    OPeNDAP = service_urls(csw.records, identifier='OPeNDAP:OPeNDAP')\n",
    "    \n",
    "    \n",
    "    \n",
    "    \n",
    "    print('OPeNDAP')\n",
    "    for url in OPeNDAP: \n",
    "        print('{}'.format(url))\n",
    "        #let's just filter out a few models with incomplete forecasts:\n",
    "        if 'dhw_5km' in url or 'G1_SST_GLOBAL' in url: continue\n",
    "        dap_urls.append(url)\n",
    "    \n",
    "        \n",
    "    #dap_urls.extend(OPeNDAP)\n",
    "    #print('dap_urls')\n",
    "    #for url in dap_urls:\n",
    "    #    print('{}.html'.format(url))\n",
    "\n",
    "    print('Number of datasets available: {}'.format(len(csw.records.keys())))\n",
    "\n",
    "    for rec, item in csw.records.items():\n",
    "        print('{}'.format(item.title))\n",
    "    #if OPeNDAP:\n",
    "    #    print(fmt(' OPeNDAP '))\n",
    "    #    for url in OPeNDAP:\n",
    "    #        print('{}.html'.format(url))\n",
    "            \n",
    "    print('\\n')\n",
    "\n",
    "# Get only unique endpoints.\n",
    "#dap_urls = list(set(dap_urls))\n",
    "dap_urls = list(dap_urls)"
   ]
  },
  {
   "cell_type": "markdown",
   "metadata": {},
   "source": [
    "We found some models, and observations from NERACOOS there.\n",
    "However, we do know that there are some buoys from NDBC and CO-OPS available too.\n",
    "Also, those NERACOOS observations seem to be from a [CTD](http://www.neracoos.org/thredds/dodsC/UMO/DSG/SOS/A01/CTD1m/HistoricRealtime/Agg.ncml.html) mounted at 65 meters below the sea surface. Rendering them useless from our purpose.\n",
    "\n",
    "So let's use the catalog only for the models by filtering the observations with `is_station` below.\n",
    "And we'll rely `CO-OPS` and `NDBC` services for the observations."
   ]
  },
  {
   "cell_type": "code",
   "execution_count": 7,
   "metadata": {},
   "outputs": [
    {
     "name": "stdout",
     "output_type": "stream",
     "text": [
      "************************* Filtered DAP *************************\n",
      "http://oos.soest.hawaii.edu/thredds/dodsC/pacioos/hycom/global.html\n",
      "http://thredds.secoora.org/thredds/dodsC/SECOORA_NCSU_CNAPS.nc.html\n",
      "http://www.smast.umassd.edu:8080/thredds/dodsC/FVCOM/NECOFS/Forecasts/NECOFS_FVCOM_OCEAN_BOSTON_FORECAST.nc.html\n",
      "http://www.smast.umassd.edu:8080/thredds/dodsC/FVCOM/NECOFS/Forecasts/NECOFS_FVCOM_OCEAN_MASSBAY_FORECAST.nc.html\n",
      "http://www.smast.umassd.edu:8080/thredds/dodsC/FVCOM/NECOFS/Forecasts/NECOFS_FVCOM_OCEAN_SCITUATE_FORECAST.nc.html\n",
      "http://www.smast.umassd.edu:8080/thredds/dodsC/FVCOM/NECOFS/Forecasts/NECOFS_GOM3_FORECAST.nc.html\n"
     ]
    }
   ],
   "source": [
    "from ioos_tools.ioos import is_station\n",
    "\n",
    "# Filter out some station endpoints.\n",
    "non_stations = []\n",
    "for url in dap_urls:\n",
    "    try:\n",
    "        if not is_station(url):\n",
    "            non_stations.append(url)\n",
    "    except (RuntimeError, OSError, IOError) as e:\n",
    "        print('Could not access URL {}. {!r}'.format(url, e))\n",
    "\n",
    "dap_urls = non_stations\n",
    "\n",
    "print(fmt(' Filtered DAP '))\n",
    "for url in dap_urls:\n",
    "    print('{}.html'.format(url))"
   ]
  },
  {
   "cell_type": "markdown",
   "metadata": {},
   "source": [
    "Now we can use `pyoos` collectors for `NdbcSos`,"
   ]
  },
  {
   "cell_type": "code",
   "execution_count": 8,
   "metadata": {},
   "outputs": [
    {
     "name": "stdout",
     "output_type": "stream",
     "text": [
      "******************* NDBC Collector offerings *******************\n",
      "National Data Buoy Center SOS: 992 offerings\n"
     ]
    }
   ],
   "source": [
    "from pyoos.collectors.ndbc.ndbc_sos import NdbcSos\n",
    "\n",
    "collector_ndbc = NdbcSos()\n",
    "\n",
    "collector_ndbc.set_bbox(config['region']['bbox'])\n",
    "collector_ndbc.end_time = config['date']['stop']\n",
    "collector_ndbc.start_time = config['date']['start']\n",
    "collector_ndbc.variables = [config['sos_name']]\n",
    "\n",
    "ofrs = collector_ndbc.server.offerings\n",
    "title = collector_ndbc.server.identification.title\n",
    "print(fmt(' NDBC Collector offerings '))\n",
    "print('{}: {} offerings'.format(title, len(ofrs)))"
   ]
  },
  {
   "cell_type": "code",
   "execution_count": 9,
   "metadata": {},
   "outputs": [
    {
     "data": {
      "text/html": [
       "<div>\n",
       "<style>\n",
       "    .dataframe thead tr:only-child th {\n",
       "        text-align: right;\n",
       "    }\n",
       "\n",
       "    .dataframe thead th {\n",
       "        text-align: left;\n",
       "    }\n",
       "\n",
       "    .dataframe tbody tr th {\n",
       "        vertical-align: top;\n",
       "    }\n",
       "</style>\n",
       "<table border=\"1\" class=\"dataframe\">\n",
       "  <thead>\n",
       "    <tr style=\"text-align: right;\">\n",
       "      <th></th>\n",
       "      <th>depth</th>\n",
       "      <th>lat</th>\n",
       "      <th>lon</th>\n",
       "      <th>sensor</th>\n",
       "      <th>station_name</th>\n",
       "    </tr>\n",
       "    <tr>\n",
       "      <th>station_code</th>\n",
       "      <th></th>\n",
       "      <th></th>\n",
       "      <th></th>\n",
       "      <th></th>\n",
       "      <th></th>\n",
       "    </tr>\n",
       "  </thead>\n",
       "  <tbody>\n",
       "    <tr>\n",
       "      <th>44013</th>\n",
       "      <td>0.6</td>\n",
       "      <td>42.346</td>\n",
       "      <td>-70.651</td>\n",
       "      <td>urn:ioos:sensor:wmo:44013::watertemp1</td>\n",
       "      <td>BOSTON 16 NM East of Boston, MA</td>\n",
       "    </tr>\n",
       "  </tbody>\n",
       "</table>\n",
       "</div>"
      ],
      "text/plain": [
       "              depth     lat     lon                                 sensor  \\\n",
       "station_code                                                                 \n",
       "44013           0.6  42.346 -70.651  urn:ioos:sensor:wmo:44013::watertemp1   \n",
       "\n",
       "                                 station_name  \n",
       "station_code                                   \n",
       "44013         BOSTON 16 NM East of Boston, MA  "
      ]
     },
     "execution_count": 9,
     "metadata": {},
     "output_type": "execute_result"
    }
   ],
   "source": [
    "import pandas as pd\n",
    "from ioos_tools.ioos import collector2table\n",
    "\n",
    "ndbc = collector2table(collector=collector_ndbc,\n",
    "                       config=config,\n",
    "                       col='sea_water_temperature (C)')\n",
    "\n",
    "if ndbc:\n",
    "    data = dict(\n",
    "        station_name=[s._metadata.get('station_name') for s in ndbc],\n",
    "        station_code=[s._metadata.get('station_code') for s in ndbc],\n",
    "        sensor=[s._metadata.get('sensor') for s in ndbc],\n",
    "        lon=[s._metadata.get('lon') for s in ndbc],\n",
    "        lat=[s._metadata.get('lat') for s in ndbc],\n",
    "        depth=[s._metadata.get('depth') for s in ndbc],\n",
    "    )\n",
    "\n",
    "table = pd.DataFrame(data).set_index('station_code')\n",
    "table"
   ]
  },
  {
   "cell_type": "markdown",
   "metadata": {},
   "source": [
    "and `CoopsSos`."
   ]
  },
  {
   "cell_type": "code",
   "execution_count": 10,
   "metadata": {},
   "outputs": [
    {
     "name": "stdout",
     "output_type": "stream",
     "text": [
      "********************* Collector offerings **********************\n",
      "NOAA.NOS.CO-OPS SOS: 1187 offerings\n"
     ]
    }
   ],
   "source": [
    "from pyoos.collectors.coops.coops_sos import CoopsSos\n",
    "\n",
    "collector_coops = CoopsSos()\n",
    "\n",
    "collector_coops.set_bbox(config['region']['bbox'])\n",
    "collector_coops.end_time = config['date']['stop']\n",
    "collector_coops.start_time = config['date']['start']\n",
    "collector_coops.variables = [config['sos_name']]\n",
    "\n",
    "ofrs = collector_coops.server.offerings\n",
    "title = collector_coops.server.identification.title\n",
    "print(fmt(' Collector offerings '))\n",
    "print('{}: {} offerings'.format(title, len(ofrs)))"
   ]
  },
  {
   "cell_type": "code",
   "execution_count": 11,
   "metadata": {
    "scrolled": true
   },
   "outputs": [
    {
     "data": {
      "text/html": [
       "<div>\n",
       "<style>\n",
       "    .dataframe thead tr:only-child th {\n",
       "        text-align: right;\n",
       "    }\n",
       "\n",
       "    .dataframe thead th {\n",
       "        text-align: left;\n",
       "    }\n",
       "\n",
       "    .dataframe tbody tr th {\n",
       "        vertical-align: top;\n",
       "    }\n",
       "</style>\n",
       "<table border=\"1\" class=\"dataframe\">\n",
       "  <thead>\n",
       "    <tr style=\"text-align: right;\">\n",
       "      <th></th>\n",
       "      <th>depth</th>\n",
       "      <th>lat</th>\n",
       "      <th>lon</th>\n",
       "      <th>sensor</th>\n",
       "      <th>station_name</th>\n",
       "    </tr>\n",
       "    <tr>\n",
       "      <th>station_code</th>\n",
       "      <th></th>\n",
       "      <th></th>\n",
       "      <th></th>\n",
       "      <th></th>\n",
       "      <th></th>\n",
       "    </tr>\n",
       "  </thead>\n",
       "  <tbody>\n",
       "    <tr>\n",
       "      <th>44013</th>\n",
       "      <td>0.6</td>\n",
       "      <td>42.346</td>\n",
       "      <td>-70.651</td>\n",
       "      <td>urn:ioos:sensor:wmo:44013::watertemp1</td>\n",
       "      <td>BOSTON 16 NM East of Boston, MA</td>\n",
       "    </tr>\n",
       "  </tbody>\n",
       "</table>\n",
       "</div>"
      ],
      "text/plain": [
       "              depth     lat     lon                                 sensor  \\\n",
       "station_code                                                                 \n",
       "44013           0.6  42.346 -70.651  urn:ioos:sensor:wmo:44013::watertemp1   \n",
       "\n",
       "                                 station_name  \n",
       "station_code                                   \n",
       "44013         BOSTON 16 NM East of Boston, MA  "
      ]
     },
     "execution_count": 11,
     "metadata": {},
     "output_type": "execute_result"
    }
   ],
   "source": [
    "coops = collector2table(collector=collector_coops,\n",
    "                        config=config,\n",
    "                        col='sea_water_temperature (C)')\n",
    "\n",
    "if coops:\n",
    "    data = dict(\n",
    "        station_name=[s._metadata.get('station_name') for s in coops],\n",
    "        station_code=[s._metadata.get('station_code') for s in coops],\n",
    "        sensor=[s._metadata.get('sensor') for s in coops],\n",
    "        lon=[s._metadata.get('lon') for s in coops],\n",
    "        lat=[s._metadata.get('lat') for s in coops],\n",
    "        depth=[s._metadata.get('depth') for s in coops],\n",
    "    )\n",
    "\n",
    "table = pd.DataFrame(data).set_index('station_code')\n",
    "table"
   ]
  },
  {
   "cell_type": "markdown",
   "metadata": {},
   "source": [
    "We will join all the observations into an uniform series, interpolated to 1-hour interval, for the model-data comparison.\n",
    "\n",
    "This step is necessary because the observations can be 7 or 10 minutes resolution,\n",
    "while the models can be 30 to 60 minutes."
   ]
  },
  {
   "cell_type": "code",
   "execution_count": 12,
   "metadata": {
    "collapsed": true,
    "scrolled": true
   },
   "outputs": [],
   "source": [
    "data = ndbc + coops\n",
    "\n",
    "index = pd.date_range(start=config['date']['start'].replace(tzinfo=None),\n",
    "                      end=config['date']['stop'].replace(tzinfo=None),\n",
    "                      freq='1H')\n",
    "\n",
    "# Preserve metadata with `reindex`.\n",
    "observations = []\n",
    "for series in data:\n",
    "    _metadata = series._metadata\n",
    "    obs = series.reindex(index=index, limit=1, method='nearest')\n",
    "    obs._metadata = _metadata\n",
    "    observations.append(obs)"
   ]
  },
  {
   "cell_type": "markdown",
   "metadata": {},
   "source": [
    "In this next cell we will save the data for quicker access later."
   ]
  },
  {
   "cell_type": "code",
   "execution_count": 13,
   "metadata": {
    "collapsed": true,
    "scrolled": false
   },
   "outputs": [],
   "source": [
    "import iris\n",
    "from ioos_tools.tardis import series2cube\n",
    "\n",
    "attr = dict(\n",
    "    featureType='timeSeries',\n",
    "    Conventions='CF-1.6',\n",
    "    standard_name_vocabulary='CF-1.6',\n",
    "    cdm_data_type='Station',\n",
    "    comment='Data from http://opendap.co-ops.nos.noaa.gov'\n",
    ")\n",
    "\n",
    "\n",
    "cubes = iris.cube.CubeList(\n",
    "    [series2cube(obs, attr=attr) for obs in observations]\n",
    ")\n",
    "\n",
    "outfile = os.path.join(save_dir, 'OBS_DATA.nc')\n",
    "iris.save(cubes, outfile)"
   ]
  },
  {
   "cell_type": "markdown",
   "metadata": {},
   "source": [
    "Taking a quick look at the observations:"
   ]
  },
  {
   "cell_type": "code",
   "execution_count": 14,
   "metadata": {},
   "outputs": [
    {
     "data": {
      "image/png": "[encoded data removed]",
      "text/plain": [
       "<matplotlib.figure.Figure at 0x7ff078e88320>"
      ]
     },
     "metadata": {},
     "output_type": "display_data"
    }
   ],
   "source": [
    "%matplotlib inline\n",
    "\n",
    "ax = pd.concat(data).plot(figsize=(11, 2.25))"
   ]
  },
  {
   "cell_type": "markdown",
   "metadata": {},
   "source": [
    "Now it is time to loop the models we found above,"
   ]
  },
  {
   "cell_type": "code",
   "execution_count": 15,
   "metadata": {},
   "outputs": [
    {
     "name": "stdout",
     "output_type": "stream",
     "text": [
      "**************************** Models ****************************\n",
      "\n",
      "[Reading url 1/6]: http://oos.soest.hawaii.edu/thredds/dodsC/pacioos/hycom/global\n",
      "\n",
      "[Reading url 2/6]: http://thredds.secoora.org/thredds/dodsC/SECOORA_NCSU_CNAPS.nc\n",
      "\n",
      "[Reading url 3/6]: http://www.smast.umassd.edu:8080/thredds/dodsC/FVCOM/NECOFS/Forecasts/NECOFS_FVCOM_OCEAN_BOSTON_FORECAST.nc\n",
      "\n",
      "[Reading url 4/6]: http://www.smast.umassd.edu:8080/thredds/dodsC/FVCOM/NECOFS/Forecasts/NECOFS_FVCOM_OCEAN_MASSBAY_FORECAST.nc\n",
      "\n",
      "[Reading url 5/6]: http://www.smast.umassd.edu:8080/thredds/dodsC/FVCOM/NECOFS/Forecasts/NECOFS_FVCOM_OCEAN_SCITUATE_FORECAST.nc\n",
      "\n",
      "[Reading url 6/6]: http://www.smast.umassd.edu:8080/thredds/dodsC/FVCOM/NECOFS/Forecasts/NECOFS_GOM3_FORECAST.nc\n"
     ]
    }
   ],
   "source": [
    "from iris.exceptions import (CoordinateNotFoundError, ConstraintMismatchError,\n",
    "                             MergeError)\n",
    "from ioos_tools.ioos import get_model_name\n",
    "from ioos_tools.tardis import quick_load_cubes, proc_cube, is_model, get_surface\n",
    "\n",
    "print(fmt(' Models '))\n",
    "cubes = dict()\n",
    "for k, url in enumerate(dap_urls):\n",
    "    print('\\n[Reading url {}/{}]: {}'.format(k+1, len(dap_urls), url))\n",
    "    try:\n",
    "        cube = quick_load_cubes(url, config['cf_names'],\n",
    "                                callback=None, strict=True)\n",
    "        if is_model(cube):\n",
    "            cube = proc_cube(cube,\n",
    "                             bbox=config['region']['bbox'],\n",
    "                             time=(config['date']['start'],\n",
    "                                   config['date']['stop']),\n",
    "                             units=config['units'])\n",
    "        else:\n",
    "            print('[Not model data]: {}'.format(url))\n",
    "            continue\n",
    "        cube = get_surface(cube)\n",
    "        mod_name = get_model_name(url)\n",
    "        cubes.update({mod_name: cube})\n",
    "    except (RuntimeError, ValueError,\n",
    "            ConstraintMismatchError, CoordinateNotFoundError,\n",
    "            IndexError) as e:\n",
    "        print('Cannot get cube for: {}\\n{}'.format(url, e))"
   ]
  },
  {
   "cell_type": "markdown",
   "metadata": {},
   "source": [
    "Next, we will match them with the nearest observed time-series. The `max_dist=0.08` is in degrees, that is roughly 8 kilometers."
   ]
  },
  {
   "cell_type": "code",
   "execution_count": 16,
   "metadata": {},
   "outputs": [
    {
     "name": "stdout",
     "output_type": "stream",
     "text": [
      " Downloading to file /home/mwengren/workspace/code/git/ioos/notebooks_demos/notebooks/latest/pacioos_hycom-global.nc \n",
      "[Water  ] BOSTON 16 NM East of Boston, MA\n",
      "Finished processing [pacioos_hycom-global]\n",
      " Downloading to file /home/mwengren/workspace/code/git/ioos/notebooks_demos/notebooks/latest/SECOORA_NCSU_CNAPS.nc \n",
      "[Water  ] BOSTON 16 NM East of Boston, MA\n",
      "Finished processing [SECOORA_NCSU_CNAPS]\n",
      " Downloading to file /home/mwengren/workspace/code/git/ioos/notebooks_demos/notebooks/latest/Forecasts-NECOFS_FVCOM_OCEAN_BOSTON_FORECAST.nc \n",
      "[No Data] BOSTON 16 NM East of Boston, MA\n",
      "Finished processing [Forecasts-NECOFS_FVCOM_OCEAN_BOSTON_FORECAST]\n",
      " Downloading to file /home/mwengren/workspace/code/git/ioos/notebooks_demos/notebooks/latest/Forecasts-NECOFS_FVCOM_OCEAN_MASSBAY_FORECAST.nc \n",
      "[Water  ] BOSTON 16 NM East of Boston, MA\n",
      "Finished processing [Forecasts-NECOFS_FVCOM_OCEAN_MASSBAY_FORECAST]\n",
      " Downloading to file /home/mwengren/workspace/code/git/ioos/notebooks_demos/notebooks/latest/Forecasts-NECOFS_FVCOM_OCEAN_SCITUATE_FORECAST.nc \n",
      "[No Data] BOSTON 16 NM East of Boston, MA\n",
      "Finished processing [Forecasts-NECOFS_FVCOM_OCEAN_SCITUATE_FORECAST]\n",
      " Downloading to file /home/mwengren/workspace/code/git/ioos/notebooks_demos/notebooks/latest/FVCOM_Forecasts-NECOFS_GOM3_FORECAST.nc \n",
      "[Water  ] BOSTON 16 NM East of Boston, MA\n",
      "Finished processing [FVCOM_Forecasts-NECOFS_GOM3_FORECAST]\n"
     ]
    }
   ],
   "source": [
    "import iris\n",
    "from iris.pandas import as_series\n",
    "from ioos_tools.tardis import (make_tree, get_nearest_water,\n",
    "                               add_station, ensure_timeseries, remove_ssh)\n",
    "\n",
    "for mod_name, cube in cubes.items():\n",
    "    fname = '{}.nc'.format(mod_name)\n",
    "    fname = os.path.join(save_dir, fname)\n",
    "    print(fmt(' Downloading to file {} '.format(fname)))\n",
    "    try:\n",
    "        tree, lon, lat = make_tree(cube)\n",
    "    except CoordinateNotFoundError as e:\n",
    "        print('Cannot make KDTree for: {}'.format(mod_name))\n",
    "        continue\n",
    "    # Get model series at observed locations.\n",
    "    raw_series = dict()\n",
    "    for obs in observations:\n",
    "        obs = obs._metadata\n",
    "        station = obs['station_code']\n",
    "        try:\n",
    "            kw = dict(k=10, max_dist=0.08, min_var=0.01)\n",
    "            args = cube, tree, obs['lon'], obs['lat']\n",
    "            try:\n",
    "                series, dist, idx = get_nearest_water(*args, **kw)\n",
    "            except RuntimeError as e:\n",
    "                print('Cannot download {!r}.\\n{}'.format(cube, e))\n",
    "                series = None\n",
    "        except ValueError as e:\n",
    "            status = 'No Data'\n",
    "            print('[{}] {}'.format(status, obs['station_name']))\n",
    "            continue\n",
    "        if not series:\n",
    "            status = 'Land   '\n",
    "        else:\n",
    "            raw_series.update({station: series})\n",
    "            series = as_series(series)\n",
    "            status = 'Water  '\n",
    "        print('[{}] {}'.format(status, obs['station_name']))\n",
    "    if raw_series:  # Save cube.\n",
    "        for station, cube in raw_series.items():\n",
    "            cube = add_station(cube, station)\n",
    "            cube = remove_ssh(cube)\n",
    "        try:\n",
    "            cube = iris.cube.CubeList(raw_series.values()).merge_cube()\n",
    "        except MergeError as e:\n",
    "            print(e)\n",
    "        ensure_timeseries(cube)\n",
    "        try:\n",
    "            iris.save(cube, fname)\n",
    "        except AttributeError:\n",
    "            # FIXME: we should patch the bad attribute instead of removing everything.\n",
    "            cube.attributes = {}\n",
    "            iris.save(cube, fname)\n",
    "        del cube\n",
    "    print('Finished processing [{}]'.format(mod_name))"
   ]
  },
  {
   "cell_type": "markdown",
   "metadata": {},
   "source": [
    "Now it is possible to compute some simple comparison metrics. First we'll calculate the model mean bias:\n",
    "\n",
    "$$ \\text{MB} = \\mathbf{\\overline{m}} - \\mathbf{\\overline{o}}$$"
   ]
  },
  {
   "cell_type": "code",
   "execution_count": 17,
   "metadata": {
    "collapsed": true
   },
   "outputs": [],
   "source": [
    "from ioos_tools.ioos import stations_keys\n",
    "\n",
    "\n",
    "def rename_cols(df, config):\n",
    "    cols = stations_keys(config, key='station_name')\n",
    "    return df.rename(columns=cols)"
   ]
  },
  {
   "cell_type": "code",
   "execution_count": 18,
   "metadata": {
    "collapsed": true,
    "scrolled": false
   },
   "outputs": [],
   "source": [
    "from ioos_tools.ioos import load_ncs\n",
    "from ioos_tools.skill_score import mean_bias, apply_skill\n",
    "\n",
    "dfs = load_ncs(config)\n",
    "\n",
    "df = apply_skill(dfs, mean_bias, remove_mean=False, filter_tides=False)\n",
    "skill_score = dict(mean_bias=df.to_dict())\n",
    "\n",
    "# Filter out stations with no valid comparison.\n",
    "df.dropna(how='all', axis=1, inplace=True)\n",
    "df = df.applymap('{:.2f}'.format).replace('nan', '--')"
   ]
  },
  {
   "cell_type": "markdown",
   "metadata": {},
   "source": [
    "And the root mean squared rrror of the deviations from the mean:\n",
    "$$ \\text{CRMS} = \\sqrt{\\left(\\mathbf{m'} - \\mathbf{o'}\\right)^2}$$\n",
    "\n",
    "where: $\\mathbf{m'} = \\mathbf{m} - \\mathbf{\\overline{m}}$ and $\\mathbf{o'} = \\mathbf{o} - \\mathbf{\\overline{o}}$"
   ]
  },
  {
   "cell_type": "code",
   "execution_count": 19,
   "metadata": {
    "collapsed": true
   },
   "outputs": [],
   "source": [
    "from ioos_tools.skill_score import rmse\n",
    "\n",
    "dfs = load_ncs(config)\n",
    "\n",
    "df = apply_skill(dfs, rmse, remove_mean=True, filter_tides=False)\n",
    "skill_score['rmse'] = df.to_dict()\n",
    "\n",
    "# Filter out stations with no valid comparison.\n",
    "df.dropna(how='all', axis=1, inplace=True)\n",
    "df = df.applymap('{:.2f}'.format).replace('nan', '--')"
   ]
  },
  {
   "cell_type": "markdown",
   "metadata": {},
   "source": [
    "The next 2 cells make the scores \"pretty\" for plotting."
   ]
  },
  {
   "cell_type": "code",
   "execution_count": 20,
   "metadata": {
    "collapsed": true
   },
   "outputs": [],
   "source": [
    "import pandas as pd\n",
    "\n",
    "# Stringfy keys.\n",
    "for key in skill_score.keys():\n",
    "    skill_score[key] = {str(k): v for k, v in skill_score[key].items()}\n",
    "\n",
    "mean_bias = pd.DataFrame.from_dict(skill_score['mean_bias'])\n",
    "mean_bias = mean_bias.applymap('{:.2f}'.format).replace('nan', '--')\n",
    "\n",
    "skill_score = pd.DataFrame.from_dict(skill_score['rmse'])\n",
    "skill_score = skill_score.applymap('{:.2f}'.format).replace('nan', '--')"
   ]
  },
  {
   "cell_type": "code",
   "execution_count": 21,
   "metadata": {
    "collapsed": true
   },
   "outputs": [],
   "source": [
    "from ioos_tools.ioos import make_map\n",
    "\n",
    "bbox = config['region']['bbox']\n",
    "units = config['units']\n",
    "run_name = config['run_name']\n",
    "\n",
    "kw = dict(zoom_start=11, line=True, states=False,\n",
    "          secoora_stations=False, layers=False)\n",
    "m = make_map(bbox, **kw)"
   ]
  },
  {
   "cell_type": "markdown",
   "metadata": {},
   "source": [
    "The cells from `[20]` to `[25]` create a [`folium`](https://github.com/python-visualization/folium) map with [`bokeh`](http://bokeh.pydata.org/en/latest/) for the time-series at the observed points.\n",
    "\n",
    "Note that we did mark the nearest model cell location used in the comparison."
   ]
  },
  {
   "cell_type": "code",
   "execution_count": 22,
   "metadata": {},
   "outputs": [
    {
     "data": {
      "text/plain": [
       "<folium.plugins.marker_cluster.MarkerCluster at 0x7ff07081b550>"
      ]
     },
     "execution_count": 22,
     "metadata": {},
     "output_type": "execute_result"
    }
   ],
   "source": [
    "all_obs = stations_keys(config)\n",
    "\n",
    "from glob import glob\n",
    "from operator import itemgetter\n",
    "\n",
    "import iris\n",
    "import folium\n",
    "from folium.plugins import MarkerCluster\n",
    "\n",
    "iris.FUTURE.netcdf_promote = True\n",
    "\n",
    "big_list = []\n",
    "for fname in glob(os.path.join(save_dir, '*.nc')):\n",
    "    if 'OBS_DATA' in fname:\n",
    "        continue\n",
    "    cube = iris.load_cube(fname)\n",
    "    model = os.path.split(fname)[1].split('-')[-1].split('.')[0]\n",
    "    lons = cube.coord(axis='X').points\n",
    "    lats = cube.coord(axis='Y').points\n",
    "    stations = cube.coord('station_code').points\n",
    "    models = [model]*lons.size\n",
    "    lista = zip(models, lons.tolist(), lats.tolist(), stations.tolist())\n",
    "    big_list.extend(lista)\n",
    "\n",
    "big_list.sort(key=itemgetter(3))\n",
    "df = pd.DataFrame(big_list, columns=['name', 'lon', 'lat', 'station'])\n",
    "df.set_index('station', drop=True, inplace=True)\n",
    "groups = df.groupby(df.index)\n",
    "\n",
    "\n",
    "locations, popups = [], []\n",
    "for station, info in groups:\n",
    "    sta_name = all_obs[station]\n",
    "    for lat, lon, name in zip(info.lat, info.lon, info.name):\n",
    "        locations.append([lat, lon])\n",
    "        popups.append('[{}]: {}'.format(name, sta_name))\n",
    "\n",
    "MarkerCluster(locations=locations, popups=popups).add_to(m)"
   ]
  },
  {
   "cell_type": "markdown",
   "metadata": {},
   "source": [
    "Here we use a dictionary with some models we expect to find so we can create a better legend for the plots. If any new models are found, we will use its filename in the legend as a default until we can go back and add a short name to our library."
   ]
  },
  {
   "cell_type": "code",
   "execution_count": 23,
   "metadata": {
    "collapsed": true
   },
   "outputs": [],
   "source": [
    "titles = {\n",
    "    'coawst_4_use_best': 'COAWST_4',\n",
    "    'global': 'HYCOM',\n",
    "    'NECOFS_GOM3_FORECAST': 'NECOFS_GOM3',\n",
    "    'NECOFS_FVCOM_OCEAN_MASSBAY_FORECAST': 'NECOFS_MassBay',\n",
    "    'OBS_DATA': 'Observations'\n",
    "}"
   ]
  },
  {
   "cell_type": "code",
   "execution_count": 24,
   "metadata": {
    "collapsed": true
   },
   "outputs": [],
   "source": [
    "from bokeh.resources import CDN\n",
    "from bokeh.plotting import figure\n",
    "from bokeh.embed import file_html\n",
    "from bokeh.models import HoverTool\n",
    "from itertools import cycle\n",
    "from bokeh.palettes import Spectral6\n",
    "\n",
    "from folium import IFrame\n",
    "\n",
    "# Plot defaults.\n",
    "colors = Spectral6\n",
    "colorcycler = cycle(colors)\n",
    "tools = 'pan,box_zoom,reset'\n",
    "width, height = 750, 250\n",
    "\n",
    "\n",
    "def make_plot(df, station):\n",
    "    p = figure(toolbar_location='above',\n",
    "               x_axis_type='datetime',\n",
    "               width=width,\n",
    "               height=height,\n",
    "               tools=tools,\n",
    "               title=str(station))\n",
    "    for column, series in df.iteritems():\n",
    "        series.dropna(inplace=True)\n",
    "        if not series.empty:\n",
    "            line = p.line(\n",
    "                x=series.index,\n",
    "                y=series.values,\n",
    "                legend='%s' % titles.get(column, column),\n",
    "                line_color=next(colorcycler),\n",
    "                line_width=5,\n",
    "                line_cap='round',\n",
    "                line_join='round'\n",
    "            )\n",
    "            if 'OBS_DATA' not in column:\n",
    "                bias = mean_bias[str(station)][column]\n",
    "                skill = skill_score[str(station)][column]\n",
    "            else:\n",
    "                skill = bias = 'NA'\n",
    "            p.add_tools(HoverTool(tooltips=[('Name', '%s' % column),\n",
    "                                            ('Bias', bias),\n",
    "                                            ('Skill', skill)],\n",
    "                                  renderers=[line]))\n",
    "    return p\n",
    "\n",
    "\n",
    "def make_marker(p, station):\n",
    "    lons = stations_keys(config, key='lon')\n",
    "    lats = stations_keys(config, key='lat')\n",
    "\n",
    "    lon, lat = lons[station], lats[station]\n",
    "    html = file_html(p, CDN, station)\n",
    "    iframe = IFrame(html, width=width+40, height=height+80)\n",
    "\n",
    "    popup = folium.Popup(iframe, max_width=2650)\n",
    "    icon = folium.Icon(color='green', icon='stats')\n",
    "    marker = folium.Marker(location=[lat, lon],\n",
    "                           popup=popup,\n",
    "                           icon=icon)\n",
    "    return marker"
   ]
  },
  {
   "cell_type": "code",
   "execution_count": 25,
   "metadata": {
    "scrolled": true
   },
   "outputs": [
    {
     "data": {
      "text/html": [
       "<div style=\"width:100%;\"><div style=\"position:relative;width:100%;height:0;padding-bottom:60%;\"><iframe src=\"data:text/html;charset=utf-8;base64,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\" style=\"position:absolute;width:100%;height:100%;left:0;top:0;border:none !important;\" allowfullscreen webkitallowfullscreen mozallowfullscreen></iframe></div></div>"
      ],
      "text/plain": [
       "<folium.folium.Map at 0x7ff0707672e8>"
      ]
     },
     "execution_count": 25,
     "metadata": {},
     "output_type": "execute_result"
    }
   ],
   "source": [
    "dfs = load_ncs(config)\n",
    "\n",
    "for station in dfs:\n",
    "    sta_name = all_obs[station]\n",
    "    df = dfs[station]\n",
    "    if df.empty:\n",
    "        continue\n",
    "    p = make_plot(df, station)\n",
    "    maker = make_marker(p, station)\n",
    "    maker.add_to(m)\n",
    "\n",
    "m"
   ]
  },
  {
   "cell_type": "markdown",
   "metadata": {},
   "source": [
    "Now we can navigate the map and click on the markers to explorer our findings.\n",
    "\n",
    "The green markers locate the observations locations. They pop-up an interactive plot with the time-series and scores for the models (hover over the lines to se the scores). The blue markers indicate the nearest model grid point found for the comparison."
   ]
  },
  {
   "cell_type": "code",
   "execution_count": null,
   "metadata": {
    "collapsed": true
   },
   "outputs": [],
   "source": []
  }
 ],
 "metadata": {
  "anaconda-cloud": {},
  "kernelspec": {
   "display_name": "Python [default]",
   "language": "python",
   "name": "python3"
  },
  "language_info": {
   "codemirror_mode": {
    "name": "ipython",
    "version": 3
   },
   "file_extension": ".py",
   "mimetype": "text/x-python",
   "name": "python",
   "nbconvert_exporter": "python",
   "pygments_lexer": "ipython3",
   "version": "3.6.2"
  }
 },
 "nbformat": 4,
 "nbformat_minor": 1
}
