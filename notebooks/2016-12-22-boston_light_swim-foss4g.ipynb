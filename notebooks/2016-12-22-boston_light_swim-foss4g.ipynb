{
 "cells": [
  {
   "cell_type": "markdown",
   "metadata": {},
   "source": [
    "# The Boston Light Swim temperature analysis with Python\n",
    "\n",
    "In the past we demonstrated how to perform a CSW catalog search with [`OWSLib`](https://ioos.github.io/notebooks_demos//notebooks/2016-12-19-exploring_csw),\n",
    "and how to obtain near real-time data with [`pyoos`](https://ioos.github.io/notebooks_demos//notebooks/2016-10-12-fetching_data).\n",
    "In this notebook we will use both to find all observations and model data around the Boston Harbor to access the sea water temperature.\n",
    "\n",
    "\n",
    "This workflow is part of an example to advise swimmers of the annual [Boston lighthouse swim](http://bostonlightswim.org/) of the Boston Harbor water temperature conditions prior to the race. For more information regarding the workflow presented here see [Signell, Richard P.; Fernandes, Filipe; Wilcox, Kyle.   2016. \"Dynamic Reusable Workflows for Ocean Science.\" *J. Mar. Sci. Eng.* 4, no. 4: 68](http://dx.doi.org/10.3390/jmse4040068).\n",
    "\n",
    "(This notebook uses a custom `ioos_tools` module that needs to be added to the path separately. We recommend cloning the [repository](https://github.com/ioos/notebooks_demos) on GitHub which already includes the most update version of `ioos_tools`.)"
   ]
  },
  {
   "cell_type": "code",
   "execution_count": 1,
   "metadata": {
    "collapsed": true
   },
   "outputs": [],
   "source": [
    "import os\n",
    "import sys\n",
    "import warnings\n",
    "\n",
    "ioos_tools = os.path.join(os.path.pardir)\n",
    "sys.path.append(ioos_tools)\n",
    "\n",
    "# Suppresing warnings for a \"pretty output.\"\n",
    "warnings.simplefilter('ignore')"
   ]
  },
  {
   "cell_type": "markdown",
   "metadata": {},
   "source": [
    "This notebook is quite big and complex,\n",
    "so to help us keep things organized we'll define a cell with the most important options and switches.\n",
    "\n",
    "Below we can define the date,\n",
    "bounding box, phenomena `SOS` and `CF` names and units,\n",
    "and the catalogs we will search."
   ]
  },
  {
   "cell_type": "code",
   "execution_count": 2,
   "metadata": {},
   "outputs": [
    {
     "name": "stdout",
     "output_type": "stream",
     "text": [
      "Overwriting config.yaml\n"
     ]
    }
   ],
   "source": [
    "%%writefile config.yaml\n",
    "\n",
    "# Specify a YYYY-MM-DD hh:mm:ss date or integer day offset.\n",
    "# If both start and stop are offsets they will be computed relative to datetime.today() at midnight.\n",
    "# Use the dates commented below to reproduce the last Boston Light Swim event forecast.\n",
    "date:\n",
    "    start: -5 # 2016-8-16 00:00:00\n",
    "    stop: +4 # 2016-8-29 00:00:00\n",
    "\n",
    "run_name: 'latest'\n",
    "\n",
    "# Boston harbor.\n",
    "region:\n",
    "    bbox: [-71.3, 42.03, -70.57, 42.63]\n",
    "    crs: 'urn:ogc:def:crs:OGC:1.3:CRS84'\n",
    "\n",
    "sos_name: 'sea_water_temperature'\n",
    "\n",
    "cf_names:\n",
    "    - sea_water_temperature\n",
    "    - sea_surface_temperature\n",
    "    - sea_water_potential_temperature\n",
    "    - equivalent_potential_temperature\n",
    "    - sea_water_conservative_temperature\n",
    "    - pseudo_equivalent_potential_temperature\n",
    "\n",
    "units: 'celsius'\n",
    "\n",
    "catalogs:\n",
    "    - https://data.ioos.us/csw\n",
    "#    - https://gamone.whoi.edu/csw"
   ]
  },
  {
   "cell_type": "markdown",
   "metadata": {},
   "source": [
    "We'll print some of the search configuration options along the way to keep track of them."
   ]
  },
  {
   "cell_type": "code",
   "execution_count": 3,
   "metadata": {},
   "outputs": [
    {
     "name": "stdout",
     "output_type": "stream",
     "text": [
      "Saving data inside directory /home/mwengren/workspace/code/git/ioos/notebooks_demos/notebooks/latest\n",
      "*********************** Run information ************************\n",
      "Run date: 2017-08-17 04:13:01\n",
      "Start: 2017-08-12 00:00:00\n",
      "Stop: 2017-08-21 00:00:00\n",
      "Bounding box: -71.30, 42.03,-70.57, 42.63\n"
     ]
    }
   ],
   "source": [
    "import shutil\n",
    "from datetime import datetime\n",
    "from ioos_tools.ioos import parse_config\n",
    "\n",
    "config = parse_config('config.yaml')\n",
    "\n",
    "# Saves downloaded data into a temporary directory.\n",
    "save_dir = os.path.abspath(config['run_name'])\n",
    "if os.path.exists(save_dir):\n",
    "    shutil.rmtree(save_dir)\n",
    "os.makedirs(save_dir)\n",
    "\n",
    "fmt = '{:*^64}'.format\n",
    "print(fmt('Saving data inside directory {}'.format(save_dir)))\n",
    "print(fmt(' Run information '))\n",
    "print('Run date: {:%Y-%m-%d %H:%M:%S}'.format(datetime.utcnow()))\n",
    "print('Start: {:%Y-%m-%d %H:%M:%S}'.format(config['date']['start']))\n",
    "print('Stop: {:%Y-%m-%d %H:%M:%S}'.format(config['date']['stop']))\n",
    "print('Bounding box: {0:3.2f}, {1:3.2f},'\n",
    "      '{2:3.2f}, {3:3.2f}'.format(*config['region']['bbox']))"
   ]
  },
  {
   "cell_type": "markdown",
   "metadata": {},
   "source": [
    "We already created an `OWSLib.fes` filter [before](https://ioos.github.io/notebooks_demos//notebooks/2016-12-19-exploring_csw).\n",
    "The main difference here is that we do not want the atmosphere model data,\n",
    "so we are filtering out all the `GRIB-2` data format."
   ]
  },
  {
   "cell_type": "code",
   "execution_count": 4,
   "metadata": {
    "collapsed": true
   },
   "outputs": [],
   "source": [
    "def make_filter(config):\n",
    "    from owslib import fes\n",
    "    from ioos_tools.ioos import fes_date_filter\n",
    "    kw = dict(wildCard='*', escapeChar='\\\\',\n",
    "              singleChar='?', propertyname='apiso:AnyText')\n",
    "\n",
    "    or_filt = fes.Or([fes.PropertyIsLike(literal=('*%s*' % val), **kw)\n",
    "                      for val in config['cf_names']])\n",
    "\n",
    "    not_filt = fes.Not([fes.PropertyIsLike(literal='GRIB-2', **kw)])\n",
    "\n",
    "    begin, end = fes_date_filter(config['date']['start'],\n",
    "                                 config['date']['stop'])\n",
    "    bbox_crs = fes.BBox(config['region']['bbox'],\n",
    "                        crs=config['region']['crs'])\n",
    "    filter_list = [fes.And([bbox_crs, begin, end, or_filt, not_filt])]\n",
    "    return filter_list\n",
    "\n",
    "\n",
    "filter_list = make_filter(config)"
   ]
  },
  {
   "cell_type": "markdown",
   "metadata": {},
   "source": [
    "In the cell below we ask the catalog for all the returns that match the filter and have an OPeNDAP endpoint."
   ]
  },
  {
   "cell_type": "code",
   "execution_count": 5,
   "metadata": {
    "code_folding": [],
    "scrolled": false
   },
   "outputs": [
    {
     "name": "stdout",
     "output_type": "stream",
     "text": [
      "********************* Catalog information **********************\n",
      "URL: https://data.ioos.us/csw\n",
      "OPeNDAP\n",
      "http://oos.soest.hawaii.edu/thredds/dodsC/hioos/satellite/dhw_5km\n",
      "http://oos.soest.hawaii.edu/thredds/dodsC/pacioos/hycom/global\n",
      "http://thredds.cdip.ucsd.edu/thredds/dodsC/cdip/realtime/162p1_rt.nc\n",
      "http://thredds.cdip.ucsd.edu/thredds/dodsC/cdip/realtime/166p1_rt.nc\n",
      "http://thredds.cdip.ucsd.edu/thredds/dodsC/cdip/realtime/201p1_rt.nc\n",
      "http://thredds.cdip.ucsd.edu/thredds/dodsC/cdip/realtime/204p1_rt.nc\n",
      "http://thredds.cdip.ucsd.edu/thredds/dodsC/cdip/realtime/231p1_rt.nc\n",
      "http://thredds.secoora.org/thredds/dodsC/G1_SST_GLOBAL.nc\n",
      "http://thredds.secoora.org/thredds/dodsC/SECOORA_NCSU_CNAPS.nc\n",
      "http://www.neracoos.org/thredds/dodsC/UMO/DSG/SOS/A01/Accelerometer/HistoricRealtime/Agg.ncml\n",
      "http://www.smast.umassd.edu:8080/thredds/dodsC/FVCOM/NECOFS/Forecasts/NECOFS_FVCOM_OCEAN_BOSTON_FORECAST.nc\n",
      "http://www.smast.umassd.edu:8080/thredds/dodsC/FVCOM/NECOFS/Forecasts/NECOFS_FVCOM_OCEAN_MASSBAY_FORECAST.nc\n",
      "http://www.smast.umassd.edu:8080/thredds/dodsC/FVCOM/NECOFS/Forecasts/NECOFS_FVCOM_OCEAN_SCITUATE_FORECAST.nc\n",
      "http://www.smast.umassd.edu:8080/thredds/dodsC/FVCOM/NECOFS/Forecasts/NECOFS_GOM3_FORECAST.nc\n",
      "Number of datasets available: 20\n",
      "Directional wave and sea surface temperature measurements collected in situ by Datawell Mark 3 directional buoy located near OCEAN STATION PAPA from 2015/01/01 01:00:00 to 2017/08/13 17:40:59.\n",
      "Directional wave and sea surface temperature measurements collected in situ by Datawell Mark 3 directional buoy located near SCRIPPS NEARSHORE, CA from 2015/01/07 23:00:00 to 2017/08/15 18:00:32.\n",
      "G1SST, 1km blended SST\n",
      "HYbrid Coordinate Ocean Model (HYCOM): Global\n",
      "NECOFS (FVCOM) - Scituate - Latest Forecast\n",
      "NECOFS GOM3 (FVCOM) - Northeast US - Latest Forecast\n",
      "NECOFS Massachusetts (FVCOM) - Boston - Latest Forecast\n",
      "NECOFS Massachusetts (FVCOM) - Massachusetts Coastal - Latest Forecast\n",
      "NERACOOS Gulf of Maine Ocean Array: Realtime Buoy Observations: A01 Massachusetts Bay: A01 ACCELEROMETER Massachusetts Bay\n",
      "NOAA Coral Reef Watch Operational Daily Near-Real-Time Global 5-km Satellite Coral Bleaching Monitoring Products\n",
      "A01 Accelerometer - Waves\n",
      "A01 Directional Waves (waves.mstrain Experimental)\n",
      "A01 Met - Meteorology\n",
      "A01 Optode - Oxygen\n",
      "A01 Sbe37 - CTD\n",
      "COAWST Modeling System: USEast: ROMS-WRF-SWAN coupled model (aka CNAPS)\n",
      "Coupled Northwest Atlantic Prediction System (CNAPS)\n",
      "Directional wave and sea surface temperature measurements collected in situ by Datawell Mark 3 directional buoy located near CLATSOP SPIT, OR from 2016/10/12 17:00:00 to 2017/08/15 17:31:29.\n",
      "Directional wave and sea surface temperature measurements collected in situ by Datawell Mark 3 directional buoy located near LAKESIDE, OR from 2017/03/31 23:00:00 to 2017/08/15 17:32:02.\n",
      "Directional wave and sea surface temperature measurements collected in situ by Datawell Mark 3 directional buoy located near LOWER COOK INLET, AK from 2016/12/16 00:00:00 to 2017/08/13 18:09:42.\n",
      "\n",
      "\n"
     ]
    }
   ],
   "source": [
    "from ioos_tools.ioos import service_urls, get_csw_records\n",
    "from owslib.csw import CatalogueServiceWeb\n",
    "\n",
    "\n",
    "dap_urls = []\n",
    "print(fmt(' Catalog information '))\n",
    "for endpoint in config['catalogs']:\n",
    "    print('URL: {}'.format(endpoint))\n",
    "    try:\n",
    "        csw = CatalogueServiceWeb(endpoint, timeout=120)\n",
    "    except Exception as e:\n",
    "        print('{}'.format(e))\n",
    "        continue\n",
    "    csw = get_csw_records(csw, filter_list, esn='full')\n",
    "    OPeNDAP = service_urls(csw.records, identifier='OPeNDAP:OPeNDAP')\n",
    "    \n",
    "    \n",
    "    \n",
    "    \n",
    "    print('OPeNDAP')\n",
    "    for url in OPeNDAP: \n",
    "        print('{}'.format(url))\n",
    "        #let's just filter out a few models with incomplete forecasts:\n",
    "        if 'dhw_5km' in url or 'G1_SST_GLOBAL' in url: continue\n",
    "        dap_urls.append(url)\n",
    "    \n",
    "        \n",
    "    #dap_urls.extend(OPeNDAP)\n",
    "    #print('dap_urls')\n",
    "    #for url in dap_urls:\n",
    "    #    print('{}.html'.format(url))\n",
    "\n",
    "    print('Number of datasets available: {}'.format(len(csw.records.keys())))\n",
    "\n",
    "    for rec, item in csw.records.items():\n",
    "        print('{}'.format(item.title))\n",
    "    #if OPeNDAP:\n",
    "    #    print(fmt(' OPeNDAP '))\n",
    "    #    for url in OPeNDAP:\n",
    "    #        print('{}.html'.format(url))\n",
    "            \n",
    "    print('\\n')\n",
    "\n",
    "# Get only unique endpoints.\n",
    "#dap_urls = list(set(dap_urls))\n",
    "dap_urls = list(dap_urls)"
   ]
  },
  {
   "cell_type": "markdown",
   "metadata": {},
   "source": [
    "We found some models, and observations from NERACOOS there.\n",
    "However, we do know that there are some buoys from NDBC and CO-OPS available too.\n",
    "Also, those NERACOOS observations seem to be from a [CTD](http://www.neracoos.org/thredds/dodsC/UMO/DSG/SOS/A01/CTD1m/HistoricRealtime/Agg.ncml.html) mounted at 65 meters below the sea surface. Rendering them useless from our purpose.\n",
    "\n",
    "So let's use the catalog only for the models by filtering the observations with `is_station` below.\n",
    "And we'll rely `CO-OPS` and `NDBC` services for the observations."
   ]
  },
  {
   "cell_type": "code",
   "execution_count": 6,
   "metadata": {},
   "outputs": [
    {
     "name": "stdout",
     "output_type": "stream",
     "text": [
      "************************* Filtered DAP *************************\n",
      "http://oos.soest.hawaii.edu/thredds/dodsC/pacioos/hycom/global.html\n",
      "http://thredds.secoora.org/thredds/dodsC/SECOORA_NCSU_CNAPS.nc.html\n",
      "http://www.smast.umassd.edu:8080/thredds/dodsC/FVCOM/NECOFS/Forecasts/NECOFS_FVCOM_OCEAN_BOSTON_FORECAST.nc.html\n",
      "http://www.smast.umassd.edu:8080/thredds/dodsC/FVCOM/NECOFS/Forecasts/NECOFS_FVCOM_OCEAN_MASSBAY_FORECAST.nc.html\n",
      "http://www.smast.umassd.edu:8080/thredds/dodsC/FVCOM/NECOFS/Forecasts/NECOFS_FVCOM_OCEAN_SCITUATE_FORECAST.nc.html\n",
      "http://www.smast.umassd.edu:8080/thredds/dodsC/FVCOM/NECOFS/Forecasts/NECOFS_GOM3_FORECAST.nc.html\n"
     ]
    }
   ],
   "source": [
    "from ioos_tools.ioos import is_station\n",
    "\n",
    "# Filter out some station endpoints.\n",
    "non_stations = []\n",
    "for url in dap_urls:\n",
    "    try:\n",
    "        if not is_station(url):\n",
    "            non_stations.append(url)\n",
    "    except (RuntimeError, OSError, IOError) as e:\n",
    "        print('Could not access URL {}. {!r}'.format(url, e))\n",
    "\n",
    "dap_urls = non_stations\n",
    "\n",
    "print(fmt(' Filtered DAP '))\n",
    "for url in dap_urls:\n",
    "    print('{}.html'.format(url))"
   ]
  },
  {
   "cell_type": "markdown",
   "metadata": {},
   "source": [
    "Now we can use `pyoos` collectors for `NdbcSos`,"
   ]
  },
  {
   "cell_type": "code",
   "execution_count": 7,
   "metadata": {},
   "outputs": [
    {
     "name": "stdout",
     "output_type": "stream",
     "text": [
      "******************* NDBC Collector offerings *******************\n",
      "National Data Buoy Center SOS: 992 offerings\n"
     ]
    }
   ],
   "source": [
    "from pyoos.collectors.ndbc.ndbc_sos import NdbcSos\n",
    "\n",
    "collector_ndbc = NdbcSos()\n",
    "\n",
    "collector_ndbc.set_bbox(config['region']['bbox'])\n",
    "collector_ndbc.end_time = config['date']['stop']\n",
    "collector_ndbc.start_time = config['date']['start']\n",
    "collector_ndbc.variables = [config['sos_name']]\n",
    "\n",
    "ofrs = collector_ndbc.server.offerings\n",
    "title = collector_ndbc.server.identification.title\n",
    "print(fmt(' NDBC Collector offerings '))\n",
    "print('{}: {} offerings'.format(title, len(ofrs)))"
   ]
  },
  {
   "cell_type": "code",
   "execution_count": 8,
   "metadata": {},
   "outputs": [
    {
     "data": {
      "text/html": [
       "<div>\n",
       "<style>\n",
       "    .dataframe thead tr:only-child th {\n",
       "        text-align: right;\n",
       "    }\n",
       "\n",
       "    .dataframe thead th {\n",
       "        text-align: left;\n",
       "    }\n",
       "\n",
       "    .dataframe tbody tr th {\n",
       "        vertical-align: top;\n",
       "    }\n",
       "</style>\n",
       "<table border=\"1\" class=\"dataframe\">\n",
       "  <thead>\n",
       "    <tr style=\"text-align: right;\">\n",
       "      <th></th>\n",
       "      <th>depth</th>\n",
       "      <th>lat</th>\n",
       "      <th>lon</th>\n",
       "      <th>sensor</th>\n",
       "      <th>station_name</th>\n",
       "    </tr>\n",
       "    <tr>\n",
       "      <th>station_code</th>\n",
       "      <th></th>\n",
       "      <th></th>\n",
       "      <th></th>\n",
       "      <th></th>\n",
       "      <th></th>\n",
       "    </tr>\n",
       "  </thead>\n",
       "  <tbody>\n",
       "    <tr>\n",
       "      <th>44013</th>\n",
       "      <td>0.6</td>\n",
       "      <td>42.346</td>\n",
       "      <td>-70.651</td>\n",
       "      <td>urn:ioos:sensor:wmo:44013::watertemp1</td>\n",
       "      <td>BOSTON 16 NM East of Boston, MA</td>\n",
       "    </tr>\n",
       "  </tbody>\n",
       "</table>\n",
       "</div>"
      ],
      "text/plain": [
       "              depth     lat     lon                                 sensor  \\\n",
       "station_code                                                                 \n",
       "44013           0.6  42.346 -70.651  urn:ioos:sensor:wmo:44013::watertemp1   \n",
       "\n",
       "                                 station_name  \n",
       "station_code                                   \n",
       "44013         BOSTON 16 NM East of Boston, MA  "
      ]
     },
     "execution_count": 8,
     "metadata": {},
     "output_type": "execute_result"
    }
   ],
   "source": [
    "import pandas as pd\n",
    "from ioos_tools.ioos import collector2table\n",
    "\n",
    "ndbc = collector2table(collector=collector_ndbc,\n",
    "                       config=config,\n",
    "                       col='sea_water_temperature (C)')\n",
    "\n",
    "if ndbc:\n",
    "    data = dict(\n",
    "        station_name=[s._metadata.get('station_name') for s in ndbc],\n",
    "        station_code=[s._metadata.get('station_code') for s in ndbc],\n",
    "        sensor=[s._metadata.get('sensor') for s in ndbc],\n",
    "        lon=[s._metadata.get('lon') for s in ndbc],\n",
    "        lat=[s._metadata.get('lat') for s in ndbc],\n",
    "        depth=[s._metadata.get('depth') for s in ndbc],\n",
    "    )\n",
    "\n",
    "table = pd.DataFrame(data).set_index('station_code')\n",
    "table"
   ]
  },
  {
   "cell_type": "markdown",
   "metadata": {},
   "source": [
    "and `CoopsSos`."
   ]
  },
  {
   "cell_type": "code",
   "execution_count": 9,
   "metadata": {},
   "outputs": [
    {
     "name": "stdout",
     "output_type": "stream",
     "text": [
      "********************* Collector offerings **********************\n",
      "NOAA.NOS.CO-OPS SOS: 1187 offerings\n"
     ]
    }
   ],
   "source": [
    "from pyoos.collectors.coops.coops_sos import CoopsSos\n",
    "\n",
    "collector_coops = CoopsSos()\n",
    "\n",
    "collector_coops.set_bbox(config['region']['bbox'])\n",
    "collector_coops.end_time = config['date']['stop']\n",
    "collector_coops.start_time = config['date']['start']\n",
    "collector_coops.variables = [config['sos_name']]\n",
    "\n",
    "ofrs = collector_coops.server.offerings\n",
    "title = collector_coops.server.identification.title\n",
    "print(fmt(' Collector offerings '))\n",
    "print('{}: {} offerings'.format(title, len(ofrs)))"
   ]
  },
  {
   "cell_type": "code",
   "execution_count": 10,
   "metadata": {
    "scrolled": true
   },
   "outputs": [
    {
     "data": {
      "text/html": [
       "<div>\n",
       "<style>\n",
       "    .dataframe thead tr:only-child th {\n",
       "        text-align: right;\n",
       "    }\n",
       "\n",
       "    .dataframe thead th {\n",
       "        text-align: left;\n",
       "    }\n",
       "\n",
       "    .dataframe tbody tr th {\n",
       "        vertical-align: top;\n",
       "    }\n",
       "</style>\n",
       "<table border=\"1\" class=\"dataframe\">\n",
       "  <thead>\n",
       "    <tr style=\"text-align: right;\">\n",
       "      <th></th>\n",
       "      <th>depth</th>\n",
       "      <th>lat</th>\n",
       "      <th>lon</th>\n",
       "      <th>sensor</th>\n",
       "      <th>station_name</th>\n",
       "    </tr>\n",
       "    <tr>\n",
       "      <th>station_code</th>\n",
       "      <th></th>\n",
       "      <th></th>\n",
       "      <th></th>\n",
       "      <th></th>\n",
       "      <th></th>\n",
       "    </tr>\n",
       "  </thead>\n",
       "  <tbody>\n",
       "    <tr>\n",
       "      <th>44013</th>\n",
       "      <td>0.6</td>\n",
       "      <td>42.346</td>\n",
       "      <td>-70.651</td>\n",
       "      <td>urn:ioos:sensor:wmo:44013::watertemp1</td>\n",
       "      <td>BOSTON 16 NM East of Boston, MA</td>\n",
       "    </tr>\n",
       "  </tbody>\n",
       "</table>\n",
       "</div>"
      ],
      "text/plain": [
       "              depth     lat     lon                                 sensor  \\\n",
       "station_code                                                                 \n",
       "44013           0.6  42.346 -70.651  urn:ioos:sensor:wmo:44013::watertemp1   \n",
       "\n",
       "                                 station_name  \n",
       "station_code                                   \n",
       "44013         BOSTON 16 NM East of Boston, MA  "
      ]
     },
     "execution_count": 10,
     "metadata": {},
     "output_type": "execute_result"
    }
   ],
   "source": [
    "coops = collector2table(collector=collector_coops,\n",
    "                        config=config,\n",
    "                        col='sea_water_temperature (C)')\n",
    "\n",
    "if coops:\n",
    "    data = dict(\n",
    "        station_name=[s._metadata.get('station_name') for s in coops],\n",
    "        station_code=[s._metadata.get('station_code') for s in coops],\n",
    "        sensor=[s._metadata.get('sensor') for s in coops],\n",
    "        lon=[s._metadata.get('lon') for s in coops],\n",
    "        lat=[s._metadata.get('lat') for s in coops],\n",
    "        depth=[s._metadata.get('depth') for s in coops],\n",
    "    )\n",
    "\n",
    "table = pd.DataFrame(data).set_index('station_code')\n",
    "table"
   ]
  },
  {
   "cell_type": "markdown",
   "metadata": {},
   "source": [
    "We will join all the observations into an uniform series, interpolated to 1-hour interval, for the model-data comparison.\n",
    "\n",
    "This step is necessary because the observations can be 7 or 10 minutes resolution,\n",
    "while the models can be 30 to 60 minutes."
   ]
  },
  {
   "cell_type": "code",
   "execution_count": 11,
   "metadata": {
    "collapsed": true,
    "scrolled": true
   },
   "outputs": [],
   "source": [
    "data = ndbc + coops\n",
    "\n",
    "index = pd.date_range(start=config['date']['start'].replace(tzinfo=None),\n",
    "                      end=config['date']['stop'].replace(tzinfo=None),\n",
    "                      freq='1H')\n",
    "\n",
    "# Preserve metadata with `reindex`.\n",
    "observations = []\n",
    "for series in data:\n",
    "    _metadata = series._metadata\n",
    "    obs = series.reindex(index=index, limit=1, method='nearest')\n",
    "    obs._metadata = _metadata\n",
    "    observations.append(obs)"
   ]
  },
  {
   "cell_type": "markdown",
   "metadata": {},
   "source": [
    "In this next cell we will save the data for quicker access later."
   ]
  },
  {
   "cell_type": "code",
   "execution_count": 12,
   "metadata": {
    "collapsed": true,
    "scrolled": false
   },
   "outputs": [],
   "source": [
    "import iris\n",
    "from ioos_tools.tardis import series2cube\n",
    "\n",
    "attr = dict(\n",
    "    featureType='timeSeries',\n",
    "    Conventions='CF-1.6',\n",
    "    standard_name_vocabulary='CF-1.6',\n",
    "    cdm_data_type='Station',\n",
    "    comment='Data from http://opendap.co-ops.nos.noaa.gov'\n",
    ")\n",
    "\n",
    "\n",
    "cubes = iris.cube.CubeList(\n",
    "    [series2cube(obs, attr=attr) for obs in observations]\n",
    ")\n",
    "\n",
    "outfile = os.path.join(save_dir, 'OBS_DATA.nc')\n",
    "iris.save(cubes, outfile)"
   ]
  },
  {
   "cell_type": "markdown",
   "metadata": {},
   "source": [
    "Taking a quick look at the observations:"
   ]
  },
  {
   "cell_type": "code",
   "execution_count": 13,
   "metadata": {},
   "outputs": [
    {
     "data": {
      "image/png": "[encoded data removed]",
      "text/plain": [
       "<matplotlib.figure.Figure at 0x7f561a8c0a20>"
      ]
     },
     "metadata": {},
     "output_type": "display_data"
    }
   ],
   "source": [
    "%matplotlib inline\n",
    "\n",
    "ax = pd.concat(data).plot(figsize=(11, 2.25))"
   ]
  },
  {
   "cell_type": "markdown",
   "metadata": {},
   "source": [
    "Now it is time to loop the models we found above,"
   ]
  },
  {
   "cell_type": "code",
   "execution_count": 14,
   "metadata": {},
   "outputs": [
    {
     "name": "stdout",
     "output_type": "stream",
     "text": [
      "**************************** Models ****************************\n",
      "\n",
      "[Reading url 1/6]: http://oos.soest.hawaii.edu/thredds/dodsC/pacioos/hycom/global\n",
      "\n",
      "[Reading url 2/6]: http://thredds.secoora.org/thredds/dodsC/SECOORA_NCSU_CNAPS.nc\n",
      "\n",
      "[Reading url 3/6]: http://www.smast.umassd.edu:8080/thredds/dodsC/FVCOM/NECOFS/Forecasts/NECOFS_FVCOM_OCEAN_BOSTON_FORECAST.nc\n",
      "\n",
      "[Reading url 4/6]: http://www.smast.umassd.edu:8080/thredds/dodsC/FVCOM/NECOFS/Forecasts/NECOFS_FVCOM_OCEAN_MASSBAY_FORECAST.nc\n",
      "\n",
      "[Reading url 5/6]: http://www.smast.umassd.edu:8080/thredds/dodsC/FVCOM/NECOFS/Forecasts/NECOFS_FVCOM_OCEAN_SCITUATE_FORECAST.nc\n",
      "\n",
      "[Reading url 6/6]: http://www.smast.umassd.edu:8080/thredds/dodsC/FVCOM/NECOFS/Forecasts/NECOFS_GOM3_FORECAST.nc\n"
     ]
    }
   ],
   "source": [
    "from iris.exceptions import (CoordinateNotFoundError, ConstraintMismatchError,\n",
    "                             MergeError)\n",
    "from ioos_tools.ioos import get_model_name\n",
    "from ioos_tools.tardis import quick_load_cubes, proc_cube, is_model, get_surface\n",
    "\n",
    "print(fmt(' Models '))\n",
    "cubes = dict()\n",
    "for k, url in enumerate(dap_urls):\n",
    "    print('\\n[Reading url {}/{}]: {}'.format(k+1, len(dap_urls), url))\n",
    "    try:\n",
    "        cube = quick_load_cubes(url, config['cf_names'],\n",
    "                                callback=None, strict=True)\n",
    "        if is_model(cube):\n",
    "            cube = proc_cube(cube,\n",
    "                             bbox=config['region']['bbox'],\n",
    "                             time=(config['date']['start'],\n",
    "                                   config['date']['stop']),\n",
    "                             units=config['units'])\n",
    "        else:\n",
    "            print('[Not model data]: {}'.format(url))\n",
    "            continue\n",
    "        cube = get_surface(cube)\n",
    "        mod_name = get_model_name(url)\n",
    "        cubes.update({mod_name: cube})\n",
    "    except (RuntimeError, ValueError,\n",
    "            ConstraintMismatchError, CoordinateNotFoundError,\n",
    "            IndexError) as e:\n",
    "        print('Cannot get cube for: {}\\n{}'.format(url, e))"
   ]
  },
  {
   "cell_type": "markdown",
   "metadata": {},
   "source": [
    "Next, we will match them with the nearest observed time-series. The `max_dist=0.08` is in degrees, that is roughly 8 kilometers."
   ]
  },
  {
   "cell_type": "code",
   "execution_count": 15,
   "metadata": {},
   "outputs": [
    {
     "name": "stdout",
     "output_type": "stream",
     "text": [
      " Downloading to file /home/mwengren/workspace/code/git/ioos/notebooks_demos/notebooks/latest/pacioos_hycom-global.nc \n",
      "[Water  ] BOSTON 16 NM East of Boston, MA\n",
      "Finished processing [pacioos_hycom-global]\n",
      " Downloading to file /home/mwengren/workspace/code/git/ioos/notebooks_demos/notebooks/latest/SECOORA_NCSU_CNAPS.nc \n",
      "[Water  ] BOSTON 16 NM East of Boston, MA\n",
      "Finished processing [SECOORA_NCSU_CNAPS]\n",
      " Downloading to file /home/mwengren/workspace/code/git/ioos/notebooks_demos/notebooks/latest/Forecasts-NECOFS_FVCOM_OCEAN_BOSTON_FORECAST.nc \n",
      "[No Data] BOSTON 16 NM East of Boston, MA\n",
      "Finished processing [Forecasts-NECOFS_FVCOM_OCEAN_BOSTON_FORECAST]\n",
      " Downloading to file /home/mwengren/workspace/code/git/ioos/notebooks_demos/notebooks/latest/Forecasts-NECOFS_FVCOM_OCEAN_MASSBAY_FORECAST.nc \n",
      "[Water  ] BOSTON 16 NM East of Boston, MA\n",
      "Finished processing [Forecasts-NECOFS_FVCOM_OCEAN_MASSBAY_FORECAST]\n",
      " Downloading to file /home/mwengren/workspace/code/git/ioos/notebooks_demos/notebooks/latest/Forecasts-NECOFS_FVCOM_OCEAN_SCITUATE_FORECAST.nc \n",
      "[No Data] BOSTON 16 NM East of Boston, MA\n",
      "Finished processing [Forecasts-NECOFS_FVCOM_OCEAN_SCITUATE_FORECAST]\n",
      " Downloading to file /home/mwengren/workspace/code/git/ioos/notebooks_demos/notebooks/latest/FVCOM_Forecasts-NECOFS_GOM3_FORECAST.nc \n",
      "[Water  ] BOSTON 16 NM East of Boston, MA\n",
      "Finished processing [FVCOM_Forecasts-NECOFS_GOM3_FORECAST]\n"
     ]
    }
   ],
   "source": [
    "import iris\n",
    "from iris.pandas import as_series\n",
    "from ioos_tools.tardis import (make_tree, get_nearest_water,\n",
    "                               add_station, ensure_timeseries, remove_ssh)\n",
    "\n",
    "for mod_name, cube in cubes.items():\n",
    "    fname = '{}.nc'.format(mod_name)\n",
    "    fname = os.path.join(save_dir, fname)\n",
    "    print(fmt(' Downloading to file {} '.format(fname)))\n",
    "    try:\n",
    "        tree, lon, lat = make_tree(cube)\n",
    "    except CoordinateNotFoundError as e:\n",
    "        print('Cannot make KDTree for: {}'.format(mod_name))\n",
    "        continue\n",
    "    # Get model series at observed locations.\n",
    "    raw_series = dict()\n",
    "    for obs in observations:\n",
    "        obs = obs._metadata\n",
    "        station = obs['station_code']\n",
    "        try:\n",
    "            kw = dict(k=10, max_dist=0.08, min_var=0.01)\n",
    "            args = cube, tree, obs['lon'], obs['lat']\n",
    "            try:\n",
    "                series, dist, idx = get_nearest_water(*args, **kw)\n",
    "            except RuntimeError as e:\n",
    "                print('Cannot download {!r}.\\n{}'.format(cube, e))\n",
    "                series = None\n",
    "        except ValueError as e:\n",
    "            status = 'No Data'\n",
    "            print('[{}] {}'.format(status, obs['station_name']))\n",
    "            continue\n",
    "        if not series:\n",
    "            status = 'Land   '\n",
    "        else:\n",
    "            raw_series.update({station: series})\n",
    "            series = as_series(series)\n",
    "            status = 'Water  '\n",
    "        print('[{}] {}'.format(status, obs['station_name']))\n",
    "    if raw_series:  # Save cube.\n",
    "        for station, cube in raw_series.items():\n",
    "            cube = add_station(cube, station)\n",
    "            cube = remove_ssh(cube)\n",
    "        try:\n",
    "            cube = iris.cube.CubeList(raw_series.values()).merge_cube()\n",
    "        except MergeError as e:\n",
    "            print(e)\n",
    "        ensure_timeseries(cube)\n",
    "        try:\n",
    "            iris.save(cube, fname)\n",
    "        except AttributeError:\n",
    "            # FIXME: we should patch the bad attribute instead of removing everything.\n",
    "            cube.attributes = {}\n",
    "            iris.save(cube, fname)\n",
    "        del cube\n",
    "    print('Finished processing [{}]'.format(mod_name))"
   ]
  },
  {
   "cell_type": "markdown",
   "metadata": {},
   "source": [
    "Now it is possible to compute some simple comparison metrics. First we'll calculate the model mean bias:\n",
    "\n",
    "$$ \\text{MB} = \\mathbf{\\overline{m}} - \\mathbf{\\overline{o}}$$"
   ]
  },
  {
   "cell_type": "code",
   "execution_count": 16,
   "metadata": {
    "collapsed": true
   },
   "outputs": [],
   "source": [
    "from ioos_tools.ioos import stations_keys\n",
    "\n",
    "\n",
    "def rename_cols(df, config):\n",
    "    cols = stations_keys(config, key='station_name')\n",
    "    return df.rename(columns=cols)"
   ]
  },
  {
   "cell_type": "code",
   "execution_count": 17,
   "metadata": {
    "collapsed": true,
    "scrolled": false
   },
   "outputs": [],
   "source": [
    "from ioos_tools.ioos import load_ncs\n",
    "from ioos_tools.skill_score import mean_bias, apply_skill\n",
    "\n",
    "dfs = load_ncs(config)\n",
    "\n",
    "df = apply_skill(dfs, mean_bias, remove_mean=False, filter_tides=False)\n",
    "skill_score = dict(mean_bias=df.to_dict())\n",
    "\n",
    "# Filter out stations with no valid comparison.\n",
    "df.dropna(how='all', axis=1, inplace=True)\n",
    "df = df.applymap('{:.2f}'.format).replace('nan', '--')"
   ]
  },
  {
   "cell_type": "markdown",
   "metadata": {},
   "source": [
    "And the root mean squared rrror of the deviations from the mean:\n",
    "$$ \\text{CRMS} = \\sqrt{\\left(\\mathbf{m'} - \\mathbf{o'}\\right)^2}$$\n",
    "\n",
    "where: $\\mathbf{m'} = \\mathbf{m} - \\mathbf{\\overline{m}}$ and $\\mathbf{o'} = \\mathbf{o} - \\mathbf{\\overline{o}}$"
   ]
  },
  {
   "cell_type": "code",
   "execution_count": 18,
   "metadata": {
    "collapsed": true
   },
   "outputs": [],
   "source": [
    "from ioos_tools.skill_score import rmse\n",
    "\n",
    "dfs = load_ncs(config)\n",
    "\n",
    "df = apply_skill(dfs, rmse, remove_mean=True, filter_tides=False)\n",
    "skill_score['rmse'] = df.to_dict()\n",
    "\n",
    "# Filter out stations with no valid comparison.\n",
    "df.dropna(how='all', axis=1, inplace=True)\n",
    "df = df.applymap('{:.2f}'.format).replace('nan', '--')"
   ]
  },
  {
   "cell_type": "markdown",
   "metadata": {},
   "source": [
    "The next 2 cells make the scores \"pretty\" for plotting."
   ]
  },
  {
   "cell_type": "code",
   "execution_count": 19,
   "metadata": {
    "collapsed": true
   },
   "outputs": [],
   "source": [
    "import pandas as pd\n",
    "\n",
    "# Stringfy keys.\n",
    "for key in skill_score.keys():\n",
    "    skill_score[key] = {str(k): v for k, v in skill_score[key].items()}\n",
    "\n",
    "mean_bias = pd.DataFrame.from_dict(skill_score['mean_bias'])\n",
    "mean_bias = mean_bias.applymap('{:.2f}'.format).replace('nan', '--')\n",
    "\n",
    "skill_score = pd.DataFrame.from_dict(skill_score['rmse'])\n",
    "skill_score = skill_score.applymap('{:.2f}'.format).replace('nan', '--')"
   ]
  },
  {
   "cell_type": "code",
   "execution_count": 20,
   "metadata": {
    "collapsed": true
   },
   "outputs": [],
   "source": [
    "from ioos_tools.ioos import make_map\n",
    "\n",
    "bbox = config['region']['bbox']\n",
    "units = config['units']\n",
    "run_name = config['run_name']\n",
    "\n",
    "kw = dict(zoom_start=11, line=True, states=False,\n",
    "          secoora_stations=False, layers=False)\n",
    "m = make_map(bbox, **kw)"
   ]
  },
  {
   "cell_type": "markdown",
   "metadata": {},
   "source": [
    "The cells from `[20]` to `[25]` create a [`folium`](https://github.com/python-visualization/folium) map with [`bokeh`](http://bokeh.pydata.org/en/latest/) for the time-series at the observed points.\n",
    "\n",
    "Note that we did mark the nearest model cell location used in the comparison."
   ]
  },
  {
   "cell_type": "code",
   "execution_count": 21,
   "metadata": {},
   "outputs": [
    {
     "data": {
      "text/plain": [
       "<folium.plugins.marker_cluster.MarkerCluster at 0x7f561132fa90>"
      ]
     },
     "execution_count": 21,
     "metadata": {},
     "output_type": "execute_result"
    }
   ],
   "source": [
    "all_obs = stations_keys(config)\n",
    "\n",
    "from glob import glob\n",
    "from operator import itemgetter\n",
    "\n",
    "import iris\n",
    "import folium\n",
    "from folium.plugins import MarkerCluster\n",
    "\n",
    "iris.FUTURE.netcdf_promote = True\n",
    "\n",
    "big_list = []\n",
    "for fname in glob(os.path.join(save_dir, '*.nc')):\n",
    "    if 'OBS_DATA' in fname:\n",
    "        continue\n",
    "    cube = iris.load_cube(fname)\n",
    "    model = os.path.split(fname)[1].split('-')[-1].split('.')[0]\n",
    "    lons = cube.coord(axis='X').points\n",
    "    lats = cube.coord(axis='Y').points\n",
    "    stations = cube.coord('station_code').points\n",
    "    models = [model]*lons.size\n",
    "    lista = zip(models, lons.tolist(), lats.tolist(), stations.tolist())\n",
    "    big_list.extend(lista)\n",
    "\n",
    "big_list.sort(key=itemgetter(3))\n",
    "df = pd.DataFrame(big_list, columns=['name', 'lon', 'lat', 'station'])\n",
    "df.set_index('station', drop=True, inplace=True)\n",
    "groups = df.groupby(df.index)\n",
    "\n",
    "\n",
    "locations, popups = [], []\n",
    "for station, info in groups:\n",
    "    sta_name = all_obs[station]\n",
    "    for lat, lon, name in zip(info.lat, info.lon, info.name):\n",
    "        locations.append([lat, lon])\n",
    "        popups.append('[{}]: {}'.format(name, sta_name))\n",
    "\n",
    "MarkerCluster(locations=locations, popups=popups).add_to(m)"
   ]
  },
  {
   "cell_type": "markdown",
   "metadata": {},
   "source": [
    "Here we use a dictionary with some models we expect to find so we can create a better legend for the plots. If any new models are found, we will use its filename in the legend as a default until we can go back and add a short name to our library."
   ]
  },
  {
   "cell_type": "code",
   "execution_count": 22,
   "metadata": {
    "collapsed": true
   },
   "outputs": [],
   "source": [
    "titles = {\n",
    "    'coawst_4_use_best': 'COAWST_4',\n",
    "    'global': 'HYCOM',\n",
    "    'NECOFS_GOM3_FORECAST': 'NECOFS_GOM3',\n",
    "    'NECOFS_FVCOM_OCEAN_MASSBAY_FORECAST': 'NECOFS_MassBay',\n",
    "    'OBS_DATA': 'Observations'\n",
    "}"
   ]
  },
  {
   "cell_type": "code",
   "execution_count": 23,
   "metadata": {
    "collapsed": true
   },
   "outputs": [],
   "source": [
    "from bokeh.resources import CDN\n",
    "from bokeh.plotting import figure\n",
    "from bokeh.embed import file_html\n",
    "from bokeh.models import HoverTool\n",
    "from itertools import cycle\n",
    "from bokeh.palettes import Spectral6\n",
    "\n",
    "from folium import IFrame\n",
    "\n",
    "# Plot defaults.\n",
    "colors = Spectral6\n",
    "colorcycler = cycle(colors)\n",
    "tools = 'pan,box_zoom,reset'\n",
    "width, height = 750, 250\n",
    "\n",
    "\n",
    "def make_plot(df, station):\n",
    "    p = figure(toolbar_location='above',\n",
    "               x_axis_type='datetime',\n",
    "               width=width,\n",
    "               height=height,\n",
    "               tools=tools,\n",
    "               title=str(station))\n",
    "    for column, series in df.iteritems():\n",
    "        series.dropna(inplace=True)\n",
    "        if not series.empty:\n",
    "            line = p.line(\n",
    "                x=series.index,\n",
    "                y=series.values,\n",
    "                legend='%s' % titles.get(column, column),\n",
    "                line_color=next(colorcycler),\n",
    "                line_width=5,\n",
    "                line_cap='round',\n",
    "                line_join='round'\n",
    "            )\n",
    "            if 'OBS_DATA' not in column:\n",
    "                bias = mean_bias[str(station)][column]\n",
    "                skill = skill_score[str(station)][column]\n",
    "            else:\n",
    "                skill = bias = 'NA'\n",
    "            p.add_tools(HoverTool(tooltips=[('Name', '%s' % column),\n",
    "                                            ('Bias', bias),\n",
    "                                            ('Skill', skill)],\n",
    "                                  renderers=[line]))\n",
    "    return p\n",
    "\n",
    "\n",
    "def make_marker(p, station):\n",
    "    lons = stations_keys(config, key='lon')\n",
    "    lats = stations_keys(config, key='lat')\n",
    "\n",
    "    lon, lat = lons[station], lats[station]\n",
    "    html = file_html(p, CDN, station)\n",
    "    iframe = IFrame(html, width=width+40, height=height+80)\n",
    "\n",
    "    popup = folium.Popup(iframe, max_width=2650)\n",
    "    icon = folium.Icon(color='green', icon='stats')\n",
    "    marker = folium.Marker(location=[lat, lon],\n",
    "                           popup=popup,\n",
    "                           icon=icon)\n",
    "    return marker"
   ]
  },
  {
   "cell_type": "code",
   "execution_count": 24,
   "metadata": {
    "scrolled": true
   },
   "outputs": [
    {
     "data": {
      "text/html": [
       "<div style=\"width:100%;\"><div style=\"position:relative;width:100%;height:0;padding-bottom:60%;\"><iframe src=\"data:text/html;charset=utf-8;base64,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\" style=\"position:absolute;width:100%;height:100%;left:0;top:0;border:none !important;\" allowfullscreen webkitallowfullscreen mozallowfullscreen></iframe></div></div>"
      ],
      "text/plain": [
       "<folium.folium.Map at 0x7f561231add8>"
      ]
     },
     "execution_count": 24,
     "metadata": {},
     "output_type": "execute_result"
    }
   ],
   "source": [
    "dfs = load_ncs(config)\n",
    "\n",
    "for station in dfs:\n",
    "    sta_name = all_obs[station]\n",
    "    df = dfs[station]\n",
    "    if df.empty:\n",
    "        continue\n",
    "    p = make_plot(df, station)\n",
    "    maker = make_marker(p, station)\n",
    "    maker.add_to(m)\n",
    "\n",
    "m"
   ]
  },
  {
   "cell_type": "markdown",
   "metadata": {},
   "source": [
    "Now we can navigate the map and click on the markers to explorer our findings.\n",
    "\n",
    "The green markers locate the observations locations. They pop-up an interactive plot with the time-series and scores for the models (hover over the lines to se the scores). The blue markers indicate the nearest model grid point found for the comparison."
   ]
  },
  {
   "cell_type": "code",
   "execution_count": null,
   "metadata": {
    "collapsed": true
   },
   "outputs": [],
   "source": []
  }
 ],
 "metadata": {
  "anaconda-cloud": {},
  "kernelspec": {
   "display_name": "Python [default]",
   "language": "python",
   "name": "python3"
  },
  "language_info": {
   "codemirror_mode": {
    "name": "ipython",
    "version": 3
   },
   "file_extension": ".py",
   "mimetype": "text/x-python",
   "name": "python",
   "nbconvert_exporter": "python",
   "pygments_lexer": "ipython3",
   "version": "3.6.2"
  }
 },
 "nbformat": 4,
 "nbformat_minor": 1
}
