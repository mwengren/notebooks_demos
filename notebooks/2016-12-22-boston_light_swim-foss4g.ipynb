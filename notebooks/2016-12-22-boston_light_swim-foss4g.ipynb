{
 "cells": [
  {
   "cell_type": "markdown",
   "metadata": {},
   "source": [
    "# The Boston Light Swim temperature analysis with Python\n",
    "\n",
    "In the past we demonstrated how to perform a CSW catalog search with [`OWSLib`](https://ioos.github.io/notebooks_demos//notebooks/2016-12-19-exploring_csw),\n",
    "and how to obtain near real-time data with [`pyoos`](https://ioos.github.io/notebooks_demos//notebooks/2016-10-12-fetching_data).\n",
    "In this notebook we will use both to find all observations and model data around the Boston Harbor to access the sea water temperature.\n",
    "\n",
    "\n",
    "This workflow is part of an example to advise swimmers of the annual [Boston lighthouse swim](http://bostonlightswim.org/) of the Boston Harbor water temperature conditions prior to the race. For more information regarding the workflow presented here see [Signell, Richard P.; Fernandes, Filipe; Wilcox, Kyle.   2016. \"Dynamic Reusable Workflows for Ocean Science.\" *J. Mar. Sci. Eng.* 4, no. 4: 68](http://dx.doi.org/10.3390/jmse4040068).\n",
    "\n",
    "(This notebook uses a custom `ioos_tools` module that needs to be added to the path separately. We recommend cloning the [repository](https://github.com/ioos/notebooks_demos) on GitHub which already includes the most update version of `ioos_tools`.)"
   ]
  },
  {
   "cell_type": "code",
   "execution_count": 1,
   "metadata": {
    "collapsed": true
   },
   "outputs": [],
   "source": [
    "import os\n",
    "import sys\n",
    "import warnings\n",
    "\n",
    "ioos_tools = os.path.join(os.path.pardir)\n",
    "sys.path.append(ioos_tools)\n",
    "\n",
    "# Suppresing warnings for a \"pretty output.\"\n",
    "warnings.simplefilter('ignore')"
   ]
  },
  {
   "cell_type": "markdown",
   "metadata": {},
   "source": [
    "This notebook is quite big and complex,\n",
    "so to help us keep things organized we'll define a cell with the most important options and switches.\n",
    "\n",
    "Below we can define the date,\n",
    "bounding box, phenomena `SOS` and `CF` names and units,\n",
    "and the catalogs we will search."
   ]
  },
  {
   "cell_type": "code",
   "execution_count": 2,
   "metadata": {},
   "outputs": [
    {
     "name": "stdout",
     "output_type": "stream",
     "text": [
      "Overwriting config.yaml\n"
     ]
    }
   ],
   "source": [
    "%%writefile config.yaml\n",
    "\n",
    "# Specify a YYYY-MM-DD hh:mm:ss date or integer day offset.\n",
    "# If both start and stop are offsets they will be computed relative to datetime.today() at midnight.\n",
    "# Use the dates commented below to reproduce the last Boston Light Swim event forecast.\n",
    "date:\n",
    "    start: -5 # 2016-8-16 00:00:00\n",
    "    stop: +4 # 2016-8-29 00:00:00\n",
    "\n",
    "run_name: 'latest'\n",
    "\n",
    "# Boston harbor.\n",
    "region:\n",
    "    bbox: [-71.3, 42.03, -70.57, 42.63]\n",
    "    crs: 'urn:ogc:def:crs:OGC:1.3:CRS84'\n",
    "\n",
    "sos_name: 'sea_water_temperature'\n",
    "\n",
    "cf_names:\n",
    "    - sea_water_temperature\n",
    "    - sea_surface_temperature\n",
    "    - sea_water_potential_temperature\n",
    "    - equivalent_potential_temperature\n",
    "    - sea_water_conservative_temperature\n",
    "    - pseudo_equivalent_potential_temperature\n",
    "\n",
    "units: 'celsius'\n",
    "\n",
    "catalogs:\n",
    "    - https://data.ioos.us/csw"
   ]
  },
  {
   "cell_type": "markdown",
   "metadata": {},
   "source": [
    "We'll print some of the search configuration options along the way to keep track of them."
   ]
  },
  {
   "cell_type": "code",
   "execution_count": 3,
   "metadata": {},
   "outputs": [
    {
     "name": "stdout",
     "output_type": "stream",
     "text": [
      "Saving data inside directory C:\\dev\\git\\ioos\\notebooks_demos\\notebooks\\latest\n",
      "*********************** Run information ************************\n",
      "Run date: 2017-08-17 17:46:40\n",
      "Start: 2017-08-12 00:00:00\n",
      "Stop: 2017-08-21 00:00:00\n",
      "Bounding box: -71.30, 42.03,-70.57, 42.63\n"
     ]
    }
   ],
   "source": [
    "import shutil\n",
    "from datetime import datetime\n",
    "from ioos_tools.ioos import parse_config\n",
    "\n",
    "config = parse_config('config.yaml')\n",
    "\n",
    "# Saves downloaded data into a temporary directory.\n",
    "save_dir = os.path.abspath(config['run_name'])\n",
    "if os.path.exists(save_dir):\n",
    "    shutil.rmtree(save_dir)\n",
    "os.makedirs(save_dir)\n",
    "\n",
    "fmt = '{:*^64}'.format\n",
    "print(fmt('Saving data inside directory {}'.format(save_dir)))\n",
    "print(fmt(' Run information '))\n",
    "print('Run date: {:%Y-%m-%d %H:%M:%S}'.format(datetime.utcnow()))\n",
    "print('Start: {:%Y-%m-%d %H:%M:%S}'.format(config['date']['start']))\n",
    "print('Stop: {:%Y-%m-%d %H:%M:%S}'.format(config['date']['stop']))\n",
    "print('Bounding box: {0:3.2f}, {1:3.2f},'\n",
    "      '{2:3.2f}, {3:3.2f}'.format(*config['region']['bbox']))"
   ]
  },
  {
   "cell_type": "markdown",
   "metadata": {},
   "source": [
    "We already created an `OWSLib.fes` filter [before](https://ioos.github.io/notebooks_demos//notebooks/2016-12-19-exploring_csw).\n",
    "The main difference here is that we do not want the atmosphere model data,\n",
    "so we are filtering out all the `GRIB-2` data format."
   ]
  },
  {
   "cell_type": "code",
   "execution_count": 4,
   "metadata": {
    "collapsed": true
   },
   "outputs": [],
   "source": [
    "def make_filter(config):\n",
    "    from owslib import fes\n",
    "    from ioos_tools.ioos import fes_date_filter\n",
    "    kw = dict(wildCard='*', escapeChar='\\\\',\n",
    "              singleChar='?', propertyname='apiso:AnyText')\n",
    "\n",
    "    or_filt = fes.Or([fes.PropertyIsLike(literal=('*%s*' % val), **kw)\n",
    "                      for val in config['cf_names']])\n",
    "\n",
    "    not_filt = fes.Not([fes.PropertyIsLike(literal='GRIB-2', **kw)])\n",
    "\n",
    "    begin, end = fes_date_filter(config['date']['start'],\n",
    "                                 config['date']['stop'])\n",
    "    bbox_crs = fes.BBox(config['region']['bbox'],\n",
    "                        crs=config['region']['crs'])\n",
    "    filter_list = [fes.And([bbox_crs, begin, end, or_filt, not_filt])]\n",
    "    return filter_list\n",
    "\n",
    "\n",
    "filter_list = make_filter(config)"
   ]
  },
  {
   "cell_type": "markdown",
   "metadata": {},
   "source": [
    "In the cell below we ask the catalog for all the returns that match the filter and have an OPeNDAP endpoint."
   ]
  },
  {
   "cell_type": "code",
   "execution_count": 5,
   "metadata": {
    "code_folding": [],
    "scrolled": false
   },
   "outputs": [
    {
     "name": "stdout",
     "output_type": "stream",
     "text": [
      "********************* Catalog information **********************\n",
      "URL: https://data.ioos.us/csw\n",
      "OPeNDAP\n",
      "http://oos.soest.hawaii.edu/thredds/dodsC/hioos/satellite/dhw_5km\n",
      "http://oos.soest.hawaii.edu/thredds/dodsC/pacioos/hycom/global\n",
      "http://thredds.cdip.ucsd.edu/thredds/dodsC/cdip/realtime/162p1_rt.nc\n",
      "http://thredds.cdip.ucsd.edu/thredds/dodsC/cdip/realtime/166p1_rt.nc\n",
      "http://thredds.cdip.ucsd.edu/thredds/dodsC/cdip/realtime/201p1_rt.nc\n",
      "http://thredds.cdip.ucsd.edu/thredds/dodsC/cdip/realtime/204p1_rt.nc\n",
      "http://thredds.cdip.ucsd.edu/thredds/dodsC/cdip/realtime/231p1_rt.nc\n",
      "http://thredds.secoora.org/thredds/dodsC/G1_SST_GLOBAL.nc\n",
      "http://thredds.secoora.org/thredds/dodsC/SECOORA_NCSU_CNAPS.nc\n",
      "http://www.neracoos.org/thredds/dodsC/UMO/DSG/SOS/A01/Accelerometer/HistoricRealtime/Agg.ncml\n",
      "http://www.smast.umassd.edu:8080/thredds/dodsC/FVCOM/NECOFS/Forecasts/NECOFS_FVCOM_OCEAN_BOSTON_FORECAST.nc\n",
      "http://www.smast.umassd.edu:8080/thredds/dodsC/FVCOM/NECOFS/Forecasts/NECOFS_FVCOM_OCEAN_MASSBAY_FORECAST.nc\n",
      "http://www.smast.umassd.edu:8080/thredds/dodsC/FVCOM/NECOFS/Forecasts/NECOFS_FVCOM_OCEAN_SCITUATE_FORECAST.nc\n",
      "http://www.smast.umassd.edu:8080/thredds/dodsC/FVCOM/NECOFS/Forecasts/NECOFS_GOM3_FORECAST.nc\n",
      "Number of datasets available: 20\n",
      "Directional wave and sea surface temperature measurements collected in situ by Datawell Mark 3 directional buoy located near OCEAN STATION PAPA from 2015/01/01 01:00:00 to 2017/08/13 17:40:59.\n",
      "Directional wave and sea surface temperature measurements collected in situ by Datawell Mark 3 directional buoy located near SCRIPPS NEARSHORE, CA from 2015/01/07 23:00:00 to 2017/08/15 18:00:32.\n",
      "G1SST, 1km blended SST\n",
      "HYbrid Coordinate Ocean Model (HYCOM): Global\n",
      "NECOFS (FVCOM) - Scituate - Latest Forecast\n",
      "NECOFS GOM3 (FVCOM) - Northeast US - Latest Forecast\n",
      "NECOFS Massachusetts (FVCOM) - Boston - Latest Forecast\n",
      "NECOFS Massachusetts (FVCOM) - Massachusetts Coastal - Latest Forecast\n",
      "NERACOOS Gulf of Maine Ocean Array: Realtime Buoy Observations: A01 Massachusetts Bay: A01 ACCELEROMETER Massachusetts Bay\n",
      "NOAA Coral Reef Watch Operational Daily Near-Real-Time Global 5-km Satellite Coral Bleaching Monitoring Products\n",
      "A01 Accelerometer - Waves\n",
      "A01 Directional Waves (waves.mstrain Experimental)\n",
      "A01 Met - Meteorology\n",
      "A01 Optode - Oxygen\n",
      "A01 Sbe37 - CTD\n",
      "COAWST Modeling System: USEast: ROMS-WRF-SWAN coupled model (aka CNAPS)\n",
      "Coupled Northwest Atlantic Prediction System (CNAPS)\n",
      "Directional wave and sea surface temperature measurements collected in situ by Datawell Mark 3 directional buoy located near CLATSOP SPIT, OR from 2016/10/12 17:00:00 to 2017/08/15 17:31:29.\n",
      "Directional wave and sea surface temperature measurements collected in situ by Datawell Mark 3 directional buoy located near LAKESIDE, OR from 2017/03/31 23:00:00 to 2017/08/15 17:32:02.\n",
      "Directional wave and sea surface temperature measurements collected in situ by Datawell Mark 3 directional buoy located near LOWER COOK INLET, AK from 2016/12/16 00:00:00 to 2017/08/13 18:09:42.\n",
      "\n",
      "\n"
     ]
    }
   ],
   "source": [
    "from ioos_tools.ioos import service_urls, get_csw_records\n",
    "from owslib.csw import CatalogueServiceWeb\n",
    "\n",
    "\n",
    "dap_urls = []\n",
    "print(fmt(' Catalog information '))\n",
    "for endpoint in config['catalogs']:\n",
    "    print('URL: {}'.format(endpoint))\n",
    "    try:\n",
    "        csw = CatalogueServiceWeb(endpoint, timeout=120)\n",
    "    except Exception as e:\n",
    "        print('{}'.format(e))\n",
    "        continue\n",
    "    csw = get_csw_records(csw, filter_list, esn='full')\n",
    "    OPeNDAP = service_urls(csw.records, identifier='OPeNDAP:OPeNDAP')\n",
    "    \n",
    "    \n",
    "    \n",
    "    \n",
    "    print('OPeNDAP')\n",
    "    for url in OPeNDAP: \n",
    "        print('{}'.format(url))\n",
    "        #let's just filter out a few models with incomplete forecasts:\n",
    "        if 'dhw_5km' in url or 'G1_SST_GLOBAL' in url or 'MASSBAY' in url: continue\n",
    "        dap_urls.append(url)\n",
    "    \n",
    "        \n",
    "    #dap_urls.extend(OPeNDAP)\n",
    "    #print('dap_urls')\n",
    "    #for url in dap_urls:\n",
    "    #    print('{}.html'.format(url))\n",
    "\n",
    "    print('Number of datasets available: {}'.format(len(csw.records.keys())))\n",
    "\n",
    "    for rec, item in csw.records.items():\n",
    "        print('{}'.format(item.title))\n",
    "    #if OPeNDAP:\n",
    "    #    print(fmt(' OPeNDAP '))\n",
    "    #    for url in OPeNDAP:\n",
    "    #        print('{}.html'.format(url))\n",
    "            \n",
    "    print('\\n')\n",
    "\n",
    "# Get only unique endpoints.\n",
    "#dap_urls = list(set(dap_urls))\n",
    "dap_urls = list(dap_urls)"
   ]
  },
  {
   "cell_type": "markdown",
   "metadata": {},
   "source": [
    "We found some models, and observations from NERACOOS there.\n",
    "However, we do know that there are some buoys from NDBC and CO-OPS available too.\n",
    "Also, those NERACOOS observations seem to be from a [CTD](http://www.neracoos.org/thredds/dodsC/UMO/DSG/SOS/A01/CTD1m/HistoricRealtime/Agg.ncml.html) mounted at 65 meters below the sea surface. Rendering them useless from our purpose.\n",
    "\n",
    "So let's use the catalog only for the models by filtering the observations with `is_station` below.\n",
    "And we'll rely `CO-OPS` and `NDBC` services for the observations."
   ]
  },
  {
   "cell_type": "code",
   "execution_count": 7,
   "metadata": {},
   "outputs": [
    {
     "name": "stdout",
     "output_type": "stream",
     "text": [
      "************************* Filtered DAP *************************\n",
      "http://oos.soest.hawaii.edu/thredds/dodsC/pacioos/hycom/global.html\n",
      "http://thredds.secoora.org/thredds/dodsC/SECOORA_NCSU_CNAPS.nc.html\n",
      "http://www.smast.umassd.edu:8080/thredds/dodsC/FVCOM/NECOFS/Forecasts/NECOFS_FVCOM_OCEAN_BOSTON_FORECAST.nc.html\n",
      "http://www.smast.umassd.edu:8080/thredds/dodsC/FVCOM/NECOFS/Forecasts/NECOFS_FVCOM_OCEAN_SCITUATE_FORECAST.nc.html\n",
      "http://www.smast.umassd.edu:8080/thredds/dodsC/FVCOM/NECOFS/Forecasts/NECOFS_GOM3_FORECAST.nc.html\n"
     ]
    }
   ],
   "source": [
    "from ioos_tools.ioos import is_station\n",
    "\n",
    "# Filter out some station endpoints.\n",
    "non_stations = []\n",
    "for url in dap_urls:\n",
    "    try:\n",
    "        if not is_station(url):\n",
    "            non_stations.append(url)\n",
    "    except (RuntimeError, OSError, IOError) as e:\n",
    "        print('Could not access URL {}. {!r}'.format(url, e))\n",
    "\n",
    "dap_urls = non_stations\n",
    "\n",
    "print(fmt(' Filtered DAP '))\n",
    "for url in dap_urls:\n",
    "    print('{}.html'.format(url))"
   ]
  },
  {
   "cell_type": "markdown",
   "metadata": {},
   "source": [
    "Now we can use `pyoos` collectors for `NdbcSos`,"
   ]
  },
  {
   "cell_type": "code",
   "execution_count": 8,
   "metadata": {},
   "outputs": [
    {
     "name": "stdout",
     "output_type": "stream",
     "text": [
      "******************* NDBC Collector offerings *******************\n",
      "National Data Buoy Center SOS: 992 offerings\n"
     ]
    }
   ],
   "source": [
    "from pyoos.collectors.ndbc.ndbc_sos import NdbcSos\n",
    "\n",
    "collector_ndbc = NdbcSos()\n",
    "\n",
    "collector_ndbc.set_bbox(config['region']['bbox'])\n",
    "collector_ndbc.end_time = config['date']['stop']\n",
    "collector_ndbc.start_time = config['date']['start']\n",
    "collector_ndbc.variables = [config['sos_name']]\n",
    "\n",
    "ofrs = collector_ndbc.server.offerings\n",
    "title = collector_ndbc.server.identification.title\n",
    "print(fmt(' NDBC Collector offerings '))\n",
    "print('{}: {} offerings'.format(title, len(ofrs)))"
   ]
  },
  {
   "cell_type": "code",
   "execution_count": 9,
   "metadata": {},
   "outputs": [
    {
     "data": {
      "text/html": [
       "<div>\n",
       "<style>\n",
       "    .dataframe thead tr:only-child th {\n",
       "        text-align: right;\n",
       "    }\n",
       "\n",
       "    .dataframe thead th {\n",
       "        text-align: left;\n",
       "    }\n",
       "\n",
       "    .dataframe tbody tr th {\n",
       "        vertical-align: top;\n",
       "    }\n",
       "</style>\n",
       "<table border=\"1\" class=\"dataframe\">\n",
       "  <thead>\n",
       "    <tr style=\"text-align: right;\">\n",
       "      <th></th>\n",
       "      <th>depth</th>\n",
       "      <th>lat</th>\n",
       "      <th>lon</th>\n",
       "      <th>sensor</th>\n",
       "      <th>station_name</th>\n",
       "    </tr>\n",
       "    <tr>\n",
       "      <th>station_code</th>\n",
       "      <th></th>\n",
       "      <th></th>\n",
       "      <th></th>\n",
       "      <th></th>\n",
       "      <th></th>\n",
       "    </tr>\n",
       "  </thead>\n",
       "  <tbody>\n",
       "    <tr>\n",
       "      <th>44013</th>\n",
       "      <td>0.6</td>\n",
       "      <td>42.346</td>\n",
       "      <td>-70.651</td>\n",
       "      <td>urn:ioos:sensor:wmo:44013::watertemp1</td>\n",
       "      <td>BOSTON 16 NM East of Boston, MA</td>\n",
       "    </tr>\n",
       "  </tbody>\n",
       "</table>\n",
       "</div>"
      ],
      "text/plain": [
       "              depth     lat     lon                                 sensor  \\\n",
       "station_code                                                                 \n",
       "44013           0.6  42.346 -70.651  urn:ioos:sensor:wmo:44013::watertemp1   \n",
       "\n",
       "                                 station_name  \n",
       "station_code                                   \n",
       "44013         BOSTON 16 NM East of Boston, MA  "
      ]
     },
     "execution_count": 9,
     "metadata": {},
     "output_type": "execute_result"
    }
   ],
   "source": [
    "import pandas as pd\n",
    "from ioos_tools.ioos import collector2table\n",
    "\n",
    "ndbc = collector2table(collector=collector_ndbc,\n",
    "                       config=config,\n",
    "                       col='sea_water_temperature (C)')\n",
    "\n",
    "if ndbc:\n",
    "    data = dict(\n",
    "        station_name=[s._metadata.get('station_name') for s in ndbc],\n",
    "        station_code=[s._metadata.get('station_code') for s in ndbc],\n",
    "        sensor=[s._metadata.get('sensor') for s in ndbc],\n",
    "        lon=[s._metadata.get('lon') for s in ndbc],\n",
    "        lat=[s._metadata.get('lat') for s in ndbc],\n",
    "        depth=[s._metadata.get('depth') for s in ndbc],\n",
    "    )\n",
    "\n",
    "table = pd.DataFrame(data).set_index('station_code')\n",
    "table"
   ]
  },
  {
   "cell_type": "markdown",
   "metadata": {},
   "source": [
    "and `CoopsSos`."
   ]
  },
  {
   "cell_type": "code",
   "execution_count": 10,
   "metadata": {},
   "outputs": [
    {
     "name": "stdout",
     "output_type": "stream",
     "text": [
      "********************* Collector offerings **********************\n",
      "NOAA.NOS.CO-OPS SOS: 1187 offerings\n"
     ]
    }
   ],
   "source": [
    "from pyoos.collectors.coops.coops_sos import CoopsSos\n",
    "\n",
    "collector_coops = CoopsSos()\n",
    "\n",
    "collector_coops.set_bbox(config['region']['bbox'])\n",
    "collector_coops.end_time = config['date']['stop']\n",
    "collector_coops.start_time = config['date']['start']\n",
    "collector_coops.variables = [config['sos_name']]\n",
    "\n",
    "ofrs = collector_coops.server.offerings\n",
    "title = collector_coops.server.identification.title\n",
    "print(fmt(' Collector offerings '))\n",
    "print('{}: {} offerings'.format(title, len(ofrs)))"
   ]
  },
  {
   "cell_type": "code",
   "execution_count": 11,
   "metadata": {
    "scrolled": true
   },
   "outputs": [
    {
     "data": {
      "text/html": [
       "<div>\n",
       "<style>\n",
       "    .dataframe thead tr:only-child th {\n",
       "        text-align: right;\n",
       "    }\n",
       "\n",
       "    .dataframe thead th {\n",
       "        text-align: left;\n",
       "    }\n",
       "\n",
       "    .dataframe tbody tr th {\n",
       "        vertical-align: top;\n",
       "    }\n",
       "</style>\n",
       "<table border=\"1\" class=\"dataframe\">\n",
       "  <thead>\n",
       "    <tr style=\"text-align: right;\">\n",
       "      <th></th>\n",
       "      <th>depth</th>\n",
       "      <th>lat</th>\n",
       "      <th>lon</th>\n",
       "      <th>sensor</th>\n",
       "      <th>station_name</th>\n",
       "    </tr>\n",
       "    <tr>\n",
       "      <th>station_code</th>\n",
       "      <th></th>\n",
       "      <th></th>\n",
       "      <th></th>\n",
       "      <th></th>\n",
       "      <th></th>\n",
       "    </tr>\n",
       "  </thead>\n",
       "  <tbody>\n",
       "    <tr>\n",
       "      <th>44013</th>\n",
       "      <td>0.6</td>\n",
       "      <td>42.346</td>\n",
       "      <td>-70.651</td>\n",
       "      <td>urn:ioos:sensor:wmo:44013::watertemp1</td>\n",
       "      <td>BOSTON 16 NM East of Boston, MA</td>\n",
       "    </tr>\n",
       "  </tbody>\n",
       "</table>\n",
       "</div>"
      ],
      "text/plain": [
       "              depth     lat     lon                                 sensor  \\\n",
       "station_code                                                                 \n",
       "44013           0.6  42.346 -70.651  urn:ioos:sensor:wmo:44013::watertemp1   \n",
       "\n",
       "                                 station_name  \n",
       "station_code                                   \n",
       "44013         BOSTON 16 NM East of Boston, MA  "
      ]
     },
     "execution_count": 11,
     "metadata": {},
     "output_type": "execute_result"
    }
   ],
   "source": [
    "coops = collector2table(collector=collector_coops,\n",
    "                        config=config,\n",
    "                        col='sea_water_temperature (C)')\n",
    "\n",
    "if coops:\n",
    "    data = dict(\n",
    "        station_name=[s._metadata.get('station_name') for s in coops],\n",
    "        station_code=[s._metadata.get('station_code') for s in coops],\n",
    "        sensor=[s._metadata.get('sensor') for s in coops],\n",
    "        lon=[s._metadata.get('lon') for s in coops],\n",
    "        lat=[s._metadata.get('lat') for s in coops],\n",
    "        depth=[s._metadata.get('depth') for s in coops],\n",
    "    )\n",
    "\n",
    "table = pd.DataFrame(data).set_index('station_code')\n",
    "table"
   ]
  },
  {
   "cell_type": "markdown",
   "metadata": {},
   "source": [
    "We will join all the observations into an uniform series, interpolated to 1-hour interval, for the model-data comparison.\n",
    "\n",
    "This step is necessary because the observations can be 7 or 10 minutes resolution,\n",
    "while the models can be 30 to 60 minutes."
   ]
  },
  {
   "cell_type": "code",
   "execution_count": 12,
   "metadata": {
    "collapsed": true,
    "scrolled": true
   },
   "outputs": [],
   "source": [
    "data = ndbc + coops\n",
    "\n",
    "index = pd.date_range(start=config['date']['start'].replace(tzinfo=None),\n",
    "                      end=config['date']['stop'].replace(tzinfo=None),\n",
    "                      freq='1H')\n",
    "\n",
    "# Preserve metadata with `reindex`.\n",
    "observations = []\n",
    "for series in data:\n",
    "    _metadata = series._metadata\n",
    "    obs = series.reindex(index=index, limit=1, method='nearest')\n",
    "    obs._metadata = _metadata\n",
    "    observations.append(obs)"
   ]
  },
  {
   "cell_type": "markdown",
   "metadata": {},
   "source": [
    "In this next cell we will save the data for quicker access later."
   ]
  },
  {
   "cell_type": "code",
   "execution_count": 13,
   "metadata": {
    "collapsed": true,
    "scrolled": false
   },
   "outputs": [],
   "source": [
    "import iris\n",
    "from ioos_tools.tardis import series2cube\n",
    "\n",
    "attr = dict(\n",
    "    featureType='timeSeries',\n",
    "    Conventions='CF-1.6',\n",
    "    standard_name_vocabulary='CF-1.6',\n",
    "    cdm_data_type='Station',\n",
    "    comment='Data from http://opendap.co-ops.nos.noaa.gov'\n",
    ")\n",
    "\n",
    "\n",
    "cubes = iris.cube.CubeList(\n",
    "    [series2cube(obs, attr=attr) for obs in observations]\n",
    ")\n",
    "\n",
    "outfile = os.path.join(save_dir, 'OBS_DATA.nc')\n",
    "iris.save(cubes, outfile)"
   ]
  },
  {
   "cell_type": "markdown",
   "metadata": {},
   "source": [
    "Taking a quick look at the observations:"
   ]
  },
  {
   "cell_type": "code",
   "execution_count": 14,
   "metadata": {},
   "outputs": [
    {
     "data": {
      "image/png": "[encoded data removed]",
      "text/plain": [
       "<matplotlib.figure.Figure at 0x1678c4e9048>"
      ]
     },
     "metadata": {},
     "output_type": "display_data"
    }
   ],
   "source": [
    "%matplotlib inline\n",
    "\n",
    "ax = pd.concat(data).plot(figsize=(11, 2.25))"
   ]
  },
  {
   "cell_type": "markdown",
   "metadata": {},
   "source": [
    "Now it is time to loop the models we found above,"
   ]
  },
  {
   "cell_type": "code",
   "execution_count": 15,
   "metadata": {},
   "outputs": [
    {
     "name": "stdout",
     "output_type": "stream",
     "text": [
      "**************************** Models ****************************\n",
      "\n",
      "[Reading url 1/5]: http://oos.soest.hawaii.edu/thredds/dodsC/pacioos/hycom/global\n",
      "\n",
      "[Reading url 2/5]: http://thredds.secoora.org/thredds/dodsC/SECOORA_NCSU_CNAPS.nc\n",
      "\n",
      "[Reading url 3/5]: http://www.smast.umassd.edu:8080/thredds/dodsC/FVCOM/NECOFS/Forecasts/NECOFS_FVCOM_OCEAN_BOSTON_FORECAST.nc\n",
      "\n",
      "[Reading url 4/5]: http://www.smast.umassd.edu:8080/thredds/dodsC/FVCOM/NECOFS/Forecasts/NECOFS_FVCOM_OCEAN_SCITUATE_FORECAST.nc\n",
      "\n",
      "[Reading url 5/5]: http://www.smast.umassd.edu:8080/thredds/dodsC/FVCOM/NECOFS/Forecasts/NECOFS_GOM3_FORECAST.nc\n"
     ]
    }
   ],
   "source": [
    "from iris.exceptions import (CoordinateNotFoundError, ConstraintMismatchError,\n",
    "                             MergeError)\n",
    "from ioos_tools.ioos import get_model_name\n",
    "from ioos_tools.tardis import quick_load_cubes, proc_cube, is_model, get_surface\n",
    "\n",
    "print(fmt(' Models '))\n",
    "cubes = dict()\n",
    "for k, url in enumerate(dap_urls):\n",
    "    print('\\n[Reading url {}/{}]: {}'.format(k+1, len(dap_urls), url))\n",
    "    try:\n",
    "        cube = quick_load_cubes(url, config['cf_names'],\n",
    "                                callback=None, strict=True)\n",
    "        if is_model(cube):\n",
    "            cube = proc_cube(cube,\n",
    "                             bbox=config['region']['bbox'],\n",
    "                             time=(config['date']['start'],\n",
    "                                   config['date']['stop']),\n",
    "                             units=config['units'])\n",
    "        else:\n",
    "            print('[Not model data]: {}'.format(url))\n",
    "            continue\n",
    "        cube = get_surface(cube)\n",
    "        mod_name = get_model_name(url)\n",
    "        cubes.update({mod_name: cube})\n",
    "    except (RuntimeError, ValueError,\n",
    "            ConstraintMismatchError, CoordinateNotFoundError,\n",
    "            IndexError) as e:\n",
    "        print('Cannot get cube for: {}\\n{}'.format(url, e))"
   ]
  },
  {
   "cell_type": "markdown",
   "metadata": {},
   "source": [
    "Next, we will match them with the nearest observed time-series. The `max_dist=0.08` is in degrees, that is roughly 8 kilometers."
   ]
  },
  {
   "cell_type": "code",
   "execution_count": 16,
   "metadata": {},
   "outputs": [
    {
     "name": "stdout",
     "output_type": "stream",
     "text": [
      " Downloading to file C:\\dev\\git\\ioos\\notebooks_demos\\notebooks\\latest\\pacioos_hycom-global.nc \n",
      "[Water  ] BOSTON 16 NM East of Boston, MA\n",
      "Finished processing [pacioos_hycom-global]\n",
      " Downloading to file C:\\dev\\git\\ioos\\notebooks_demos\\notebooks\\latest\\SECOORA_NCSU_CNAPS.nc \n",
      "[Water  ] BOSTON 16 NM East of Boston, MA\n",
      "Finished processing [SECOORA_NCSU_CNAPS]\n",
      " Downloading to file C:\\dev\\git\\ioos\\notebooks_demos\\notebooks\\latest\\Forecasts-NECOFS_FVCOM_OCEAN_BOSTON_FORECAST.nc \n",
      "[No Data] BOSTON 16 NM East of Boston, MA\n",
      "Finished processing [Forecasts-NECOFS_FVCOM_OCEAN_BOSTON_FORECAST]\n",
      " Downloading to file C:\\dev\\git\\ioos\\notebooks_demos\\notebooks\\latest\\Forecasts-NECOFS_FVCOM_OCEAN_SCITUATE_FORECAST.nc \n",
      "[No Data] BOSTON 16 NM East of Boston, MA\n",
      "Finished processing [Forecasts-NECOFS_FVCOM_OCEAN_SCITUATE_FORECAST]\n",
      " Downloading to file C:\\dev\\git\\ioos\\notebooks_demos\\notebooks\\latest\\FVCOM_Forecasts-NECOFS_GOM3_FORECAST.nc \n",
      "[Water  ] BOSTON 16 NM East of Boston, MA\n",
      "Finished processing [FVCOM_Forecasts-NECOFS_GOM3_FORECAST]\n"
     ]
    }
   ],
   "source": [
    "import iris\n",
    "from iris.pandas import as_series\n",
    "from ioos_tools.tardis import (make_tree, get_nearest_water,\n",
    "                               add_station, ensure_timeseries, remove_ssh)\n",
    "\n",
    "for mod_name, cube in cubes.items():\n",
    "    fname = '{}.nc'.format(mod_name)\n",
    "    fname = os.path.join(save_dir, fname)\n",
    "    print(fmt(' Downloading to file {} '.format(fname)))\n",
    "    try:\n",
    "        tree, lon, lat = make_tree(cube)\n",
    "    except CoordinateNotFoundError as e:\n",
    "        print('Cannot make KDTree for: {}'.format(mod_name))\n",
    "        continue\n",
    "    # Get model series at observed locations.\n",
    "    raw_series = dict()\n",
    "    for obs in observations:\n",
    "        obs = obs._metadata\n",
    "        station = obs['station_code']\n",
    "        try:\n",
    "            kw = dict(k=10, max_dist=0.08, min_var=0.01)\n",
    "            args = cube, tree, obs['lon'], obs['lat']\n",
    "            try:\n",
    "                series, dist, idx = get_nearest_water(*args, **kw)\n",
    "            except RuntimeError as e:\n",
    "                print('Cannot download {!r}.\\n{}'.format(cube, e))\n",
    "                series = None\n",
    "        except ValueError as e:\n",
    "            status = 'No Data'\n",
    "            print('[{}] {}'.format(status, obs['station_name']))\n",
    "            continue\n",
    "        if not series:\n",
    "            status = 'Land   '\n",
    "        else:\n",
    "            raw_series.update({station: series})\n",
    "            series = as_series(series)\n",
    "            status = 'Water  '\n",
    "        print('[{}] {}'.format(status, obs['station_name']))\n",
    "    if raw_series:  # Save cube.\n",
    "        for station, cube in raw_series.items():\n",
    "            cube = add_station(cube, station)\n",
    "            cube = remove_ssh(cube)\n",
    "        try:\n",
    "            cube = iris.cube.CubeList(raw_series.values()).merge_cube()\n",
    "        except MergeError as e:\n",
    "            print(e)\n",
    "        ensure_timeseries(cube)\n",
    "        try:\n",
    "            iris.save(cube, fname)\n",
    "        except AttributeError:\n",
    "            # FIXME: we should patch the bad attribute instead of removing everything.\n",
    "            cube.attributes = {}\n",
    "            iris.save(cube, fname)\n",
    "        del cube\n",
    "    print('Finished processing [{}]'.format(mod_name))"
   ]
  },
  {
   "cell_type": "markdown",
   "metadata": {},
   "source": [
    "Now it is possible to compute some simple comparison metrics. First we'll calculate the model mean bias:\n",
    "\n",
    "$$ \\text{MB} = \\mathbf{\\overline{m}} - \\mathbf{\\overline{o}}$$"
   ]
  },
  {
   "cell_type": "code",
   "execution_count": 17,
   "metadata": {
    "collapsed": true
   },
   "outputs": [],
   "source": [
    "from ioos_tools.ioos import stations_keys\n",
    "\n",
    "\n",
    "def rename_cols(df, config):\n",
    "    cols = stations_keys(config, key='station_name')\n",
    "    return df.rename(columns=cols)"
   ]
  },
  {
   "cell_type": "code",
   "execution_count": 18,
   "metadata": {
    "collapsed": true,
    "scrolled": false
   },
   "outputs": [],
   "source": [
    "from ioos_tools.ioos import load_ncs\n",
    "from ioos_tools.skill_score import mean_bias, apply_skill\n",
    "\n",
    "dfs = load_ncs(config)\n",
    "\n",
    "df = apply_skill(dfs, mean_bias, remove_mean=False, filter_tides=False)\n",
    "skill_score = dict(mean_bias=df.to_dict())\n",
    "\n",
    "# Filter out stations with no valid comparison.\n",
    "df.dropna(how='all', axis=1, inplace=True)\n",
    "df = df.applymap('{:.2f}'.format).replace('nan', '--')"
   ]
  },
  {
   "cell_type": "markdown",
   "metadata": {},
   "source": [
    "And the root mean squared rrror of the deviations from the mean:\n",
    "$$ \\text{CRMS} = \\sqrt{\\left(\\mathbf{m'} - \\mathbf{o'}\\right)^2}$$\n",
    "\n",
    "where: $\\mathbf{m'} = \\mathbf{m} - \\mathbf{\\overline{m}}$ and $\\mathbf{o'} = \\mathbf{o} - \\mathbf{\\overline{o}}$"
   ]
  },
  {
   "cell_type": "code",
   "execution_count": 19,
   "metadata": {
    "collapsed": true
   },
   "outputs": [],
   "source": [
    "from ioos_tools.skill_score import rmse\n",
    "\n",
    "dfs = load_ncs(config)\n",
    "\n",
    "df = apply_skill(dfs, rmse, remove_mean=True, filter_tides=False)\n",
    "skill_score['rmse'] = df.to_dict()\n",
    "\n",
    "# Filter out stations with no valid comparison.\n",
    "df.dropna(how='all', axis=1, inplace=True)\n",
    "df = df.applymap('{:.2f}'.format).replace('nan', '--')"
   ]
  },
  {
   "cell_type": "markdown",
   "metadata": {},
   "source": [
    "The next 2 cells make the scores \"pretty\" for plotting."
   ]
  },
  {
   "cell_type": "code",
   "execution_count": 20,
   "metadata": {
    "collapsed": true
   },
   "outputs": [],
   "source": [
    "import pandas as pd\n",
    "\n",
    "# Stringfy keys.\n",
    "for key in skill_score.keys():\n",
    "    skill_score[key] = {str(k): v for k, v in skill_score[key].items()}\n",
    "\n",
    "mean_bias = pd.DataFrame.from_dict(skill_score['mean_bias'])\n",
    "mean_bias = mean_bias.applymap('{:.2f}'.format).replace('nan', '--')\n",
    "\n",
    "skill_score = pd.DataFrame.from_dict(skill_score['rmse'])\n",
    "skill_score = skill_score.applymap('{:.2f}'.format).replace('nan', '--')"
   ]
  },
  {
   "cell_type": "code",
   "execution_count": 21,
   "metadata": {
    "collapsed": true
   },
   "outputs": [],
   "source": [
    "from ioos_tools.ioos import make_map\n",
    "\n",
    "bbox = config['region']['bbox']\n",
    "units = config['units']\n",
    "run_name = config['run_name']\n",
    "\n",
    "kw = dict(zoom_start=11, line=True, states=False,\n",
    "          secoora_stations=False, layers=False)\n",
    "m = make_map(bbox, **kw)"
   ]
  },
  {
   "cell_type": "markdown",
   "metadata": {},
   "source": [
    "The cells from `[20]` to `[25]` create a [`folium`](https://github.com/python-visualization/folium) map with [`bokeh`](http://bokeh.pydata.org/en/latest/) for the time-series at the observed points.\n",
    "\n",
    "Note that we did mark the nearest model cell location used in the comparison."
   ]
  },
  {
   "cell_type": "code",
   "execution_count": 22,
   "metadata": {},
   "outputs": [
    {
     "data": {
      "text/plain": [
       "<folium.plugins.marker_cluster.MarkerCluster at 0x1678f6ab9b0>"
      ]
     },
     "execution_count": 22,
     "metadata": {},
     "output_type": "execute_result"
    }
   ],
   "source": [
    "all_obs = stations_keys(config)\n",
    "\n",
    "from glob import glob\n",
    "from operator import itemgetter\n",
    "\n",
    "import iris\n",
    "import folium\n",
    "from folium.plugins import MarkerCluster\n",
    "\n",
    "iris.FUTURE.netcdf_promote = True\n",
    "\n",
    "big_list = []\n",
    "for fname in glob(os.path.join(save_dir, '*.nc')):\n",
    "    if 'OBS_DATA' in fname:\n",
    "        continue\n",
    "    cube = iris.load_cube(fname)\n",
    "    model = os.path.split(fname)[1].split('-')[-1].split('.')[0]\n",
    "    lons = cube.coord(axis='X').points\n",
    "    lats = cube.coord(axis='Y').points\n",
    "    stations = cube.coord('station_code').points\n",
    "    models = [model]*lons.size\n",
    "    lista = zip(models, lons.tolist(), lats.tolist(), stations.tolist())\n",
    "    big_list.extend(lista)\n",
    "\n",
    "big_list.sort(key=itemgetter(3))\n",
    "df = pd.DataFrame(big_list, columns=['name', 'lon', 'lat', 'station'])\n",
    "df.set_index('station', drop=True, inplace=True)\n",
    "groups = df.groupby(df.index)\n",
    "\n",
    "\n",
    "locations, popups = [], []\n",
    "for station, info in groups:\n",
    "    sta_name = all_obs[station]\n",
    "    for lat, lon, name in zip(info.lat, info.lon, info.name):\n",
    "        locations.append([lat, lon])\n",
    "        popups.append('[{}]: {}'.format(name, sta_name))\n",
    "\n",
    "MarkerCluster(locations=locations, popups=popups).add_to(m)"
   ]
  },
  {
   "cell_type": "markdown",
   "metadata": {},
   "source": [
    "Here we use a dictionary with some models we expect to find so we can create a better legend for the plots. If any new models are found, we will use its filename in the legend as a default until we can go back and add a short name to our library."
   ]
  },
  {
   "cell_type": "code",
   "execution_count": 23,
   "metadata": {
    "collapsed": true
   },
   "outputs": [],
   "source": [
    "titles = {\n",
    "    'coawst_4_use_best': 'COAWST_4',\n",
    "    'global': 'HYCOM',\n",
    "    'NECOFS_GOM3_FORECAST': 'NECOFS_GOM3',\n",
    "    'NECOFS_FVCOM_OCEAN_MASSBAY_FORECAST': 'NECOFS_MassBay',\n",
    "    'OBS_DATA': 'Observations'\n",
    "}"
   ]
  },
  {
   "cell_type": "code",
   "execution_count": 24,
   "metadata": {
    "collapsed": true
   },
   "outputs": [],
   "source": [
    "from bokeh.resources import CDN\n",
    "from bokeh.plotting import figure\n",
    "from bokeh.embed import file_html\n",
    "from bokeh.models import HoverTool\n",
    "from itertools import cycle\n",
    "from bokeh.palettes import Spectral6\n",
    "\n",
    "from folium import IFrame\n",
    "\n",
    "# Plot defaults.\n",
    "colors = Spectral6\n",
    "colorcycler = cycle(colors)\n",
    "tools = 'pan,box_zoom,reset'\n",
    "width, height = 750, 250\n",
    "\n",
    "\n",
    "def make_plot(df, station):\n",
    "    p = figure(toolbar_location='above',\n",
    "               x_axis_type='datetime',\n",
    "               width=width,\n",
    "               height=height,\n",
    "               tools=tools,\n",
    "               title=str(station))\n",
    "    for column, series in df.iteritems():\n",
    "        series.dropna(inplace=True)\n",
    "        if not series.empty:\n",
    "            line = p.line(\n",
    "                x=series.index,\n",
    "                y=series.values,\n",
    "                legend='%s' % titles.get(column, column),\n",
    "                line_color=next(colorcycler),\n",
    "                line_width=5,\n",
    "                line_cap='round',\n",
    "                line_join='round'\n",
    "            )\n",
    "            if 'OBS_DATA' not in column:\n",
    "                bias = mean_bias[str(station)][column]\n",
    "                skill = skill_score[str(station)][column]\n",
    "            else:\n",
    "                skill = bias = 'NA'\n",
    "            p.add_tools(HoverTool(tooltips=[('Name', '%s' % column),\n",
    "                                            ('Bias', bias),\n",
    "                                            ('Skill', skill)],\n",
    "                                  renderers=[line]))\n",
    "    return p\n",
    "\n",
    "\n",
    "def make_marker(p, station):\n",
    "    lons = stations_keys(config, key='lon')\n",
    "    lats = stations_keys(config, key='lat')\n",
    "\n",
    "    lon, lat = lons[station], lats[station]\n",
    "    html = file_html(p, CDN, station)\n",
    "    iframe = IFrame(html, width=width+40, height=height+80)\n",
    "\n",
    "    popup = folium.Popup(iframe, max_width=2650)\n",
    "    icon = folium.Icon(color='green', icon='stats')\n",
    "    marker = folium.Marker(location=[lat, lon],\n",
    "                           popup=popup,\n",
    "                           icon=icon)\n",
    "    return marker"
   ]
  },
  {
   "cell_type": "code",
   "execution_count": 25,
   "metadata": {
    "scrolled": true
   },
   "outputs": [
    {
     "data": {
      "text/html": [
       "<div style=\"width:100%;\"><div style=\"position:relative;width:100%;height:0;padding-bottom:60%;\"><iframe src=\"data:text/html;charset=utf-8;base64,PCFET0NUWVBFIGh0bWw+CjxoZWFkPiAgICAKICAgIDxtZXRhIGh0dHAtZXF1aXY9ImNvbnRlbnQtdHlwZSIgY29udGVudD0idGV4dC9odG1sOyBjaGFyc2V0PVVURi04IiAvPgogICAgPHNjcmlwdD5MX1BSRUZFUl9DQU5WQVMgPSBmYWxzZTsgTF9OT19UT1VDSCA9IGZhbHNlOyBMX0RJU0FCTEVfM0QgPSBmYWxzZTs8L3NjcmlwdD4KICAgIDxzY3JpcHQgc3JjPSJodHRwczovL3VucGtnLmNvbS9sZWFmbGV0QDEuMC4xL2Rpc3QvbGVhZmxldC5qcyI+PC9zY3JpcHQ+CiAgICA8c2NyaXB0IHNyYz0iaHR0cHM6Ly9hamF4Lmdvb2dsZWFwaXMuY29tL2FqYXgvbGlicy9qcXVlcnkvMS4xMS4xL2pxdWVyeS5taW4uanMiPjwvc2NyaXB0PgogICAgPHNjcmlwdCBzcmM9Imh0dHBzOi8vbWF4Y2RuLmJvb3RzdHJhcGNkbi5jb20vYm9vdHN0cmFwLzMuMi4wL2pzL2Jvb3RzdHJhcC5taW4uanMiPjwvc2NyaXB0PgogICAgPHNjcmlwdCBzcmM9Imh0dHBzOi8vY2RuanMuY2xvdWRmbGFyZS5jb20vYWpheC9saWJzL0xlYWZsZXQuYXdlc29tZS1tYXJrZXJzLzIuMC4yL2xlYWZsZXQuYXdlc29tZS1tYXJrZXJzLmpzIj48L3NjcmlwdD4KICAgIDxzY3JpcHQgc3JjPSJodHRwczovL2NkbmpzLmNsb3VkZmxhcmUuY29tL2FqYXgvbGlicy9sZWFmbGV0Lm1hcmtlcmNsdXN0ZXIvMS4wLjAvbGVhZmxldC5tYXJrZXJjbHVzdGVyLXNyYy5qcyI+PC9zY3JpcHQ+CiAgICA8c2NyaXB0IHNyYz0iaHR0cHM6Ly9jZG5qcy5jbG91ZGZsYXJlLmNvbS9hamF4L2xpYnMvbGVhZmxldC5tYXJrZXJjbHVzdGVyLzEuMC4wL2xlYWZsZXQubWFya2VyY2x1c3Rlci5qcyI+PC9zY3JpcHQ+CiAgICA8bGluayByZWw9InN0eWxlc2hlZXQiIGhyZWY9Imh0dHBzOi8vdW5wa2cuY29tL2xlYWZsZXRAMS4wLjEvZGlzdC9sZWFmbGV0LmNzcyIgLz4KICAgIDxsaW5rIHJlbD0ic3R5bGVzaGVldCIgaHJlZj0iaHR0cHM6Ly9tYXhjZG4uYm9vdHN0cmFwY2RuLmNvbS9ib290c3RyYXAvMy4yLjAvY3NzL2Jvb3RzdHJhcC5taW4uY3NzIiAvPgogICAgPGxpbmsgcmVsPSJzdHlsZXNoZWV0IiBocmVmPSJodHRwczovL21heGNkbi5ib290c3RyYXBjZG4uY29tL2Jvb3RzdHJhcC8zLjIuMC9jc3MvYm9vdHN0cmFwLXRoZW1lLm1pbi5jc3MiIC8+CiAgICA8bGluayByZWw9InN0eWxlc2hlZXQiIGhyZWY9Imh0dHBzOi8vbWF4Y2RuLmJvb3RzdHJhcGNkbi5jb20vZm9udC1hd2Vzb21lLzQuNi4zL2Nzcy9mb250LWF3ZXNvbWUubWluLmNzcyIgLz4KICAgIDxsaW5rIHJlbD0ic3R5bGVzaGVldCIgaHJlZj0iaHR0cHM6Ly9jZG5qcy5jbG91ZGZsYXJlLmNvbS9hamF4L2xpYnMvTGVhZmxldC5hd2Vzb21lLW1hcmtlcnMvMi4wLjIvbGVhZmxldC5hd2Vzb21lLW1hcmtlcnMuY3NzIiAvPgogICAgPGxpbmsgcmVsPSJzdHlsZXNoZWV0IiBocmVmPSJodHRwczovL2NkbmpzLmNsb3VkZmxhcmUuY29tL2FqYXgvbGlicy9sZWFmbGV0Lm1hcmtlcmNsdXN0ZXIvMS4wLjAvTWFya2VyQ2x1c3Rlci5EZWZhdWx0LmNzcyIgLz4KICAgIDxsaW5rIHJlbD0ic3R5bGVzaGVldCIgaHJlZj0iaHR0cHM6Ly9jZG5qcy5jbG91ZGZsYXJlLmNvbS9hamF4L2xpYnMvbGVhZmxldC5tYXJrZXJjbHVzdGVyLzEuMC4wL01hcmtlckNsdXN0ZXIuY3NzIiAvPgogICAgPGxpbmsgcmVsPSJzdHlsZXNoZWV0IiBocmVmPSJodHRwczovL3Jhd2dpdC5jb20vcHl0aG9uLXZpc3VhbGl6YXRpb24vZm9saXVtL21hc3Rlci9mb2xpdW0vdGVtcGxhdGVzL2xlYWZsZXQuYXdlc29tZS5yb3RhdGUuY3NzIiAvPgogICAgPHN0eWxlPmh0bWwsIGJvZHkge3dpZHRoOiAxMDAlO2hlaWdodDogMTAwJTttYXJnaW46IDA7cGFkZGluZzogMDt9PC9zdHlsZT4KICAgIDxzdHlsZT4jbWFwIHtwb3NpdGlvbjphYnNvbHV0ZTt0b3A6MDtib3R0b206MDtyaWdodDowO2xlZnQ6MDt9PC9zdHlsZT4KICAgIAogICAgICAgICAgICA8c3R5bGU+ICNtYXBfZTFjMmVlYTFmNDY3NGE5OTg5YmYxYWU0MGE4ZGUwY2MgewogICAgICAgICAgICAgICAgcG9zaXRpb24gOiByZWxhdGl2ZTsKICAgICAgICAgICAgICAgIHdpZHRoIDogMTAwLjAlOwogICAgICAgICAgICAgICAgaGVpZ2h0OiAxMDAuMCU7CiAgICAgICAgICAgICAgICBsZWZ0OiAwLjAlOwogICAgICAgICAgICAgICAgdG9wOiAwLjAlOwogICAgICAgICAgICAgICAgfQogICAgICAgICAgICA8L3N0eWxlPgogICAgICAgIAogICAgPHNjcmlwdCBzcmM9Imh0dHBzOi8vY2RuanMuY2xvdWRmbGFyZS5jb20vYWpheC9saWJzL2xlYWZsZXQubWFya2VyY2x1c3Rlci8xLjAuMC9sZWFmbGV0Lm1hcmtlcmNsdXN0ZXIuanMiPjwvc2NyaXB0PgogICAgPGxpbmsgcmVsPSJzdHlsZXNoZWV0IiBocmVmPSJodHRwczovL2NkbmpzLmNsb3VkZmxhcmUuY29tL2FqYXgvbGlicy9sZWFmbGV0Lm1hcmtlcmNsdXN0ZXIvMS4wLjAvTWFya2VyQ2x1c3Rlci5jc3MiIC8+CiAgICA8bGluayByZWw9InN0eWxlc2hlZXQiIGhyZWY9Imh0dHBzOi8vY2RuanMuY2xvdWRmbGFyZS5jb20vYWpheC9saWJzL2xlYWZsZXQubWFya2VyY2x1c3Rlci8xLjAuMC9NYXJrZXJDbHVzdGVyLkRlZmF1bHQuY3NzIiAvPgo8L2hlYWQ+Cjxib2R5PiAgICAKICAgIAogICAgICAgICAgICA8ZGl2IGNsYXNzPSJmb2xpdW0tbWFwIiBpZD0ibWFwX2UxYzJlZWExZjQ2NzRhOTk4OWJmMWFlNDBhOGRlMGNjIiA+PC9kaXY+CiAgICAgICAgCjwvYm9keT4KPHNjcmlwdD4gICAgCiAgICAKCiAgICAgICAgICAgIAogICAgICAgICAgICAgICAgdmFyIHNvdXRoV2VzdCA9IEwubGF0TG5nKC05MCwgLTE4MCk7CiAgICAgICAgICAgICAgICB2YXIgbm9ydGhFYXN0ID0gTC5sYXRMbmcoOTAsIDE4MCk7CiAgICAgICAgICAgICAgICB2YXIgYm91bmRzID0gTC5sYXRMbmdCb3VuZHMoc291dGhXZXN0LCBub3J0aEVhc3QpOwogICAgICAgICAgICAKCiAgICAgICAgICAgIHZhciBtYXBfZTFjMmVlYTFmNDY3NGE5OTg5YmYxYWU0MGE4ZGUwY2MgPSBMLm1hcCgKICAgICAgICAgICAgICAgICAgICAgICAgICAgICAgICAgICdtYXBfZTFjMmVlYTFmNDY3NGE5OTg5YmYxYWU0MGE4ZGUwY2MnLAogICAgICAgICAgICAgICAgICAgICAgICAgICAgICAgICAge2NlbnRlcjogWzQyLjMzLC03MC45MzVdLAogICAgICAgICAgICAgICAgICAgICAgICAgICAgICAgICAgem9vbTogMTEsCiAgICAgICAgICAgICAgICAgICAgICAgICAgICAgICAgICBtYXhCb3VuZHM6IGJvdW5kcywKICAgICAgICAgICAgICAgICAgICAgICAgICAgICAgICAgIGxheWVyczogW10sCiAgICAgICAgICAgICAgICAgICAgICAgICAgICAgICAgICB3b3JsZENvcHlKdW1wOiBmYWxzZSwKICAgICAgICAgICAgICAgICAgICAgICAgICAgICAgICAgIGNyczogTC5DUlMuRVBTRzM4NTcKICAgICAgICAgICAgICAgICAgICAgICAgICAgICAgICAgfSk7CiAgICAgICAgICAgIAogICAgICAgIAogICAgCiAgICAgICAgICAgIHZhciB0aWxlX2xheWVyX2VhOGFmMTNjZjIyMzQ0MGZhMWE0NTdhYTg5YWYwNzE5ID0gTC50aWxlTGF5ZXIoCiAgICAgICAgICAgICAgICAnaHR0cHM6Ly97c30udGlsZS5vcGVuc3RyZWV0bWFwLm9yZy97en0ve3h9L3t5fS5wbmcnLAogICAgICAgICAgICAgICAgewogICAgICAgICAgICAgICAgICAgIG1heFpvb206IDE4LAogICAgICAgICAgICAgICAgICAgIG1pblpvb206IDEsCiAgICAgICAgICAgICAgICAgICAgY29udGludW91c1dvcmxkOiBmYWxzZSwKICAgICAgICAgICAgICAgICAgICBub1dyYXA6IGZhbHNlLAogICAgICAgICAgICAgICAgICAgIGF0dHJpYnV0aW9uOiAnRGF0YSBieSA8YSBocmVmPSJodHRwOi8vb3BlbnN0cmVldG1hcC5vcmciPk9wZW5TdHJlZXRNYXA8L2E+LCB1bmRlciA8YSBocmVmPSJodHRwOi8vd3d3Lm9wZW5zdHJlZXRtYXAub3JnL2NvcHlyaWdodCI+T0RiTDwvYT4uJywKICAgICAgICAgICAgICAgICAgICBkZXRlY3RSZXRpbmE6IGZhbHNlCiAgICAgICAgICAgICAgICAgICAgfQogICAgICAgICAgICAgICAgKS5hZGRUbyhtYXBfZTFjMmVlYTFmNDY3NGE5OTg5YmYxYWU0MGE4ZGUwY2MpOwoKICAgICAgICAKICAgIAogICAgICAgICAgICB2YXIgbWFjcm9fZWxlbWVudF9mMzAwMjcxNGMxYzM0MmM5ODFjOTc4YThmMmU4NTBmOCA9IEwudGlsZUxheWVyLndtcygKICAgICAgICAgICAgICAgICdodHRwOi8vaGZybmV0LnVjc2QuZWR1L3RocmVkZHMvd21zL0hGUk5ldC9VU0VHQy82a20vaG91cmx5L1JUVicsCiAgICAgICAgICAgICAgICB7CiAgICAgICAgICAgICAgICAgICAgbGF5ZXJzOiAnc3VyZmFjZV9zZWFfd2F0ZXJfdmVsb2NpdHknLAogICAgICAgICAgICAgICAgICAgIHN0eWxlczogJycsCiAgICAgICAgICAgICAgICAgICAgZm9ybWF0OiAnaW1hZ2UvcG5nJywKICAgICAgICAgICAgICAgICAgICB0cmFuc3BhcmVudDogdHJ1ZSwKICAgICAgICAgICAgICAgICAgICB2ZXJzaW9uOiAnMS4xLjEnLAogICAgICAgICAgICAgICAgICAgICBhdHRyaWJ1dGlvbjogJ0hGUk5ldCcKICAgICAgICAgICAgICAgICAgICB9CiAgICAgICAgICAgICAgICApLmFkZFRvKG1hcF9lMWMyZWVhMWY0Njc0YTk5ODliZjFhZTQwYThkZTBjYyk7CgogICAgICAgIAogICAgCiAgICAgICAgICAgICAgICB2YXIgcG9seV9saW5lXzlhZWM5OGFjNGFhMDQ0YjE5NGRiMzE2MjEzNzZhODBlID0gTC5wb2x5bGluZSgKICAgICAgICAgICAgICAgICAgICBbWzQyLjAzMDAwMDAwMDAwMDAwMSwgLTcxLjI5OTk5OTk5OTk5OTk5N10sIFs0Mi4wMzAwMDAwMDAwMDAwMDEsIC03MC41Njk5OTk5OTk5OTk5OTNdLCBbNDIuNjMwMDAwMDAwMDAwMDAzLCAtNzAuNTY5OTk5OTk5OTk5OTkzXSwgWzQyLjYzMDAwMDAwMDAwMDAwMywgLTcxLjI5OTk5OTk5OTk5OTk5N10sIFs0Mi4wMzAwMDAwMDAwMDAwMDEsIC03MS4yOTk5OTk5OTk5OTk5OTddXSwKICAgICAgICAgICAgICAgICAgICB7CiAgICAgICAgICAgICAgICAgICAgICAgIGNvbG9yOiAnI0ZGMDAwMCcsCiAgICAgICAgICAgICAgICAgICAgICAgIHdlaWdodDogMiwKICAgICAgICAgICAgICAgICAgICAgICAgb3BhY2l0eTogMC45LAogICAgICAgICAgICAgICAgICAgICAgICB9KTsKICAgICAgICAgICAgICAgIG1hcF9lMWMyZWVhMWY0Njc0YTk5ODliZjFhZTQwYThkZTBjYy5hZGRMYXllcihwb2x5X2xpbmVfOWFlYzk4YWM0YWEwNDRiMTk0ZGIzMTYyMTM3NmE4MGUpOwogICAgICAgICAgICAKICAgIAogICAgICAgICAgICB2YXIgbGF5ZXJfY29udHJvbF9kMzIxZmJhYzM4NzQ0NDBlYjk3OWJmNTA2NGNkYzAyMCA9IHsKICAgICAgICAgICAgICAgIGJhc2VfbGF5ZXJzIDogeyAib3BlbnN0cmVldG1hcCIgOiB0aWxlX2xheWVyX2VhOGFmMTNjZjIyMzQ0MGZhMWE0NTdhYTg5YWYwNzE5LCB9LAogICAgICAgICAgICAgICAgb3ZlcmxheXMgOiB7ICJIRiBSYWRhciIgOiBtYWNyb19lbGVtZW50X2YzMDAyNzE0YzFjMzQyYzk4MWM5NzhhOGYyZTg1MGY4LCB9CiAgICAgICAgICAgICAgICB9OwogICAgICAgICAgICBMLmNvbnRyb2wubGF5ZXJzKAogICAgICAgICAgICAgICAgbGF5ZXJfY29udHJvbF9kMzIxZmJhYzM4NzQ0NDBlYjk3OWJmNTA2NGNkYzAyMC5iYXNlX2xheWVycywKICAgICAgICAgICAgICAgIGxheWVyX2NvbnRyb2xfZDMyMWZiYWMzODc0NDQwZWI5NzliZjUwNjRjZGMwMjAub3ZlcmxheXMsCiAgICAgICAgICAgICAgICB7cG9zaXRpb246ICd0b3ByaWdodCcsCiAgICAgICAgICAgICAgICAgY29sbGFwc2VkOiB0cnVlLAogICAgICAgICAgICAgICAgIGF1dG9aSW5kZXg6IHRydWUKICAgICAgICAgICAgICAgIH0pLmFkZFRvKG1hcF9lMWMyZWVhMWY0Njc0YTk5ODliZjFhZTQwYThkZTBjYyk7CiAgICAgICAgCiAgICAKICAgICAgICAgICAgICAgIHZhciBtYXJrZXJfY2x1c3Rlcl8xZWY0Y2YyZTBjOWM0NDk5YmU0NTZlZjlhYjc3OWJhZSA9IEwubWFya2VyQ2x1c3Rlckdyb3VwKCk7CiAgICAgICAgICAgICAgICBtYXBfZTFjMmVlYTFmNDY3NGE5OTg5YmYxYWU0MGE4ZGUwY2MuYWRkTGF5ZXIobWFya2VyX2NsdXN0ZXJfMWVmNGNmMmUwYzljNDQ5OWJlNDU2ZWY5YWI3NzliYWUpOwogICAgICAgICAgICAKICAgIAoKICAgICAgICAgICAgdmFyIG1hcmtlcl8xMGNhZThlODA4ZTM0YWQ3ODBkMmE0NjZjODg5NTJlNiA9IEwubWFya2VyKAogICAgICAgICAgICAgICAgWzQyLjM0Mzc4NDMzMjMsLTcwLjY1MjQ1ODE5MDldLAogICAgICAgICAgICAgICAgewogICAgICAgICAgICAgICAgICAgIGljb246IG5ldyBMLkljb24uRGVmYXVsdCgpCiAgICAgICAgICAgICAgICAgICAgfQogICAgICAgICAgICAgICAgKQogICAgICAgICAgICAgICAgLmFkZFRvKG1hcmtlcl9jbHVzdGVyXzFlZjRjZjJlMGM5YzQ0OTliZTQ1NmVmOWFiNzc5YmFlKTsKICAgICAgICAgICAgCiAgICAKICAgICAgICAgICAgdmFyIHBvcHVwX2QzOTNjYmE5MmVhOTRiMTQ5MTcwOWJiMmU5YTA0NTVkID0gTC5wb3B1cCh7bWF4V2lkdGg6ICczMDAnfSk7CgogICAgICAgICAgICAKICAgICAgICAgICAgICAgIHZhciBodG1sX2ZjZWNhNzQ5ZGUzNTQwOTg5NWE0YzU0YmE2N2UxMmYwID0gJCgnPGRpdiBpZD0iaHRtbF9mY2VjYTc0OWRlMzU0MDk4OTVhNGM1NGJhNjdlMTJmMCIgc3R5bGU9IndpZHRoOiAxMDAuMCU7IGhlaWdodDogMTAwLjAlOyI+W05FQ09GU19HT00zX0ZPUkVDQVNUXTogQk9TVE9OIDE2IE5NIEVhc3Qgb2YgQm9zdG9uLCBNQTwvZGl2PicpWzBdOwogICAgICAgICAgICAgICAgcG9wdXBfZDM5M2NiYTkyZWE5NGIxNDkxNzA5YmIyZTlhMDQ1NWQuc2V0Q29udGVudChodG1sX2ZjZWNhNzQ5ZGUzNTQwOTg5NWE0YzU0YmE2N2UxMmYwKTsKICAgICAgICAgICAgCgogICAgICAgICAgICBtYXJrZXJfMTBjYWU4ZTgwOGUzNGFkNzgwZDJhNDY2Yzg4OTUyZTYuYmluZFBvcHVwKHBvcHVwX2QzOTNjYmE5MmVhOTRiMTQ5MTcwOWJiMmU5YTA0NTVkKTsKCiAgICAgICAgICAgIAogICAgICAgIAogICAgCgogICAgICAgICAgICB2YXIgbWFya2VyX2M4MGMzMThhOTMzMjQ4NmM4MTAzNzA0MzNhYzdlMmQyID0gTC5tYXJrZXIoCiAgICAgICAgICAgICAgICBbNDIuMzI0OCwtNzAuNjM5OTddLAogICAgICAgICAgICAgICAgewogICAgICAgICAgICAgICAgICAgIGljb246IG5ldyBMLkljb24uRGVmYXVsdCgpCiAgICAgICAgICAgICAgICAgICAgfQogICAgICAgICAgICAgICAgKQogICAgICAgICAgICAgICAgLmFkZFRvKG1hcmtlcl9jbHVzdGVyXzFlZjRjZjJlMGM5YzQ0OTliZTQ1NmVmOWFiNzc5YmFlKTsKICAgICAgICAgICAgCiAgICAKICAgICAgICAgICAgdmFyIHBvcHVwXzI1MDBkYjgwZTc4YjRjZjE5MjQ4ZWIxYWNiOTEwM2YzID0gTC5wb3B1cCh7bWF4V2lkdGg6ICczMDAnfSk7CgogICAgICAgICAgICAKICAgICAgICAgICAgICAgIHZhciBodG1sXzhkNTk5OWM4MWRkNTRkOWViZWM1ZWQ0ZDNkMTBjZmQwID0gJCgnPGRpdiBpZD0iaHRtbF84ZDU5OTljODFkZDU0ZDllYmVjNWVkNGQzZDEwY2ZkMCIgc3R5bGU9IndpZHRoOiAxMDAuMCU7IGhlaWdodDogMTAwLjAlOyI+W2dsb2JhbF06IEJPU1RPTiAxNiBOTSBFYXN0IG9mIEJvc3RvbiwgTUE8L2Rpdj4nKVswXTsKICAgICAgICAgICAgICAgIHBvcHVwXzI1MDBkYjgwZTc4YjRjZjE5MjQ4ZWIxYWNiOTEwM2YzLnNldENvbnRlbnQoaHRtbF84ZDU5OTljODFkZDU0ZDllYmVjNWVkNGQzZDEwY2ZkMCk7CiAgICAgICAgICAgIAoKICAgICAgICAgICAgbWFya2VyX2M4MGMzMThhOTMzMjQ4NmM4MTAzNzA0MzNhYzdlMmQyLmJpbmRQb3B1cChwb3B1cF8yNTAwZGI4MGU3OGI0Y2YxOTI0OGViMWFjYjkxMDNmMyk7CgogICAgICAgICAgICAKICAgICAgICAKICAgIAoKICAgICAgICAgICAgdmFyIG1hcmtlcl9lZWUxOWIxZDVkNzI0NmVmYWNlOTY4NzVhYjg5NDVhNiA9IEwubWFya2VyKAogICAgICAgICAgICAgICAgWzQyLjM1MzcwMjgzMDQsLTcwLjY0MTQwMjcxNDhdLAogICAgICAgICAgICAgICAgewogICAgICAgICAgICAgICAgICAgIGljb246IG5ldyBMLkljb24uRGVmYXVsdCgpCiAgICAgICAgICAgICAgICAgICAgfQogICAgICAgICAgICAgICAgKQogICAgICAgICAgICAgICAgLmFkZFRvKG1hcmtlcl9jbHVzdGVyXzFlZjRjZjJlMGM5YzQ0OTliZTQ1NmVmOWFiNzc5YmFlKTsKICAgICAgICAgICAgCiAgICAKICAgICAgICAgICAgdmFyIHBvcHVwXzA5OTEwYjU3MjhlYzQ1OTBiYzllYzQ5NGJmM2IxMjE3ID0gTC5wb3B1cCh7bWF4V2lkdGg6ICczMDAnfSk7CgogICAgICAgICAgICAKICAgICAgICAgICAgICAgIHZhciBodG1sXzQ5MGYzZTE0NjI4MTRhZWZiM2RlYjM0OTBkM2NkMTIxID0gJCgnPGRpdiBpZD0iaHRtbF80OTBmM2UxNDYyODE0YWVmYjNkZWIzNDkwZDNjZDEyMSIgc3R5bGU9IndpZHRoOiAxMDAuMCU7IGhlaWdodDogMTAwLjAlOyI+W1NFQ09PUkFfTkNTVV9DTkFQU106IEJPU1RPTiAxNiBOTSBFYXN0IG9mIEJvc3RvbiwgTUE8L2Rpdj4nKVswXTsKICAgICAgICAgICAgICAgIHBvcHVwXzA5OTEwYjU3MjhlYzQ1OTBiYzllYzQ5NGJmM2IxMjE3LnNldENvbnRlbnQoaHRtbF80OTBmM2UxNDYyODE0YWVmYjNkZWIzNDkwZDNjZDEyMSk7CiAgICAgICAgICAgIAoKICAgICAgICAgICAgbWFya2VyX2VlZTE5YjFkNWQ3MjQ2ZWZhY2U5Njg3NWFiODk0NWE2LmJpbmRQb3B1cChwb3B1cF8wOTkxMGI1NzI4ZWM0NTkwYmM5ZWM0OTRiZjNiMTIxNyk7CgogICAgICAgICAgICAKICAgICAgICAKICAgIAoKICAgICAgICAgICAgdmFyIG1hcmtlcl9kNTRiYjY5MTU3NGQ0OTA0OTQzM2E0YjQyMzA5MzAwOCA9IEwubWFya2VyKAogICAgICAgICAgICAgICAgWzQyLjM0NiwtNzAuNjUxXSwKICAgICAgICAgICAgICAgIHsKICAgICAgICAgICAgICAgICAgICBpY29uOiBuZXcgTC5JY29uLkRlZmF1bHQoKQogICAgICAgICAgICAgICAgICAgIH0KICAgICAgICAgICAgICAgICkKICAgICAgICAgICAgICAgIC5hZGRUbyhtYXBfZTFjMmVlYTFmNDY3NGE5OTg5YmYxYWU0MGE4ZGUwY2MpOwogICAgICAgICAgICAKICAgIAoKICAgICAgICAgICAgICAgIHZhciBpY29uXzE3MzQ2YWVjMjVhMjQxOWI5ODE1Yzc1ZmM5MDU0ZGE2ID0gTC5Bd2Vzb21lTWFya2Vycy5pY29uKHsKICAgICAgICAgICAgICAgICAgICBpY29uOiAnc3RhdHMnLAogICAgICAgICAgICAgICAgICAgIGljb25Db2xvcjogJ3doaXRlJywKICAgICAgICAgICAgICAgICAgICBtYXJrZXJDb2xvcjogJ2dyZWVuJywKICAgICAgICAgICAgICAgICAgICBwcmVmaXg6ICdnbHlwaGljb24nLAogICAgICAgICAgICAgICAgICAgIGV4dHJhQ2xhc3NlczogJ2ZhLXJvdGF0ZS0wJwogICAgICAgICAgICAgICAgICAgIH0pOwogICAgICAgICAgICAgICAgbWFya2VyX2Q1NGJiNjkxNTc0ZDQ5MDQ5NDMzYTRiNDIzMDkzMDA4LnNldEljb24oaWNvbl8xNzM0NmFlYzI1YTI0MTliOTgxNWM3NWZjOTA1NGRhNik7CiAgICAgICAgICAgIAogICAgCiAgICAgICAgICAgIHZhciBwb3B1cF82YTk0ODU4YjMwOTU0NGExYTI0NmFhNDk3YzdlZGFiZSA9IEwucG9wdXAoe21heFdpZHRoOiAnMjY1MCd9KTsKCiAgICAgICAgICAgIAogICAgICAgICAgICAgICAgdmFyIGlfZnJhbWVfMjE1ODkzMmMxYzAxNDFmNWIwMzMzOTI3MGYzMGRkOTQgPSAkKCc8aWZyYW1lIHNyYz0iZGF0YTp0ZXh0L2h0bWw7Y2hhcnNldD11dGYtODtiYXNlNjQsQ2lBZ0lDQUtQQ0ZFVDBOVVdWQkZJR2gwYld3K0NqeG9kRzFzSUd4aGJtYzlJbVZ1SWo0S0lDQWdJRHhvWldGa1Bnb2dJQ0FnSUNBZ0lEeHRaWFJoSUdOb1lYSnpaWFE5SW5WMFppMDRJajRLSUNBZ0lDQWdJQ0E4ZEdsMGJHVStORFF3TVRNOEwzUnBkR3hsUGdvZ0lDQWdJQ0FnSUFvOGJHbHVheUJ5Wld3OUluTjBlV3hsYzJobFpYUWlJR2h5WldZOUltaDBkSEJ6T2k4dlkyUnVMbkI1WkdGMFlTNXZjbWN2WW05clpXZ3ZjbVZzWldGelpTOWliMnRsYUMwd0xqRXlMall1YldsdUxtTnpjeUlnZEhsd1pUMGlkR1Y0ZEM5amMzTWlJQzgrQ2lBZ0lDQWdJQ0FnQ2p4elkzSnBjSFFnZEhsd1pUMGlkR1Y0ZEM5cVlYWmhjMk55YVhCMElpQnpjbU05SW1oMGRIQnpPaTh2WTJSdUxuQjVaR0YwWVM1dmNtY3ZZbTlyWldndmNtVnNaV0Z6WlM5aWIydGxhQzB3TGpFeUxqWXViV2x1TG1weklqNDhMM05qY21sd2RENEtQSE5qY21sd2RDQjBlWEJsUFNKMFpYaDBMMnBoZG1GelkzSnBjSFFpUGdvZ0lDQWdRbTlyWldndWMyVjBYMnh2WjE5c1pYWmxiQ2dpYVc1bWJ5SXBPd284TDNOamNtbHdkRDRLSUNBZ0lDQWdJQ0E4YzNSNWJHVStDaUFnSUNBZ0lDQWdJQ0JvZEcxc0lIc0tJQ0FnSUNBZ0lDQWdJQ0FnZDJsa2RHZzZJREV3TUNVN0NpQWdJQ0FnSUNBZ0lDQWdJR2hsYVdkb2REb2dNVEF3SlRzS0lDQWdJQ0FnSUNBZ0lIMEtJQ0FnSUNBZ0lDQWdJR0p2WkhrZ2V3b2dJQ0FnSUNBZ0lDQWdJQ0IzYVdSMGFEb2dPVEFsT3dvZ0lDQWdJQ0FnSUNBZ0lDQm9aV2xuYUhRNklERXdNQ1U3Q2lBZ0lDQWdJQ0FnSUNBZ0lHMWhjbWRwYmpvZ1lYVjBienNLSUNBZ0lDQWdJQ0FnSUgwS0lDQWdJQ0FnSUNBOEwzTjBlV3hsUGdvZ0lDQWdQQzlvWldGa1Bnb2dJQ0FnUEdKdlpIaytDaUFnSUNBZ0lDQWdDaUFnSUNBZ0lDQWdQR1JwZGlCamJHRnpjejBpWW1zdGNtOXZkQ0krQ2lBZ0lDQWdJQ0FnSUNBZ0lEeGthWFlnWTJ4aGMzTTlJbUpyTFhCc2IzUmthWFlpSUdsa1BTSXdZV1poWVRreVppMHlZekF5TFRRMlkyUXRZalU0TnkxaE9XWmpOMkUyTkRJMk9ESWlQand2WkdsMlBnb2dJQ0FnSUNBZ0lEd3ZaR2wyUGdvZ0lDQWdJQ0FnSUFvZ0lDQWdJQ0FnSUR4elkzSnBjSFFnZEhsd1pUMGlkR1Y0ZEM5cVlYWmhjMk55YVhCMElqNEtJQ0FnSUNBZ0lDQWdJQ0FnS0daMWJtTjBhVzl1S0NrZ2V3b2dJQ0FnSUNBZ0lDQWdkbUZ5SUdadUlEMGdablZ1WTNScGIyNG9LU0I3Q2lBZ0lDQWdJQ0FnSUNBZ0lFSnZhMlZvTG5OaFptVnNlU2htZFc1amRHbHZiaWdwSUhzS0lDQWdJQ0FnSUNBZ0lDQWdJQ0IyWVhJZ1pHOWpjMTlxYzI5dUlEMGdleUprTXpnNE5UQm1NeTFsWlRVNUxUUXpOR0V0T1dFMU55MDROMk15TURjeVltTXdNemtpT25zaWNtOXZkSE1pT25zaWNtVm1aWEpsYm1ObGN5STZXM3NpWVhSMGNtbGlkWFJsY3lJNmV5SndiRzkwSWpwdWRXeHNMQ0owWlhoMElqb2lORFF3TVRNaWZTd2lhV1FpT2lJMU5EUTROVEU0TUMxbE1HWm1MVFE1T0dZdE9UUTRZeTB6WVRZM05XVXhPRFkyTldFaUxDSjBlWEJsSWpvaVZHbDBiR1VpZlN4N0ltRjBkSEpwWW5WMFpYTWlPbnNpWTJGc2JHSmhZMnNpT201MWJHd3NJbkJzYjNRaU9uc2lhV1FpT2lKak1XTXdNekl4WXkwME56Wm1MVFJrWVRJdFltSTROUzB4T0dabVpHVXhNbVkwWXpBaUxDSnpkV0owZVhCbElqb2lSbWxuZFhKbElpd2lkSGx3WlNJNklsQnNiM1FpZlN3aWNtVnVaR1Z5WlhKeklqcGJleUpwWkNJNkltVTBaR1UyWkRjM0xXVTROalF0TkRnMllTMDRPREkzTFdRd1pESTVNVEptTUdWbU1pSXNJblI1Y0dVaU9pSkhiSGx3YUZKbGJtUmxjbVZ5SW4xZExDSjBiMjlzZEdsd2N5STZXMXNpVG1GdFpTSXNJazVGUTA5R1UxOUhUMDB6WDBaUFVrVkRRVk5VSWwwc1d5SkNhV0Z6SWl3aU1TNDBNQ0pkTEZzaVUydHBiR3dpTENJeExqSXdJbDFkZlN3aWFXUWlPaUkxTnpZeU5HVXlZUzB6Wm1NMExUUmlNRGt0WVRZeU55MDRZekkxWldNMU5ESTNNRGNpTENKMGVYQmxJam9pU0c5MlpYSlViMjlzSW4wc2V5SmhkSFJ5YVdKMWRHVnpJanA3SW14cGJtVmZZMkZ3SWpvaWNtOTFibVFpTENKc2FXNWxYMk52Ykc5eUlqcDdJblpoYkhWbElqb2lJek15T0RoaVpDSjlMQ0pzYVc1bFgycHZhVzRpT2lKeWIzVnVaQ0lzSW14cGJtVmZkMmxrZEdnaU9uc2lkbUZzZFdVaU9qVjlMQ0o0SWpwN0ltWnBaV3hrSWpvaWVDSjlMQ0o1SWpwN0ltWnBaV3hrSWpvaWVTSjlmU3dpYVdRaU9pSTRPR1ZpWkRnME1pMHdaREU0TFRSbU16Y3RZVGN5T1MwNE1qYzNNamsyT0Rnek5UQWlMQ0owZVhCbElqb2lUR2x1WlNKOUxIc2lZWFIwY21saWRYUmxjeUk2ZXlKc1lXSmxiQ0k2ZXlKMllXeDFaU0k2SWs5aWMyVnlkbUYwYVc5dWN5SjlMQ0p5Wlc1a1pYSmxjbk1pT2x0N0ltbGtJam9pTW1VMFltUTVNamN0TUdJd1lTMDBORFUxTFRnNU1UWXRZamxoT1RoaE1tRmtOemhqSWl3aWRIbHdaU0k2SWtkc2VYQm9VbVZ1WkdWeVpYSWlmVjE5TENKcFpDSTZJakk1Tm1JNVlqVXhMV05pTldFdE5EY3haUzFoWXpFd0xUVXhPRE5rTXpReFpqUTBZU0lzSW5SNWNHVWlPaUpNWldkbGJtUkpkR1Z0SW4wc2V5SmhkSFJ5YVdKMWRHVnpJanA3SW1OaGJHeGlZV05ySWpwdWRXeHNMQ0p3Ykc5MElqcDdJbWxrSWpvaVl6RmpNRE15TVdNdE5EYzJaaTAwWkdFeUxXSmlPRFV0TVRobVptUmxNVEptTkdNd0lpd2ljM1ZpZEhsd1pTSTZJa1pwWjNWeVpTSXNJblI1Y0dVaU9pSlFiRzkwSW4wc0luSmxibVJsY21WeWN5STZXM3NpYVdRaU9pSmxOakUxWWpVeFlpMWhPR1JtTFRSaU16SXRZVGxpT0MwellqZG1aRGcwWmpZMk5qTWlMQ0owZVhCbElqb2lSMng1Y0doU1pXNWtaWEpsY2lKOVhTd2lkRzl2YkhScGNITWlPbHRiSWs1aGJXVWlMQ0puYkc5aVlXd2lYU3hiSWtKcFlYTWlMQ0l0TUM0M015SmRMRnNpVTJ0cGJHd2lMQ0l3TGpneUlsMWRmU3dpYVdRaU9pSmxNMk5rTXpoa1pTMHdNelZqTFRSaE1EWXRPRGRqTkMwMFpqTmhOREE0WXpnMlpqWWlMQ0owZVhCbElqb2lTRzkyWlhKVWIyOXNJbjBzZXlKaGRIUnlhV0oxZEdWeklqcDdJbXhoWW1Wc0lqcDdJblpoYkhWbElqb2lVMFZEVDA5U1FWOU9RMU5WWDBOT1FWQlRJbjBzSW5KbGJtUmxjbVZ5Y3lJNlczc2lhV1FpT2lJMVpqQmpNREEzWkMwek5EYzVMVFF6TVRndE9EZzJNaTFsTmpjek16SXpORGRsWkdVaUxDSjBlWEJsSWpvaVIyeDVjR2hTWlc1a1pYSmxjaUo5WFgwc0ltbGtJam9pWVRNNFpqSXhaakV0TVRJd1lTMDBabUUxTFdFNU1qRXRNMlZoTlRkaVlqZzVPVGcxSWl3aWRIbHdaU0k2SWt4bFoyVnVaRWwwWlcwaWZTeDdJbUYwZEhKcFluVjBaWE1pT25zaWFYUmxiWE1pT2x0N0ltbGtJam9pTlROaFlUQTJaVE10TnpNNFlpMDBPRGd3TFdFME1Ea3RNamd6Tm1JellqZzFOVGRpSWl3aWRIbHdaU0k2SWt4bFoyVnVaRWwwWlcwaWZTeDdJbWxrSWpvaU1qazJZamxpTlRFdFkySTFZUzAwTnpGbExXRmpNVEF0TlRFNE0yUXpOREZtTkRSaElpd2lkSGx3WlNJNklreGxaMlZ1WkVsMFpXMGlmU3g3SW1sa0lqb2lZVE00WmpJeFpqRXRNVEl3WVMwMFptRTFMV0U1TWpFdE0yVmhOVGRpWWpnNU9UZzFJaXdpZEhsd1pTSTZJa3hsWjJWdVpFbDBaVzBpZlN4N0ltbGtJam9pTXpKbU1USXdZbVV0TWpkaFl5MDBObVUyTFdFNVkyWXRaak13TkdNM016RmxNVEE0SWl3aWRIbHdaU0k2SWt4bFoyVnVaRWwwWlcwaWZWMHNJbkJzYjNRaU9uc2lhV1FpT2lKak1XTXdNekl4WXkwME56Wm1MVFJrWVRJdFltSTROUzB4T0dabVpHVXhNbVkwWXpBaUxDSnpkV0owZVhCbElqb2lSbWxuZFhKbElpd2lkSGx3WlNJNklsQnNiM1FpZlgwc0ltbGtJam9pTVRZMlpXWmlNekl0TkRObVpDMDBNRGMyTFdJM1pXWXRNVE5rWTJKa05qTXlNekppSWl3aWRIbHdaU0k2SWt4bFoyVnVaQ0o5TEhzaVlYUjBjbWxpZFhSbGN5STZleUpzYVc1bFgyTmhjQ0k2SW5KdmRXNWtJaXdpYkdsdVpWOWpiMnh2Y2lJNmV5SjJZV3gxWlNJNklpTmxObVkxT1RnaWZTd2liR2x1WlY5cWIybHVJam9pY205MWJtUWlMQ0pzYVc1bFgzZHBaSFJvSWpwN0luWmhiSFZsSWpvMWZTd2llQ0k2ZXlKbWFXVnNaQ0k2SW5naWZTd2llU0k2ZXlKbWFXVnNaQ0k2SW5raWZYMHNJbWxrSWpvaVpqQTRNakprTmpNdFpXRmpOUzAwWWpFMkxUaGtaRGN0TkdNNE5ERmlPVGxtWVRGbUlpd2lkSGx3WlNJNklreHBibVVpZlN4N0ltRjBkSEpwWW5WMFpYTWlPbnNpWkdGMFlWOXpiM1Z5WTJVaU9uc2lhV1FpT2lJNE9UZGhNamc0T1MwNE5URXpMVFE0WVdFdE9EZGtPUzFsWWpBeU9UWm1aVFJrWm1ZaUxDSjBlWEJsSWpvaVEyOXNkVzF1UkdGMFlWTnZkWEpqWlNKOUxDSm5iSGx3YUNJNmV5SnBaQ0k2SW1Zd09ESXlaRFl6TFdWaFl6VXROR0l4TmkwNFpHUTNMVFJqT0RReFlqazVabUV4WmlJc0luUjVjR1VpT2lKTWFXNWxJbjBzSW1odmRtVnlYMmRzZVhCb0lqcHVkV3hzTENKdGRYUmxaRjluYkhsd2FDSTZiblZzYkN3aWJtOXVjMlZzWldOMGFXOXVYMmRzZVhCb0lqcDdJbWxrSWpvaU1UQTFabVk1T0RBdE5UVTVZeTAwWXpNd0xUZzRNR1F0WVdZd01USTBNakJsTUdOaklpd2lkSGx3WlNJNklreHBibVVpZlN3aWMyVnNaV04wYVc5dVgyZHNlWEJvSWpwdWRXeHNmU3dpYVdRaU9pSTFaakJqTURBM1pDMHpORGM1TFRRek1UZ3RPRGcyTWkxbE5qY3pNekl6TkRkbFpHVWlMQ0owZVhCbElqb2lSMng1Y0doU1pXNWtaWEpsY2lKOUxIc2lZWFIwY21saWRYUmxjeUk2ZXlKa2FXMWxibk5wYjI0aU9qRXNJbkJzYjNRaU9uc2lhV1FpT2lKak1XTXdNekl4WXkwME56Wm1MVFJrWVRJdFltSTROUzB4T0dabVpHVXhNbVkwWXpBaUxDSnpkV0owZVhCbElqb2lSbWxuZFhKbElpd2lkSGx3WlNJNklsQnNiM1FpZlN3aWRHbGphMlZ5SWpwN0ltbGtJam9pTnpKaU56YzJOalF0Tm1Jd1lTMDBNRGs0TFRnMVkyVXRaV1JoTVdOaE1EaGxOV1l3SWl3aWRIbHdaU0k2SWtKaGMybGpWR2xqYTJWeUluMTlMQ0pwWkNJNkltSTVNamhtTW1FekxXSXpNV1F0TkRrM1lTMDVZekl3TFdNMFl6UXpZemd6TnpneVpDSXNJblI1Y0dVaU9pSkhjbWxrSW4wc2V5SmhkSFJ5YVdKMWRHVnpJanA3SW14cGJtVmZZV3h3YUdFaU9uc2lkbUZzZFdVaU9qQXVNWDBzSW14cGJtVmZZMkZ3SWpvaWNtOTFibVFpTENKc2FXNWxYMk52Ykc5eUlqcDdJblpoYkhWbElqb2lJekZtTnpkaU5DSjlMQ0pzYVc1bFgycHZhVzRpT2lKeWIzVnVaQ0lzSW14cGJtVmZkMmxrZEdnaU9uc2lkbUZzZFdVaU9qVjlMQ0o0SWpwN0ltWnBaV3hrSWpvaWVDSjlMQ0o1SWpwN0ltWnBaV3hrSWpvaWVTSjlmU3dpYVdRaU9pSmpNbVl6WlRCbE9TMDJaV0V3TFRReU9XWXRZV1F5TkMwd056QmxOVGd4T0RkaU1tWWlMQ0owZVhCbElqb2lUR2x1WlNKOUxIc2lZWFIwY21saWRYUmxjeUk2ZTMwc0ltbGtJam9pWmpnM1ltUTRaR010WTJRMlpTMDBOMkZtTFRrelpqTXRaakV3T1RWa1pUWTJZMlkySWl3aWRIbHdaU0k2SWtKaGMybGpWR2xqYTBadmNtMWhkSFJsY2lKOUxIc2lZWFIwY21saWRYUmxjeUk2ZXlKallXeHNZbUZqYXlJNmJuVnNiQ3dpWTI5c2RXMXVYMjVoYldWeklqcGJJbmdpTENKNUlsMHNJbVJoZEdFaU9uc2llQ0k2ZXlKZlgyNWtZWEp5WVhsZlh5STZJa0ZCUTBFeVJIWmtaRlZKUVVGSGFFaFFPVEV4VVdkQlFWVk1Xa016V0ZaRFFVRkJORXBWWW1Sa1ZVbEJRVU5EVlZOa01URlJaMEZCUTBGT1RqTllWa05CUVVSM1kxWkVaR1JWU1VGQlRtcG5WVGt4TVZGblFVRjNSVGxZTTFoV1EwRkJRMjkyYkhKa1pGVkpRVUZLUVhSWWRERXhVV2RCUVdWS2VHZ3pXRlpEUVVGQ1owTXlXR1JrVlVsQlFVVm9ObUZPTVRGUlowRkJUVTlzY2pOWVZrTkJRVUZaVjBjdlpHUlZTVUZCUVVSSVkzUXhNVkZuUVVFMlJGWXlNMWhXUTBGQlJGRndTRzVrWkZWSlFVRk1aMVJtWkRFeFVXZEJRVzlKUzBFeldGWkRRVUZEU1RoWlVHUmtWVWxCUVVoQ1oyZzVNVEZSWjBGQlYwMHJTek5ZVmtOQlFVSkJVRzgzWkdSVlNVRkJRMmwwYTJReE1WRm5RVUZGUW5sV00xaFdRMEZCUkRScGNHcGtaRlZKUVVGUFJEVnRPVEV4VVdkQlFYbEhhV1l6V0ZaRFFVRkRkekUyVEdSa1ZVbEJRVXBvUjNCME1URlJaMEZCWjB4WGNETllWa05CUVVKdlNrc3paR1JWU1VGQlJrTlVjMDR4TVZGblFVRlBRVXN3TTFoV1EwRkJRV2RqWW1aa1pGVkpRVUZCYW1kMWRERXhVV2RCUVRoRk5pc3pXRlpEUVVGRVdYWmpTR1JrVlVsQlFVMUJjM2hrTVRGUlowRkJjVXAyU1ROWVZrTkJRVU5SUTNONlpHUlZTVUZCU0dnMWVqa3hNVkZuUVVGWlQycFRNMWhXUTBGQlFrbFdPV0prWkZWSlFVRkVSRWN5WkRFeFVXZEJRVWRFV0dReldGWkRRVUZCUVhCUFJHUmtWVWxCUVU5blV6Vk9NVEZSWjBGQk1FbEliak5ZVmtOQlFVTTBPRTl5WkdSVlNVRkJTMEptTjNReE1WRm5RVUZwVFRkNE0xaFdRMEZCUW5kUVpsaGtaRlZKUVVGR2FYTXJUakV4VVdkQlFWRkNkamd6V0ZaRFFVRkJiMmwyTDJSa1ZVbEJRVUpFTlVGME5URlJaMEZCSzBkalJ6TnVWa05CUVVSbk1XZHVaV1JWU1VGQlRXaEdSR1ExTVZGblFVRnpURkZSTTI1V1EwRkJRMWxKZUZSbFpGVkpRVUZKUTFOR09UVXhVV2RCUVdGQlJXSXpibFpEUVVGQ1VXTkNOMlZrVlVsQlFVUnFaa2xrTlRGUlowRkJTVVUwYkROdVZrTkJRVUZKZGxOcVpXUlZTVUZCVUVGeVRFNDFNVkZuUVVFeVNtOTJNMjVXUTBGQlJFRkRWRkJsWkZWSlFVRkxhRFJPZERVeFVXZEJRV3RQWXpVemJsWkRRVUZDTkZacU0yVmtWVWxCUVVkRVJsRk9OVEZSWjBGQlUwUlNSVE51VmtOQlFVRjNiekJtWldSVlNVRkJRbWRUVXprMU1WRm5RVUZCU1VaUE0yNVdRMEZCUkc4M01VaGxaRlZKUVVGT1FtVldaRFV4VVdkQlFYVk5NVmt6YmxaRFFVRkRaMUJHZW1Wa1ZVbEJRVWxwY2xnNU5URlJaMEZCWTBKd2FqTnVWa05CUVVKWmFWZGlaV1JWU1VGQlJVUTBZV1ExTVZGblFVRkxSMlIwTTI1V1EwRkJRVkV4YmtSbFpGVkpRVUZRYUVWa1RqVXhVV2RCUVRSTVRqTXpibFpEUVVGRVNVbHVkbVZrVlVsQlFVeERVbVowTlRGUlowRkJiVUZEUXpOdVZrTkJRVU5CWWpSWVpXUlZTVUZCUjJwbGFVNDFNVkZuUVVGVlJUSk5NMjVXUTBGQlFUUjJTUzlsWkZWSlFVRkRRWEpyT1RVeFVXZEJRVU5LY1ZjemJsWkRRVUZFZDBOS2NtVmtWVWxCUVU1b00yNWtOVEZSWjBGQmQwOWhaek51VmtOQlFVTnZWbUZVWldSVlNVRkJTa1JGY0RrMU1WRm5RVUZsUkU5eU0yNVdRMEZCUW1kdmNUZGxaRlZKUVVGRloxSnpkRFV4VVdkQlFVMUpRekV6YmxaRFFVRkJXVGMzYW1Wa1ZVbEJRVUZDWlhaT05URlJaMEZCTmsxNUx6TnVWa05CUVVSUlR6aFFaV1JWU1VGQlRHbHhlSFExTVZGblFVRnZRbTVMTTI1V1EwRkJRMGxwVFRObFpGVkpRVUZJUkRNd1RqVXhVV2RCUVZkSFlsVXpibFpEUVVGQ1FURmtabVZrVlVsQlFVTm9SVEk1TlRGUlowRkJSVXhRWlROdVZrTkJRVVEwU1dWTVpXUlZTVUZCVDBOUk5XUTFNVkZuUVVGNVVDOXZNMjVXUTBGQlEzZGlkWHBsWkZWSlFVRkthbVEzT1RVeFVXZEJRV2RGZW5vemJsWkRRVUZDYjNVdlltVmtWVWxCUVVaQmNTdDBOVEZSWjBGQlQwcHVPVE51VmtOQlFVRm5RMEZJWm1SVlNVRkJRV2d6UWs0NU1WRm5RVUU0VDFWSU16TldRMEZCUkZsV1FYWm1aRlZKUVVGTlJFUkVkRGt4VVdkQlFYRkVTVk16TTFaRFFVRkRVVzlTV0daa1ZVbEJRVWhuVVVka09URlJaMEZCV1VnNFl6TXpWa05CUVVKSk4yZ3ZabVJWU1VGQlJFSmtTVGs1TVZGblFVRkhUWGR0TXpOV1EwRkJRVUZQZVhKbVpGVkpRVUZQYVhCTVpEa3hVV2RCUVRCQ1ozZ3pNMVpEUVVGRE5HaDZWR1prVlVsQlFVdEVNazQ1T1RGUlowRkJhVWRWTnpNelZrTkJRVUozTVVRM1ptUlZTVUZCUm1oRVVYUTVNVkZuUVVGUlRFcEdNek5XUTBGQlFXOUpWVzVtWkZWSlFVRkNRMUZVVGpreFVXZEJRU3RRTlZBek0xWkRRVUZFWjJKV1VHWmtWVWxCUVUxcVkxWjBPVEZSWjBGQmMwVjBZVE16VmtOQlFVTlpkV3d6Wm1SVlNVRkJTVUZ3V1dRNU1WRm5RVUZoU21ock16TldRMEZCUWxGQ01tcG1aRlZKUVVGRWFESmhPVGt4VVdkQlFVbFBWblV6TTFaRFFVRkJTVlpJVEdaa1ZVbEJRVkJFUTJSa09URlJaMEZCTWtSR05UTXpWa01pTENKa2RIbHdaU0k2SW1ac2IyRjBOalFpTENKemFHRndaU0k2V3pFMk9GMTlMQ0o1SWpwN0lsOWZibVJoY25KaGVWOWZJam9pUVVGQlFXZEtjVmxOYTBGQlFVRkNRVmRKWjNsUlFVRkJRVTlCVm1WRVNrRkJRVUZCYjA1T2JrMXJRVUZCUVVSQlIxWTBlVkZCUVVGQlQwSm1Wa1JLUVVGQlFVRkJTMXBMVFd0QlFVRkJRVUZoYTJONVVVRkJRVUZCUVhWU1JFcEJRVUZCUVVGUVNrRk5hMEZCUVVGQ1oxWnFXWGxSUVVGQlFVOUROa3Q2U2tGQlFVRkJVVUk0YUUxclFVRkJRVUZuYUZOcmVWRkJRVUZCUVVSeVRWUktRVUZCUVVFMFJrRTJUV3RCUVVGQlJHZEZhelI1VVVGQlFVRlBSRlZaVkVwQlFVRkJRVFJLV2pGTmEwRkJRVUZDUVZZeWEzbFJRVUZCUVVsQldGaFVTa0ZCUVVGQk5FNWtVVTFyUVVGQlFVUm5RVzQwZVZGQlFVRkJRVUYxY1hwS1FVRkJRVUZCUm01WlRXdEJRVUZCUVVGdGNtOTVVVUZCUVVGRFJHSnVSRXBCUVVGQlFVbENlQzlOYTBGQlFVRkNaMkpIYjNsUlFVRkJRVTFET0ZaVVNrRkJRVUZCUVVFeFFrMXJRVUZCUVVOQmVWUlplVkZCUVVGQlFVTkhURVJLUVVGQlFVRm5SVWxwVFd0QlFVRkJRbWRwUW05NVVVRkJRVUZEUkU5RmFrcEJRVUZCUVVGQ1VVeE5hMEZCUVVGQ1oyRjZUWGxSUVVGQlFVdEVRMWQ2U2tGQlFVRkJRVUp4UlUxclFVRkJRVUpCSzFCcmVWRkJRVUZCUzBSWFlucE9RVUZCUVVFMFRGUnNUVEJCUVVGQlJFRkVSSGN3VVVGQlFVRk5RbXRyYWxKQlFVRkJRVzlNZW05T1JVRkJRVUZCUVRjMk9EQlJRVUZCUVVkQmFHUjZVa0ZCUVVGQmQwWk5LMDVGUVVGQlFVUkJZMmxGTUZGQlFVRkJUVU5TUWtSU1FVRkJRVUYzVEVSdVRUQkJRVUZCUVdkQ2NWRjZVVUZCUVVGTFFtSlpSRTVCUVVGQlFVRk1SV05OTUVGQlFVRkRaemhtWTNsUlFVRkJRVU5CZVRCNlNrRkJRVUZCZDBoTGRVMXJRVUZCUVVGbmNrdFZlVkZCUVVGQlIwUnNia1JLUVVGQlFVRjNRalpWVFd0QlFVRkJSRUZvYzJkNVVVRkJRVUZQUkhVdlJFcEJRVUZCUVRSR1dYaE5NRUZCUVVGQ1FWaHVXWHBSUVVGQlFVbENiSFY2VGtGQlFVRkJORWQzUVU1RlFVRkJRVUpCUm5WWmVsRkJRVUZCU1VNdmVYcE9RVUZCUVVFMFIybDRUVEJCUVVGQlJFRkdTVlY2VVVGQlFVRk5SRUZYUkU1QlFVRkJRVzlIZDNOTk1FRkJRVUZEUVZsNVNYcFJRVUZCUVVkQ1lVZEVUa0ZCUVVGQlVVWkZUMDB3UVVGQlFVSkJiM1l3ZVZGQlFVRkJSMFI2TjBSS1FVRkJRVUZaUlZSalRXdEJRVUZCUkVGV1RrRjVVVUZCUVVGRlFteDRSRXBCUVVGQlFXOUlWelJOYTBGQlFVRkVaMU5pUlhsUlFVRkJRVVZCWlhGcVNrRkJRVUZCWjFCTGFVMXJRVUZCUVVOQlFtRTRlVkZCUVVGQlIwRlpkWHBLUVVGQlFVRlpRM1pJVFd0QlFVRkJRMEZPZGxWNVVVRkJRVUZOUWtKSmVrNUJRVUZCUVRSRmVGSk5NRUZCUVVGQ1oxaHJVWHBSUVVGQlFVMUNkazU2VGtGQlFVRkJVVWxGY1Uwd1FVRkJRVUZCY2xSM2VsRkJRVUZCVFVSWlZHcE9RVUZCUVVGblFWSm9UVEJCUVVGQlJHZERSREI2VVVGQlFVRkhRVTVIVkU1QlFVRkJRWGRDU0RGTmEwRkJRVUZDWjFRNVVYbFJRVUZCUVVORFRuTjZTa0ZCUVVGQmQwMXhVMDFyUVVGQlFVTkJVRzUzZVZGQlFVRkJSVU41V2xSS1FVRkJRVUZCUTFwUVRXdEJRVUZCUkdkNlJVMTVVVUZCUVVGUFFucFBSRXBCUVVGQlFYZENiM1JOYTBGQlFVRkJRVWN3YTNsUlFVRkJRVVZCWWxwVVNrRkJRVUZCWjBKMVFrMXJRVUZCUVVSbllYUTRlVkZCUVVGQlEwTTJVRlJPUVVGQlFVRm5RVzFqVFRCQlFVRkJRa0ZVWkc5NlVVRkJRVUZEUTFKSFJGSkJRVUZCUVRST1VsZE9SVUZCUVVGRFFUWjZRVEJSUVVGQlFVTkJRME42VWtGQlFVRkJkMEpxYkUwd1FVRkJRVVJuV1RaM2VsRkJRVUZCUVVOMlkzcE9RVUZCUVVGSlVHODJUVEJCUVVGQlJFRkhRa0Y2VVVGQlFVRkhRVE0xVkVwQlFVRkJRVUZHWVRaTmEwRkJRVUZDUVhGaFRYbFJRVUZCUVV0RU9HcEVTa0ZCUVVGQk5FVTVNazFyUVVGQlFVRm5jakk0ZVZGQlFVRkJTVUZQWVZSS1FVRkJRVUYzUnpGcFRXdEJRVUZCUW1kd1dWbDVVVUZCUVVGQlJHUnhha3BCUVVGQlFXOUNWRkJOYTBGQlFVRkRaMHRGVFhwUlFVRkJRVTFCT0hSNlRrRkJRVUZCZDBaQmNrNUZRVUZCUVVObmExSTRNRkZCUVVGQlNVUlRSWHBTUVVGQlFVRlpRazFKVGtWQlFVRkJSRUZhVFZGNlVVRkJRVUZEUXpKblJFNUJRVUZCUVdkQll6bE5NRUZCUVVGQloxSm9XWHBSUVVGQlFVdERSVGQ2U2tGQlFVRkJVVTFRU1UxclFVRkJRVU5uUVRkamVWRkJRVUZCVDBKRWNGUktRVUZCUVVGUlNWTlVUV3RCUVVGQlFrRlVXa2w1VVVGQlFVRkZRVmRyVkVwQlFVRkJRVkZPSzFCTmEwRkJRVUZCWjFjMVdYbFJRVUZCUVVORVdHNUVTa0ZCUVVGQlFVWlBhazFyUVVGQlFVUkJObkl3ZVZGQlFVRkJTME5ETWtSS1FVRkJRVUZaUW5KNlRXdEJRVUZCUkVGVEx6UjVVVUZCUVVGQlFqbERWRTVCUVVGQlFWbExORlZOTUVGQlFVRkRaM3BSWjNwUlFVRkJRVTFFY3k5RVNrRkJRVUZCUVVGNmVFMXJRVUZCUVVGQlJGQkZlVkZCUVVGQlFVRk5PRlJLUVNJc0ltUjBlWEJsSWpvaVpteHZZWFEyTkNJc0luTm9ZWEJsSWpwYk1UWTRYWDE5ZlN3aWFXUWlPaUk0T1RkaE1qZzRPUzA0TlRFekxUUTRZV0V0T0Rka09TMWxZakF5T1RabVpUUmtabVlpTENKMGVYQmxJam9pUTI5c2RXMXVSR0YwWVZOdmRYSmpaU0o5TEhzaVlYUjBjbWxpZFhSbGN5STZleUpqWVd4c1ltRmpheUk2Ym5Wc2JIMHNJbWxrSWpvaU1EZGxNV1U0TlRndE1ERm1ZUzAwTmpFM0xXSTVOVGt0TURRNE5ESTJaalpsT1RSaElpd2lkSGx3WlNJNklrUmhkR0ZTWVc1blpURmtJbjBzZXlKaGRIUnlhV0oxZEdWeklqcDdJbU5oYkd4aVlXTnJJanB1ZFd4c0xDSmpiMngxYlc1ZmJtRnRaWE1pT2xzaWVDSXNJbmtpWFN3aVpHRjBZU0k2ZXlKNElqcDdJbDlmYm1SaGNuSmhlVjlmSWpvaVFVRkRRVEpFZG1Sa1ZVbEJRVWRvU0ZBNU1URlJaMEZCVlV4YVF6TllWa05CUVVFMFNsVmlaR1JWU1VGQlEwTlZVMlF4TVZGblFVRkRRVTVPTTFoV1EwRkJSSGRqVmtSa1pGVkpRVUZPYW1kVk9URXhVV2RCUVhkRk9WZ3pXRlpEUVVGRGIzWnNjbVJrVlVsQlFVcEJkRmgwTVRGUlowRkJaVXA0YUROWVZrTkJRVUpuUXpKWVpHUlZTVUZCUldnMllVNHhNVkZuUVVGTlQyeHlNMWhXUTBGQlFWbFhSeTlrWkZWSlFVRkJSRWhqZERFeFVXZEJRVFpFVmpJeldGWkRRVUZFVVhCSWJtUmtWVWxCUVV4blZHWmtNVEZSWjBGQmIwbExRVE5ZVmtOQlFVTkpPRmxRWkdSVlNVRkJTRUpuYURreE1WRm5RVUZYVFN0TE0xaFdRMEZCUWtGUWJ6ZGtaRlZKUVVGRGFYUnJaREV4VVdkQlFVVkNlVll6V0ZaRFFVRkVOR2x3YW1Sa1ZVbEJRVTlFTlcwNU1URlJaMEZCZVVkcFpqTllWa05CUVVOM01UWk1aR1JWU1VGQlNtaEhjSFF4TVZGblFVRm5URmR3TTFoV1EwRkJRbTlLU3pOa1pGVkpRVUZHUTFSelRqRXhVV2RCUVU5QlN6QXpXRlpEUVVGQloyTmlabVJrVlVsQlFVRnFaM1YwTVRGUlowRkJPRVUyS3pOWVZrTkJRVVJaZG1OSVpHUlZTVUZCVFVGemVHUXhNVkZuUVVGeFNuWkpNMWhXUTBGQlExRkRjM3BrWkZWSlFVRklhRFY2T1RFeFVXZEJRVmxQYWxNeldGWkRRVUZDU1ZZNVltUmtWVWxCUVVSRVJ6SmtNVEZSWjBGQlIwUllaRE5ZVmtOQlFVRkJjRTlFWkdSVlNVRkJUMmRUTlU0eE1WRm5RVUV3U1VodU0xaFdRMEZCUXpRNFQzSmtaRlZKUVVGTFFtWTNkREV4VVdkQlFXbE5OM2d6V0ZaRFFVRkNkMUJtV0dSa1ZVbEJRVVpwY3l0T01URlJaMEZCVVVKMk9ETllWa05CUVVGdmFYWXZaR1JWU1VGQlFrUTFRWFExTVZGblFVRXJSMk5ITTI1V1EwRkJSR2N4WjI1bFpGVkpRVUZOYUVaRVpEVXhVV2RCUVhOTVVWRXpibFpEUVVGRFdVbDRWR1ZrVlVsQlFVbERVMFk1TlRGUlowRkJZVUZGWWpOdVZrTkJRVUpSWTBJM1pXUlZTVUZCUkdwbVNXUTFNVkZuUVVGSlJUUnNNMjVXUTBGQlFVbDJVMnBsWkZWSlFVRlFRWEpNVGpVeFVXZEJRVEpLYjNZemJsWkRRVUZFUVVOVVVHVmtWVWxCUVV0b05FNTBOVEZSWjBGQmEwOWpOVE51VmtOQlFVSTBWbW96WldSVlNVRkJSMFJHVVU0MU1WRm5RVUZUUkZKRk0yNVdRMEZCUVhkdk1HWmxaRlZKUVVGQ1oxTlRPVFV4VVdkQlFVRkpSazh6YmxaRFFVRkViemN4U0dWa1ZVbEJRVTVDWlZaa05URlJaMEZCZFUweFdUTnVWa05CUVVOblVFWjZaV1JWU1VGQlNXbHlXRGsxTVZGblFVRmpRbkJxTTI1V1EwRkJRbGxwVjJKbFpGVkpRVUZGUkRSaFpEVXhVV2RCUVV0SFpIUXpibFpEUVVGQlVURnVSR1ZrVlVsQlFWQm9SV1JPTlRGUlowRkJORXhPTXpOdVZrTkJRVVJKU1c1MlpXUlZTVUZCVEVOU1puUTFNVkZuUVVGdFFVTkRNMjVXUTBGQlEwRmlORmhsWkZWSlFVRkhhbVZwVGpVeFVXZEJRVlZGTWswemJsWkRRVUZCTkhaSkwyVmtWVWxCUVVOQmNtczVOVEZSWjBGQlEwcHhWek51VmtOQlFVUjNRMHB5WldSVlNVRkJUbWd6Ym1RMU1WRm5RVUYzVDJGbk0yNVdRMEZCUTI5V1lWUmxaRlZKUVVGS1JFVndPVFV4VVdkQlFXVkVUM0l6YmxaRFFVRkNaMjl4TjJWa1ZVbEJRVVZuVW5OME5URlJaMEZCVFVsRE1UTnVWa05CUVVGWk56ZHFaV1JWU1VGQlFVSmxkazQxTVZGblFVRTJUWGt2TTI1V1EwRkJSRkZQT0ZCbFpGVkpRVUZNYVhGNGREVXhVV2RCUVc5Q2Jrc3pibFpEUVVGRFNXbE5NMlZrVlVsQlFVaEVNekJPTlRGUlowRkJWMGRpVlROdVZrTkJRVUpCTVdSbVpXUlZTVUZCUTJoRk1qazFNVkZuUVVGRlRGQmxNMjVXUTBGQlJEUkpaVXhsWkZWSlFVRlBRMUUxWkRVeFVXZEJRWGxRTDI4emJsWkRRVUZEZDJKMWVtVmtWVWxCUVVwcVpEYzVOVEZSWjBGQlowVjZlak51VmtOQlFVSnZkUzlpWldSVlNVRkJSa0Z4SzNRMU1WRm5RVUZQU200NU0yNVdRMEZCUVdkRFFVaG1aRlZKUVVGQmFETkNUamt4VVdkQlFUaFBWVWd6TTFaRFFVRkVXVlpCZG1aa1ZVbEJRVTFFUkVSME9URlJaMEZCY1VSSlV6TXpWa01pTENKa2RIbHdaU0k2SW1ac2IyRjBOalFpTENKemFHRndaU0k2V3pFek9GMTlMQ0o1SWpwN0lsOWZibVJoY25KaGVWOWZJam9pV20xYWJWcHRXbTFOTUVKdFdtMWFiVnB0V1hwUlIxcHRXbTFhYlZwcVRrRmFiVnB0V20xYWJVMHdRbTFhYlZwdFdtMVplbEZIV20xYWJWcHRXbXBPUVVGQlFVRkJRVU5CVFRCQlFVRkJRVUZCU1VGNlVVZGFiVnB0V20xYWFrNUJUWHBOZWsxNlRYcE5NRUp0V20xYWJWcDFXWGxSVFROTmVrMTZUWHBFU2tGYWJWcHRXbTFpYlUxclFtMWFiVnB0V25WWmVWRkhXbTFhYlZwdE5XcEtRVnB0V20xYWJXSnRUV3RCUVVGQlFVRkJTVUY2VVVGQlFVRkJRVUZCUkZKQmJYQnRXbTFhYTFwT1JVSnRXbTFhYlZwMVdYcFJTbkZhYlZwdFdtMVVUa0Y2WTNwTmVrMTRUVTB3UTJGdFdtMWFiVnByZVZGSFdtMWFiVnB0V21wS1FYcGplazE2VFhoTlRXdEJRVUZCUVVGQlFVRjVVVXB4V20xYWJWcEhWRXBCYlhCdFdtMWFhMXBOYTBGQlFVRkJRVUZCUVhsUlFVRkJRVUZCUVVGRVNrRnRjRzFhYlZwcldrMXJRMkZ0V20xYWJWSnJlVkZLY1ZwdFdtMWFSMVJLUVZwdFdtMWFiV0p0VFZWQ2JWcHRXbTFhZFZsNFVVcHhXbTFhYlZwdFZFWkJUWHBOZWsxNlQzcE5WVUp0V20xYWJWcDFXWGhSUkUxNlRYcE5lazE2U2tGTmVrMTZUWHBQZWsxclEyRnRXbTFhYlZKcmVsRkhXbTFhYlZwdFdtcE9RVnB0V20xYWJXSnRUVEJCUVVGQlFVRkJRVUV3VVVweFdtMWFiVnB0VkZKQmJYQnRXbTFhYlZwT1JVUk9lazE2VFhwRmR6QlJTbkZhYlZwdFdtMVVUa0ZOZWsxNlRYcFBlazB3UW0xYWJWcHRXblZaZWxGS2NWcHRXbTFhUjFSU1FWcHRXbTFhYlZwdFRrVkJlazE2VFhwTmVrMTZVVUZCUVVGQlFVRm5SRXBCVFhwTmVrMTZUWHBOYTBST2VrMTZUWHBGZDNsUlIxcHRXbTFhYlZwcVNrRkJRVUZCUVVGQlFVMXJRVUZCUVVGQlFVRkJlVkZIV20xYWJWcHROV3BHUVUxNlRYcE5lazk2VFZWRVRucE5lazE2UlhkNVVVMHpUWHBOZWsxVVJFNUJiWEJ0V20xYWJWcE5NRUZCUVVGQlFVRkpRVEJSUVVGQlFVRkJRVUZFVWtGQlFVRkJRVUZCUVU1RlJFNTZUWHBOZWsxM01GRk5NMDE2VFhwTmVrUlNRVnB0V20xYWJXSnRUa1ZEWVcxYWJWcHRXbXN3VVUwelRYcE5lazFVUkZKQlRYcE5lazE2VDNwTk1FTmhiVnB0V20xU2EzcFJTbkZhYlZwdFdrZFVUa0Y2WTNwTmVrMTRUVTB3UkU1NlRYcE5la1YzZWxGRVRYcE5lazE2VFhwT1FVRkJRVUZCUVVGQlRUQkVUbnBOZWsxNlRYZDVVVWRhYlZwdFdtMDFha3BCV20xYWJWcHRZbTFOYTBKdFdtMWFiVnAxV1hsUlIxcHRXbTFhYlRWcVNrRk5lazE2VFhwTmVrMHdRVUZCUVVGQlFVbEJlbEZFVFhwTmVrMTZjM3BPUVZwdFdtMWFiV0p0VFRCRVRucE5lazE2Ulhjd1VVRkJRVUZCUVVGblJGSkJRVUZCUVVGQlFVRk9SVVJPZWsxNlRYcEZkM3BSU25GYWJWcHRXbTFVVGtGdGNHMWFiVnB0V2swd1JFNTZUWHBOZWtWM2VsRk5NMDE2VFhwTlZFUktRVTE2VFhwTmVrOTZUVlZCUVVGQlFVRkJRVUY1VVVkYWJWcHRXbTFhYWtwQmVtTjZUWHBOZWsxTmEwTmhiVnB0V20xU2EzcFJTbkZhYlZwdFdrZFVUa0ZOZWsxNlRYcE5lazB3UkU1NlRYcE5la1YzZWxGSFdtMWFiVnB0V21wT1FWcHRXbTFhYlZwdFRUQkNiVnB0V20xYWJWbDZVVWRhYlZwdFdtMWFhazVCUVVGQlFVRkJRMEZOTUVOaGJWcHRXbTFhYTNwUlJFMTZUWHBOZW5ONlRrRjZZM3BOZWsxNlRVMHdRbTFhYlZwdFduVlplbEZOTTAxNlRYcE5WRVJTUVVGQlFVRkJRVUZCVGxWRVRucE5lazE2UlhjeFVVUk5lazE2VFhwemVsSkJRVUZCUVVGQlFVRk9WVVJPZWsxNlRYcE5kekJSUjFwdFdtMWFiVFZxVWtGdGNHMWFiVnB0V2s1RlJFNTZUWHBOZWtWM01GRkhXbTFhYlZwdFdtcFNRWHBqZWsxNlRYaE5Ua1ZEWVcxYWJWcHRVbXN3VVVkYWJWcHRXbTAxYWs1QldtMWFiVnB0WW0xTk1FRkJRVUZCUVVGQlFUQlJTbkZhYlZwdFdtMVVUa0ZCUVVGQlFVRkRRVTB3UVVGQlFVRkJRVWxCZWxGSFdtMWFiVnB0V21wT1FVRkJRVUZCUVVOQlRUQkJRVUZCUVVGQlNVRjZVVTB6VFhwTmVrMTZSRTVCZW1ONlRYcE5lazFOTUVGQlFVRkJRVUZCUVRCUlJFMTZUWHBOZWsxNlVrRWlMQ0prZEhsd1pTSTZJbVpzYjJGME5qUWlMQ0p6YUdGd1pTSTZXekV6T0YxOWZYMHNJbWxrSWpvaU5qSXlPRGcyT0RjdFpUQXdNUzAwWTJOaExUazJOekV0TVRNeVpEUTVNek5oT0RJM0lpd2lkSGx3WlNJNklrTnZiSFZ0YmtSaGRHRlRiM1Z5WTJVaWZTeDdJbUYwZEhKcFluVjBaWE1pT250OUxDSnBaQ0k2SWpVNVlURXlabVEwTFdWallXRXRORFF4WWkxaVlXSTRMV1poWVdSaU9USTJZVGcyTXlJc0luUjVjR1VpT2lKTWFXNWxZWEpUWTJGc1pTSjlMSHNpWVhSMGNtbGlkWFJsY3lJNmV5SmpZV3hzWW1GamF5STZiblZzYkN3aVkyOXNkVzF1WDI1aGJXVnpJanBiSW5naUxDSjVJbDBzSW1SaGRHRWlPbnNpZUNJNmV5SmZYMjVrWVhKeVlYbGZYeUk2SWtGQlFrRlFiemRrWkZWSlFVRkRhWFJyWkRFeFVXZEJRVVZDZVZZeldGWkRRVUZFTkdsd2FtUmtWVWxCUVU5RU5XMDVNVEZSWjBGQmVVZHBaak5ZVmtOQlFVTjNNVFpNWkdSVlNVRkJTbWhIY0hReE1WRm5RVUZuVEZkd00xaFdRMEZCUW05S1N6TmtaRlZKUVVGR1ExUnpUakV4VVdkQlFVOUJTekF6V0ZaRFFVRkJaMk5pWm1Sa1ZVbEJRVUZxWjNWME1URlJaMEZCT0VVMkt6TllWa05CUVVSWmRtTklaR1JWU1VGQlRVRnplR1F4TVZGblFVRnhTblpKTTFoV1EwRkJRMUZEYzNwa1pGVkpRVUZJYURWNk9URXhVV2RCUVZsUGFsTXpXRlpEUVVGQ1NWWTVZbVJrVlVsQlFVUkVSekprTVRGUlowRkJSMFJZWkROWVZrTkJRVUZCY0U5RVpHUlZTVUZCVDJkVE5VNHhNVkZuUVVFd1NVaHVNMWhXUTBGQlF6UTRUM0prWkZWSlFVRkxRbVkzZERFeFVXZEJRV2xOTjNneldGWkRRVUZDZDFCbVdHUmtWVWxCUVVacGN5dE9NVEZSWjBGQlVVSjJPRE5ZVmtOQlFVRnZhWFl2WkdSVlNVRkJRa1ExUVhRMU1WRm5RVUVyUjJOSE0yNVdRMEZCUkdjeFoyNWxaRlZKUVVGTmFFWkVaRFV4VVdkQlFYTk1VVkV6YmxaRFFVRkRXVWw0VkdWa1ZVbEJRVWxEVTBZNU5URlJaMEZCWVVGRllqTnVWa05CUVVKUlkwSTNaV1JWU1VGQlJHcG1TV1ExTVZGblFVRkpSVFJzTTI1V1EwRkJRVWwyVTJwbFpGVkpRVUZRUVhKTVRqVXhVV2RCUVRKS2IzWXpibFpEUVVGRVFVTlVVR1ZrVlVsQlFVdG9ORTUwTlRGUlowRkJhMDlqTlROdVZrTkJRVUkwVm1velpXUlZTVUZCUjBSR1VVNDFNVkZuUVVGVFJGSkZNMjVXUTBGQlFYZHZNR1psWkZWSlFVRkNaMU5UT1RVeFVXZEJRVUZKUms4emJsWkRRVUZFYnpjeFNHVmtWVWxCUVU1Q1pWWmtOVEZSWjBGQmRVMHhXVE51VmtOQlFVTm5VRVo2WldSVlNVRkJTV2x5V0RrMU1WRm5RVUZqUW5CcU0yNVdRMEZCUWxscFYySmxaRlZKUVVGRlJEUmhaRFV4VVdkQlFVdEhaSFF6YmxaRFFVRkJVVEZ1UkdWa1ZVbEJRVkJvUldST05URlJaMEZCTkV4T016TnVWa05CUVVSSlNXNTJaV1JWU1VGQlRFTlNablExTVZGblFVRnRRVU5ETTI1V1EwRkJRMEZpTkZobFpGVkpRVUZIYW1WcFRqVXhVV2RCUVZWRk1rMHpibFpEUVVGQk5IWkpMMlZrVlVsQlFVTkJjbXM1TlRGUlowRkJRMHB4VnpOdVZrTkJRVVIzUTBweVpXUlZTVUZCVG1nemJtUTFNVkZuUVVGM1QyRm5NMjVXUTBGQlEyOVdZVlJsWkZWSlFVRktSRVZ3T1RVeFVXZEJRV1ZFVDNJemJsWkRRVUZDWjI5eE4yVmtWVWxCUVVWblVuTjBOVEZSWjBGQlRVbERNVE51VmtOQlFVRlpOemRxWldSVlNVRkJRVUpsZGs0MU1WRm5RVUUyVFhrdk0yNVdRMEZCUkZGUE9GQmxaRlZKUVVGTWFYRjRkRFV4VVdkQlFXOUNia3N6YmxaRFFVRkRTV2xOTTJWa1ZVbEJRVWhFTXpCT05URlJaMEZCVjBkaVZUTnVWa05CUVVKQk1XUm1aV1JWU1VGQlEyaEZNamsxTVZGblFVRkZURkJsTTI1V1EwRkJSRFJKWlV4bFpGVkpRVUZQUTFFMVpEVXhVV2RCUVhsUUwyOHpibFpEUVVGRGQySjFlbVZrVlVsQlFVcHFaRGM1TlRGUlowRkJaMFY2ZWpOdVZrTkJRVUp2ZFM5aVpXUlZTVUZCUmtGeEszUTFNVkZuUVVGUFNtNDVNMjVXUTBGQlFXZERRVWhtWkZWSlFVRkJhRE5DVGpreFVXZEJRVGhQVlVnek0xWkRRVUZFV1ZaQmRtWmtWVWxCUVUxRVJFUjBPVEZSWjBGQmNVUkpVek16VmtOQlFVTlJiMUpZWm1SVlNVRkJTR2RSUjJRNU1WRm5RVUZaU0Roak16TldRMEZCUWtrM2FDOW1aRlZKUVVGRVFtUkpPVGt4VVdkQlFVZE5kMjB6TTFaRFFVRkJRVTk1Y21aa1ZVbEJRVTlwY0V4a09URlJaMEZCTUVKbmVETXpWa05CUVVNMGFIcFVabVJWU1VGQlMwUXlUams1TVZGblFVRnBSMVUzTXpOV1EwRkJRbmN4UkRkbVpGVkpRVUZHYUVSUmREa3hVV2RCUVZGTVNrWXpNMVpEUVVGQmIwbFZibVprVlVsQlFVSkRVVlJPT1RGUlowRkJLMUExVURNelZrTkJRVVJuWWxaUVptUlZTVUZCVFdwalZuUTVNVkZuUVVGelJYUmhNek5XUTBGQlExbDFiRE5tWkZWSlFVRkpRWEJaWkRreFVXZEJRV0ZLYUdzek0xWkRRVUZDVVVJeWFtWmtWVWxCUVVSb01tRTVPVEZSWjBGQlNVOVdkVE16VmtOQlFVRkpWa2hNWm1SVlNVRkJVRVJEWkdRNU1WRm5RVUV5UkVZMU16TldReUlzSW1SMGVYQmxJam9pWm14dllYUTJOQ0lzSW5Ob1lYQmxJanBiTVRRMFhYMHNJbmtpT25zaVgxOXVaR0Z5Y21GNVgxOGlPaUpCUVVGQlowOU9hMDB3UVVGQlFVTkJkRFUwZWxGQlFVRkJTME5NTWtST1FVRkJRVUZ2UmpoVFRrVkJRVUZCUkVGbFVWRXdVVUZCUVVGTlExUTVhazVCUVVGQlFUUkxNMjlOTUVGQlFVRkVRVkpQWjNwUlFVRkJRVTFFWWpWNlRrRkJRVUZCYjBoTWJrMHdRVUZCUVVSblVTdDNlbEZCUVVGQlFVRldPRlJPUVVGQlFVRlJUMkl4VFRCQlFVRkJRa0ZTWnpRd1VVRkJRVUZGUTIxS2FsSkJRVUZCUVZGQldTOU9SVUZCUVVGQ1owSXhPREJSUVVGQlFVbEJTV1o2VWtGQlFVRkJiMEZ0Wms1RlFVRkJRVUZCYUdGM01GRkJRVUZCU1VGQmRXcFNRVUZCUVVFMFNIWklUa1ZCUVVGQlFtZEdUR2N3VVVGQlFVRlBRM054UkZKQlFVRkJRVmxGVjFwT1JVRkJRVUZFUVRSMmJ6QlJRVUZCUVVWRFFWaEVWa0ZCUVVGQmIwSXlLMDVWUVVGQlFVRkJja3RqTVZGQlFVRkJTVUUyYTFSV1FVRkJRVUUwVFdnMlRsVkJRVUZCUTJkNE1YY3hVVUZCUVVGSFJFZFFhbFpCUVVGQlFVbE5WV2RPVlVGQlFVRkRRVTFuZHpGUlFVRkJRVUZEWnpsNlVrRkJRVUZCV1VFemFrNUZRVUZCUVVSblJIWlZNRkZCUVVGQlIwRlJRbnBXUVVGQlFVRTBRa1ZhVGxWQlFVRkJRa0ZDUkRBeFVVRkJRVUZOUkRKWlJGWkJRVUZCUVVsUGJVVk9WVUZCUVVGQ1oyWlpZekZSUVVGQlFVMUJVbWxxVmtGQlFVRkJRVXRoVFU1VlFVRkJRVVJCYlRGQk1WRkJRVUZCUzBOU1JrUldRVUZCUVVGWlNXWlpUa1ZCUVVGQlEyZG5kMVV4VVVGQlFVRlBRaTlOYWxaQlFVRkJRVWxJZUdaT1ZVRkJRVUZFWjAxVmN6RlJRVUZCUVV0RWJrNXFWa0ZCUVVGQldVb3dhVTVWUVVGQlFVUm5NWGQzTVZGQlFVRkJSVUZUT1hwU1FVRkJRVUYzUlhwb1RrVkJRVUZCUTBGSWRFa3dVVUZCUVVGSFJIZDNhbEpCUVVGQlFVbE5TM3BPUlVGQlFVRkJRVlZpVVRCUlFVRkJRVUZFWjNSRVVrRkJRVUZCTkVjMk1VNUZRVUZCUVVSbmMyUnZNRkZCUVVGQlQwUXdMM3BTUVVGQlFVRTBSR05zVGxWQlFVRkJRMmRuUVZVeFVVRkJRVUZGUkVvMVZGSkJRVUZCUVVGQ1RFZE9SVUZCUVVGRFFWZHhTVEJSUVVGQlFVOURhV1pxVWtGQlFVRkJXVTkwWVU1RlFVRkJRVUpuUkVoM01GRkJRVUZCUjBGMGJsUlNRVUZCUVVGWlJUWXJUa1ZCUVVGQlFXZFRTekF3VVVGQlFVRlBRa0p1UkZKQlFVRkJRVzlFZFV4T1JVRkJRVUZDUVhOSVVUQlJRVUZCUVVGQmJGaHFVa0ZCUVVGQmIwcHNTRTVGUVVGQlFVRkJUSHByTUZGQlFVRkJTVVJGUzJwU1FVRkJRVUUwUm10alRrVkJRVUZCUTBGbVV6UXdVVUZCUVVGRlEyaFJSRkpCUVVGQlFUUk5VbE5PUlVGQlFVRkNaMVl6T0RCUlFVRkJRVUZFY1hGNlVrRkJRVUZCWjBoNldVNUZRVUZCUVVOblZDdHpNRkZCUVVGQlQwRnBMMnBTUVVGQlFVRkJVRmxSVGxWQlFVRkJRV2RRZGxFd1VVRkJRVUZEUTBjeGVsSkJRVUZCUVZGTk5qWk9SVUZCUVVGQ1ozY3dWVEJSUVVGQlFVbEROREJFVGtGQlFVRkJiMHN4WWswd1FVRkJRVVJuYjJsSmVsRkJRVUZCUlVOWk5sUktRVUZCUVVGblNUSjNUV3RCUVVGQlJHZDNjRGg1VVVGQlFVRkZSRFJxYWtwQlFVRkJRVzlETVN0TmEwRkJRVUZFUVU1dVRYbFJRVUZCUVVGQ1FXRkVTa0ZCUVVGQlNVVnNaRTFyUVVGQlFVUkJWVlk0ZVZGQlFVRkJTVUpoV1ZSS1FVRkJRVUZKUjA1cVRXdEJRVUZCUVdkcU5GVjVVVUZCUVVGRlF6ZHdla3BCUVVGQlFWRlBaa3BOYTBGQlFVRkRRVVYwTUhsUlFVRkJRVTlCT1RoRVNrRkJRVUZCU1VkclJFMHdRVUZCUVVKbmQyVnZlVkZCUVVGQlNVRmFNR3BLUVVGQlFVRjNTRWMxVFd0QlFVRkJRVUYwU21kNVVVRkJRVUZIUkRKa2VrcEJRVUZCUVc5RWFGaE5hMEZCUVVGRVFYWkVXWGxSUVVGQlFVOUNRVVpxU2tGQlFVRkJRVTFZTVUxVlFVRkJRVUZCT1dWSmVGRkJRVUZCVDBGck1FUkdRVUZCUVVFMFJsTTVUVlZCUVVGQlFVRlROMk40VVVGQlFVRkZRa0p6VkVaQlFVRkJRVmxFWlhKTlZVRkJRVUZCUVV4TU5IaFJRVUZCUVVsQlp6QlVSa0ZCUVVGQlNVSllhMDFWUVVGQlFVRkJhMlpSZUZGQlFVRkJUMEZOUWxSS1FVRkJRVUYzU1dkV1RXdEJRVUZCUTJkTlFXTjVVVUZCUVVGTFJGa3JSRVpCUVVGQlFXZEpSSEZOVlVGQlFVRkRRV2RQYjNoUlFVRkJRVWxEUVRacVJrRWlMQ0prZEhsd1pTSTZJbVpzYjJGME5qUWlMQ0p6YUdGd1pTSTZXekUwTkYxOWZYMHNJbWxrSWpvaU1XTXhaR1pqT1RNdE1qazJOUzAwTmpnNUxXRXdOVGd0WVRWa09UZGtPV013T1Rrd0lpd2lkSGx3WlNJNklrTnZiSFZ0YmtSaGRHRlRiM1Z5WTJVaWZTeDdJbUYwZEhKcFluVjBaWE1pT25zaWNHeHZkQ0k2ZXlKcFpDSTZJbU14WXpBek1qRmpMVFEzTm1ZdE5HUmhNaTFpWWpnMUxURTRabVprWlRFeVpqUmpNQ0lzSW5OMVluUjVjR1VpT2lKR2FXZDFjbVVpTENKMGVYQmxJam9pVUd4dmRDSjlmU3dpYVdRaU9pSXpPV1JtTURoak1TMW1PRGsxTFRSallUUXRPRFppWXkxaE56Z3lNVFEzTTJKa09UUWlMQ0owZVhCbElqb2lVR0Z1Vkc5dmJDSjlMSHNpWVhSMGNtbGlkWFJsY3lJNmV5SmpZV3hzWW1GamF5STZiblZzYkN3aVkyOXNkVzF1WDI1aGJXVnpJanBiSW5naUxDSjVJbDBzSW1SaGRHRWlPbnNpZUNJNmV5SmZYMjVrWVhKeVlYbGZYeUk2SWtGQlEwRXlSSFprWkZWSlFVRkhhRWhRT1RFeFVXZEJRVlZNV2tNeldGWkRRVUZDUVZCdk4yUmtWVWxCUVVOcGRHdGtNVEZSWjBGQlJVSjVWak5ZVmtOQlFVRkJjRTlFWkdSVlNVRkJUMmRUTlU0eE1WRm5RVUV3U1VodU0xaFdRMEZCUkVGRFZGQmxaRlZKUVVGTGFEUk9kRFV4VVdkQlFXdFBZelV6YmxaRFFVRkRRV0kwV0dWa1ZVbEJRVWRxWldsT05URlJaMEZCVlVVeVRUTnVWa05CUVVKQk1XUm1aV1JWU1VGQlEyaEZNamsxTVZGblFVRkZURkJsTTI1V1EwRkJRVUZQZVhKbVpGVkpRVUZQYVhCTVpEa3hVV2RCUVRCQ1ozZ3pNMVpEUVVGRVFXOUllbVprVlVsQlFVdG5VR2RPT1RGUlowRkJhMGcyUkRNelZrTkJRVU5CUW5NdlptUlZTVUZCUjJneE1IUTVNVkZuUVVGVlQxUldNek5XUXlJc0ltUjBlWEJsSWpvaVpteHZZWFEyTkNJc0luTm9ZWEJsSWpwYk1qZGRmU3dpZVNJNmV5SmZYMjVrWVhKeVlYbGZYeUk2SWtGQlFVRkJRV3B6VFd0QlFVRkJSR2MySzFWNVVVRkJRVUZMUkZBemVrcEJRVUZCUVVsSFVscE5hMEZCUVVGRFoxaFdOSGxSUVVGQlFVTkNXRmw2U2tGQlFVRkJVVTFxVVUxclFVRkJRVVJCYW5SemVWRkJRVUZCUlVKV05XcEtRVUZCUVVGM1IxUlVUVEJCUVVGQlJFRmFjMWw2VVVGQlFVRlBRbTkxVkU1QlFVRkJRVzlLVjJKTmEwRkJRVUZFUVZkd05IbFJRVUZCUVUxQlptOVVTa0ZCUVVGQlNVRXZaVTFyUVVGQlFVUm5XR1F3ZVZGQlFVRkJTME56TTBSS1FVRkJRVUZ2U0VoT1RXdEJRVUZCUTBGd09FRjVVVUZCUVVGSFJHUnpla3BCUVVGQlFVRklLMkZOVlVGQlFVRkJRVE5LUlhoUlFVRkJRVUZCTldsVVJrRkJRVUZCUVVSbVRFMUZRVUZCUVVGQlRqaHpkMUZCUVVGQlFVRXplWHBDUVNJc0ltUjBlWEJsSWpvaVpteHZZWFEyTkNJc0luTm9ZWEJsSWpwYk1qZGRmWDE5TENKcFpDSTZJbVEyT0dOa01UTTJMVGd5TURBdE5EQTVZaTFoWm1FM0xXWXpabUV3TURBM1lqaGpOaUlzSW5SNWNHVWlPaUpEYjJ4MWJXNUVZWFJoVTI5MWNtTmxJbjBzZXlKaGRIUnlhV0oxZEdWeklqcDdJbTF2Ym5Sb2N5STZXekFzTmwxOUxDSnBaQ0k2SW1VeFptVmlPVE16TFRnNE56SXROR1U1WkMxaE56Sm1MVGxsWVdJeFpqTXpNekZtWkNJc0luUjVjR1VpT2lKTmIyNTBhSE5VYVdOclpYSWlmU3g3SW1GMGRISnBZblYwWlhNaU9uc2liM1psY214aGVTSTZleUpwWkNJNklqZGtZVGs0WW1VeExXSmxOR010TkRBMU1pMWlZamt6TFdKaFpqZGhZMkpoTkRRME5TSXNJblI1Y0dVaU9pSkNiM2hCYm01dmRHRjBhVzl1SW4wc0luQnNiM1FpT25zaWFXUWlPaUpqTVdNd016SXhZeTAwTnpabUxUUmtZVEl0WW1JNE5TMHhPR1ptWkdVeE1tWTBZekFpTENKemRXSjBlWEJsSWpvaVJtbG5kWEpsSWl3aWRIbHdaU0k2SWxCc2IzUWlmWDBzSW1sa0lqb2lZakZrT1RVNE56UXRZelZrTmkwME5USTRMV0k0WkRRdE1URXhZamszT1dJMVlUQTVJaXdpZEhsd1pTSTZJa0p2ZUZwdmIyMVViMjlzSW4wc2V5SmhkSFJ5YVdKMWRHVnpJanA3SW14cGJtVmZZV3h3YUdFaU9uc2lkbUZzZFdVaU9qQXVNWDBzSW14cGJtVmZZMkZ3SWpvaWNtOTFibVFpTENKc2FXNWxYMk52Ykc5eUlqcDdJblpoYkhWbElqb2lJekZtTnpkaU5DSjlMQ0pzYVc1bFgycHZhVzRpT2lKeWIzVnVaQ0lzSW14cGJtVmZkMmxrZEdnaU9uc2lkbUZzZFdVaU9qVjlMQ0o0SWpwN0ltWnBaV3hrSWpvaWVDSjlMQ0o1SWpwN0ltWnBaV3hrSWpvaWVTSjlmU3dpYVdRaU9pSXhNRFZtWmprNE1DMDFOVGxqTFRSak16QXRPRGd3WkMxaFpqQXhNalF5TUdVd1kyTWlMQ0owZVhCbElqb2lUR2x1WlNKOUxIc2lZWFIwY21saWRYUmxjeUk2ZXlKdGIyNTBhSE1pT2xzd0xESXNOQ3cyTERnc01UQmRmU3dpYVdRaU9pSXpNMlUyWkdabU5TMHdOemMwTFRSbE1XUXRPVE13TUMwMVlXRXdZV1kyTXpBM1pHVWlMQ0owZVhCbElqb2lUVzl1ZEdoelZHbGphMlZ5SW4wc2V5SmhkSFJ5YVdKMWRHVnpJanA3SW5Cc2IzUWlPbnNpYVdRaU9pSmpNV013TXpJeFl5MDBOelptTFRSa1lUSXRZbUk0TlMweE9HWm1aR1V4TW1ZMFl6QWlMQ0p6ZFdKMGVYQmxJam9pUm1sbmRYSmxJaXdpZEhsd1pTSTZJbEJzYjNRaWZYMHNJbWxrSWpvaU9XTTBZekU1TnpBdE5HSTVZaTAwT0RWa0xXRXlNbVF0WWpGbE9EQXhOV0ZsWkRkbElpd2lkSGx3WlNJNklsSmxjMlYwVkc5dmJDSjlMSHNpWVhSMGNtbGlkWFJsY3lJNmV5SnNhVzVsWDJGc2NHaGhJanA3SW5aaGJIVmxJam93TGpGOUxDSnNhVzVsWDJOaGNDSTZJbkp2ZFc1a0lpd2liR2x1WlY5amIyeHZjaUk2ZXlKMllXeDFaU0k2SWlNeFpqYzNZalFpZlN3aWJHbHVaVjlxYjJsdUlqb2ljbTkxYm1RaUxDSnNhVzVsWDNkcFpIUm9JanA3SW5aaGJIVmxJam8xZlN3aWVDSTZleUptYVdWc1pDSTZJbmdpZlN3aWVTSTZleUptYVdWc1pDSTZJbmtpZlgwc0ltbGtJam9pTURrMlpUZzJNVFV0WVRsa01DMDBZekZrTFdJMk9XUXRZV1EwTW1aa05tUXdaR1ppSWl3aWRIbHdaU0k2SWt4cGJtVWlmU3g3SW1GMGRISnBZblYwWlhNaU9uc2liV0Y0WDJsdWRHVnlkbUZzSWpvMU1EQXVNQ3dpYm5WdFgyMXBibTl5WDNScFkydHpJam93ZlN3aWFXUWlPaUk0TWprM1kyRXdNeTAxWVRKbUxUUTBaV1l0WWpsaVl5MHdZbUV4WW1aaVpHTTFNMklpTENKMGVYQmxJam9pUVdSaGNIUnBkbVZVYVdOclpYSWlmU3g3SW1GMGRISnBZblYwWlhNaU9uc2lZbUZ6WlNJNk1qUXNJbTFoYm5ScGMzTmhjeUk2V3pFc01pdzBMRFlzT0N3eE1sMHNJbTFoZUY5cGJuUmxjblpoYkNJNk5ETXlNREF3TURBdU1Dd2liV2x1WDJsdWRHVnlkbUZzSWpvek5qQXdNREF3TGpBc0ltNTFiVjl0YVc1dmNsOTBhV05yY3lJNk1IMHNJbWxrSWpvaVpqTTNaV1JsTUdFdE9XWmlaQzAwTTJSa0xUaGxNemd0TUdFeE5HTXpPREF4TVRrM0lpd2lkSGx3WlNJNklrRmtZWEIwYVhabFZHbGphMlZ5SW4wc2V5SmhkSFJ5YVdKMWRHVnpJanA3SW1OaGJHeGlZV05ySWpwdWRXeHNMQ0p3Ykc5MElqcDdJbWxrSWpvaVl6RmpNRE15TVdNdE5EYzJaaTAwWkdFeUxXSmlPRFV0TVRobVptUmxNVEptTkdNd0lpd2ljM1ZpZEhsd1pTSTZJa1pwWjNWeVpTSXNJblI1Y0dVaU9pSlFiRzkwSW4wc0luSmxibVJsY21WeWN5STZXM3NpYVdRaU9pSTFaakJqTURBM1pDMHpORGM1TFRRek1UZ3RPRGcyTWkxbE5qY3pNekl6TkRkbFpHVWlMQ0owZVhCbElqb2lSMng1Y0doU1pXNWtaWEpsY2lKOVhTd2lkRzl2YkhScGNITWlPbHRiSWs1aGJXVWlMQ0pUUlVOUFQxSkJYMDVEVTFWZlEwNUJVRk1pWFN4YklrSnBZWE1pTENJdE1DNDNNQ0pkTEZzaVUydHBiR3dpTENJd0xqY3hJbDFkZlN3aWFXUWlPaUprTVdJM016RmxNQzFqWldFMExUUmtNelV0T0dGbE9TMHlZbVEwTm1RM05tTXdPVE1pTENKMGVYQmxJam9pU0c5MlpYSlViMjlzSW4wc2V5SmhkSFJ5YVdKMWRHVnpJanA3SW1SaGRHRmZjMjkxY21ObElqcDdJbWxrSWpvaU1XTXhaR1pqT1RNdE1qazJOUzAwTmpnNUxXRXdOVGd0WVRWa09UZGtPV013T1Rrd0lpd2lkSGx3WlNJNklrTnZiSFZ0YmtSaGRHRlRiM1Z5WTJVaWZTd2laMng1Y0dnaU9uc2lhV1FpT2lJNE9HVmlaRGcwTWkwd1pERTRMVFJtTXpjdFlUY3lPUzA0TWpjM01qazJPRGd6TlRBaUxDSjBlWEJsSWpvaVRHbHVaU0o5TENKb2IzWmxjbDluYkhsd2FDSTZiblZzYkN3aWJYVjBaV1JmWjJ4NWNHZ2lPbTUxYkd3c0ltNXZibk5sYkdWamRHbHZibDluYkhsd2FDSTZleUpwWkNJNkltTXlaak5sTUdVNUxUWmxZVEF0TkRJNVppMWhaREkwTFRBM01HVTFPREU0TjJJeVppSXNJblI1Y0dVaU9pSk1hVzVsSW4wc0luTmxiR1ZqZEdsdmJsOW5iSGx3YUNJNmJuVnNiSDBzSW1sa0lqb2laVFJrWlRaa056Y3RaVGcyTkMwME9EWmhMVGc0TWpjdFpEQmtNamt4TW1Zd1pXWXlJaXdpZEhsd1pTSTZJa2RzZVhCb1VtVnVaR1Z5WlhJaWZTeDdJbUYwZEhKcFluVjBaWE1pT250OUxDSnBaQ0k2SWprNVl6Wm1PVEJtTFRWaU1qQXRORFE0TXkxaU1HUXlMVFEyWWpsaE9Ea3lOVEptWkNJc0luUjVjR1VpT2lKRVlYUmxkR2x0WlZScFkydEdiM0p0WVhSMFpYSWlmU3g3SW1GMGRISnBZblYwWlhNaU9uc2liR0ZpWld3aU9uc2lkbUZzZFdVaU9pSk9SVU5QUmxOZlIwOU5NeUo5TENKeVpXNWtaWEpsY25NaU9sdDdJbWxrSWpvaVpUUmtaVFprTnpjdFpUZzJOQzAwT0RaaExUZzRNamN0WkRCa01qa3hNbVl3WldZeUlpd2lkSGx3WlNJNklrZHNlWEJvVW1WdVpHVnlaWElpZlYxOUxDSnBaQ0k2SWpVellXRXdObVV6TFRjek9HSXRORGc0TUMxaE5EQTVMVEk0TXpaaU0ySTROVFUzWWlJc0luUjVjR1VpT2lKTVpXZGxibVJKZEdWdEluMHNleUpoZEhSeWFXSjFkR1Z6SWpwN0ltUmhkR0ZmYzI5MWNtTmxJanA3SW1sa0lqb2lOakl5T0RnMk9EY3RaVEF3TVMwMFkyTmhMVGsyTnpFdE1UTXlaRFE1TXpOaE9ESTNJaXdpZEhsd1pTSTZJa052YkhWdGJrUmhkR0ZUYjNWeVkyVWlmU3dpWjJ4NWNHZ2lPbnNpYVdRaU9pSTJNamd4TTJReE5TMDVZVGhsTFRRNU1Ea3RPREJtWVMwNE16WXdZVEUwTWprM09EZ2lMQ0owZVhCbElqb2lUR2x1WlNKOUxDSm9iM1psY2w5bmJIbHdhQ0k2Ym5Wc2JDd2liWFYwWldSZloyeDVjR2dpT201MWJHd3NJbTV2Ym5ObGJHVmpkR2x2Ymw5bmJIbHdhQ0k2ZXlKcFpDSTZJakE1Tm1VNE5qRTFMV0U1WkRBdE5HTXhaQzFpTmpsa0xXRmtOREptWkRaa01HUm1ZaUlzSW5SNWNHVWlPaUpNYVc1bEluMHNJbk5sYkdWamRHbHZibDluYkhsd2FDSTZiblZzYkgwc0ltbGtJam9pTW1VMFltUTVNamN0TUdJd1lTMDBORFUxTFRnNU1UWXRZamxoT1RoaE1tRmtOemhqSWl3aWRIbHdaU0k2SWtkc2VYQm9VbVZ1WkdWeVpYSWlmU3g3SW1GMGRISnBZblYwWlhNaU9udDlMQ0pwWkNJNklqY3lZamMzTmpZMExUWmlNR0V0TkRBNU9DMDROV05sTFdWa1lURmpZVEE0WlRWbU1DSXNJblI1Y0dVaU9pSkNZWE5wWTFScFkydGxjaUo5TEhzaVlYUjBjbWxpZFhSbGN5STZleUp0YjI1MGFITWlPbHN3TERRc09GMTlMQ0pwWkNJNklqQmtaR0UyTnpRMUxXWXlNemd0TkRSak1TMWlNRGc1TFdSalptSXpOalE1WkRabVl5SXNJblI1Y0dVaU9pSk5iMjUwYUhOVWFXTnJaWElpZlN4N0ltRjBkSEpwWW5WMFpYTWlPbnQ5TENKcFpDSTZJak5rTUdKbU0yRTRMVEppTkRRdE5EVXhaUzFoTURVM0xUa3dOVFkxT1RCbE5qY3hPU0lzSW5SNWNHVWlPaUpaWldGeWMxUnBZMnRsY2lKOUxIc2lZWFIwY21saWRYUmxjeUk2ZXlKd2JHOTBJanA3SW1sa0lqb2lZekZqTURNeU1XTXRORGMyWmkwMFpHRXlMV0ppT0RVdE1UaG1abVJsTVRKbU5HTXdJaXdpYzNWaWRIbHdaU0k2SWtacFozVnlaU0lzSW5SNWNHVWlPaUpRYkc5MEluMHNJblJwWTJ0bGNpSTZleUpwWkNJNkltSTRaalJrWVRrMUxXVmlaREV0TkRNMVlpMWlOVFEzTFdRM1ptTTJNekE0WW1FMllTSXNJblI1Y0dVaU9pSkVZWFJsZEdsdFpWUnBZMnRsY2lKOWZTd2lhV1FpT2lJeFlUa3daamc0WkMxak5XWXdMVFF4TnpNdE9EaGtPUzAxTkRnd1pEa3lZakJsTjJZaUxDSjBlWEJsSWpvaVIzSnBaQ0o5TEhzaVlYUjBjbWxpZFhSbGN5STZlMzBzSW1sa0lqb2laall4TldOa05EVXRNMll4TkMwMFpqaGtMVGxtTW1VdFlUSTRNalJpTldJeE1ERTVJaXdpZEhsd1pTSTZJbFJ2YjJ4RmRtVnVkSE1pZlN4N0ltRjBkSEpwWW5WMFpYTWlPbnNpYlc5dWRHaHpJanBiTUN3eExESXNNeXcwTERVc05pdzNMRGdzT1N3eE1Dd3hNVjE5TENKcFpDSTZJamd6TkdRM09UTTBMVFZqTm1NdE5HWXpaUzFoT0RjNExXTTRaREkxTWpBd1pqQTJNaUlzSW5SNWNHVWlPaUpOYjI1MGFITlVhV05yWlhJaWZTeDdJbUYwZEhKcFluVjBaWE1pT25zaVltOTBkRzl0WDNWdWFYUnpJam9pYzJOeVpXVnVJaXdpWm1sc2JGOWhiSEJvWVNJNmV5SjJZV3gxWlNJNk1DNDFmU3dpWm1sc2JGOWpiMnh2Y2lJNmV5SjJZV3gxWlNJNklteHBaMmgwWjNKbGVTSjlMQ0pzWldaMFgzVnVhWFJ6SWpvaWMyTnlaV1Z1SWl3aWJHVjJaV3dpT2lKdmRtVnliR0Y1SWl3aWJHbHVaVjloYkhCb1lTSTZleUoyWVd4MVpTSTZNUzR3ZlN3aWJHbHVaVjlqYjJ4dmNpSTZleUoyWVd4MVpTSTZJbUpzWVdOckluMHNJbXhwYm1WZlpHRnphQ0k2V3pRc05GMHNJbXhwYm1WZmQybGtkR2dpT25zaWRtRnNkV1VpT2pKOUxDSndiRzkwSWpwdWRXeHNMQ0p5Wlc1a1pYSmZiVzlrWlNJNkltTnpjeUlzSW5KcFoyaDBYM1Z1YVhSeklqb2ljMk55WldWdUlpd2lkRzl3WDNWdWFYUnpJam9pYzJOeVpXVnVJbjBzSW1sa0lqb2lOMlJoT1RoaVpURXRZbVUwWXkwME1EVXlMV0ppT1RNdFltRm1OMkZqWW1FME5EUTFJaXdpZEhsd1pTSTZJa0p2ZUVGdWJtOTBZWFJwYjI0aWZTeDdJbUYwZEhKcFluVjBaWE1pT25zaWJuVnRYMjFwYm05eVgzUnBZMnR6SWpvMWZTd2lhV1FpT2lKaU9HWTBaR0U1TlMxbFltUXhMVFF6TldJdFlqVTBOeTFrTjJaak5qTXdPR0poTm1FaUxDSjBlWEJsSWpvaVJHRjBaWFJwYldWVWFXTnJaWElpZlN4N0ltRjBkSEpwWW5WMFpYTWlPbnNpWTJGc2JHSmhZMnNpT201MWJHd3NJbkJzYjNRaU9uc2lhV1FpT2lKak1XTXdNekl4WXkwME56Wm1MVFJrWVRJdFltSTROUzB4T0dabVpHVXhNbVkwWXpBaUxDSnpkV0owZVhCbElqb2lSbWxuZFhKbElpd2lkSGx3WlNJNklsQnNiM1FpZlN3aWNtVnVaR1Z5WlhKeklqcGJleUpwWkNJNklqSmxOR0prT1RJM0xUQmlNR0V0TkRRMU5TMDRPVEUyTFdJNVlUazRZVEpoWkRjNFl5SXNJblI1Y0dVaU9pSkhiSGx3YUZKbGJtUmxjbVZ5SW4xZExDSjBiMjlzZEdsd2N5STZXMXNpVG1GdFpTSXNJazlDVTE5RVFWUkJJbDBzV3lKQ2FXRnpJaXdpVGtFaVhTeGJJbE5yYVd4c0lpd2lUa0VpWFYxOUxDSnBaQ0k2SWpFd1pUWmtabU0xTFRBeVl6TXRORGd6WXkxaE56Sm1MVE0yT0RnelptTTJaVGsxTVNJc0luUjVjR1VpT2lKSWIzWmxjbFJ2YjJ3aWZTeDdJbUYwZEhKcFluVjBaWE1pT25zaVkyRnNiR0poWTJzaU9tNTFiR3g5TENKcFpDSTZJbU0xWXprMU5tWTRMVE5tT1dJdE5HWmpaaTFpTlRjNUxUQTRaRFV4TWpkak1UUXpZeUlzSW5SNWNHVWlPaUpFWVhSaFVtRnVaMlV4WkNKOUxIc2lZWFIwY21saWRYUmxjeUk2ZXlKaFkzUnBkbVZmWkhKaFp5STZJbUYxZEc4aUxDSmhZM1JwZG1WZmFXNXpjR1ZqZENJNkltRjFkRzhpTENKaFkzUnBkbVZmYzJOeWIyeHNJam9pWVhWMGJ5SXNJbUZqZEdsMlpWOTBZWEFpT2lKaGRYUnZJaXdpZEc5dmJITWlPbHQ3SW1sa0lqb2lNemxrWmpBNFl6RXRaamc1TlMwMFkyRTBMVGcyWW1NdFlUYzRNakUwTnpOaVpEazBJaXdpZEhsd1pTSTZJbEJoYmxSdmIyd2lmU3g3SW1sa0lqb2lZakZrT1RVNE56UXRZelZrTmkwME5USTRMV0k0WkRRdE1URXhZamszT1dJMVlUQTVJaXdpZEhsd1pTSTZJa0p2ZUZwdmIyMVViMjlzSW4wc2V5SnBaQ0k2SWpsak5HTXhPVGN3TFRSaU9XSXRORGcxWkMxaE1qSmtMV0l4WlRnd01UVmhaV1EzWlNJc0luUjVjR1VpT2lKU1pYTmxkRlJ2YjJ3aWZTeDdJbWxrSWpvaU5UYzJNalJsTW1FdE0yWmpOQzAwWWpBNUxXRTJNamN0T0dNeU5XVmpOVFF5TnpBM0lpd2lkSGx3WlNJNklraHZkbVZ5Vkc5dmJDSjlMSHNpYVdRaU9pSXhNR1UyWkdaak5TMHdNbU16TFRRNE0yTXRZVGN5Wmkwek5qZzRNMlpqTm1VNU5URWlMQ0owZVhCbElqb2lTRzkyWlhKVWIyOXNJbjBzZXlKcFpDSTZJbVF4WWpjek1XVXdMV05sWVRRdE5HUXpOUzA0WVdVNUxUSmlaRFEyWkRjMll6QTVNeUlzSW5SNWNHVWlPaUpJYjNabGNsUnZiMndpZlN4N0ltbGtJam9pWlROalpETTRaR1V0TURNMVl5MDBZVEEyTFRnM1l6UXROR1l6WVRRd09HTTRObVkySWl3aWRIbHdaU0k2SWtodmRtVnlWRzl2YkNKOVhYMHNJbWxrSWpvaU1qSXlaVEE1TjJZdFl6UmtPUzAwTlRsbExUZ3dNV0V0TnpjNU1URTRaR0ZoWVdFd0lpd2lkSGx3WlNJNklsUnZiMnhpWVhJaWZTeDdJbUYwZEhKcFluVjBaWE1pT25zaWJHbHVaVjlqWVhBaU9pSnliM1Z1WkNJc0lteHBibVZmWTI5c2IzSWlPbnNpZG1Gc2RXVWlPaUlqT1Rsa05UazBJbjBzSW14cGJtVmZhbTlwYmlJNkluSnZkVzVrSWl3aWJHbHVaVjkzYVdSMGFDSTZleUoyWVd4MVpTSTZOWDBzSW5naU9uc2labWxsYkdRaU9pSjRJbjBzSW5raU9uc2labWxsYkdRaU9pSjVJbjE5TENKcFpDSTZJall5T0RFelpERTFMVGxoT0dVdE5Ea3dPUzA0TUdaaExUZ3pOakJoTVRReU9UYzRPQ0lzSW5SNWNHVWlPaUpNYVc1bEluMHNleUpoZEhSeWFXSjFkR1Z6SWpwN0ltWnZjbTFoZEhSbGNpSTZleUpwWkNJNklqazVZelptT1RCbUxUVmlNakF0TkRRNE15MWlNR1F5TFRRMllqbGhPRGt5TlRKbVpDSXNJblI1Y0dVaU9pSkVZWFJsZEdsdFpWUnBZMnRHYjNKdFlYUjBaWElpZlN3aWNHeHZkQ0k2ZXlKcFpDSTZJbU14WXpBek1qRmpMVFEzTm1ZdE5HUmhNaTFpWWpnMUxURTRabVprWlRFeVpqUmpNQ0lzSW5OMVluUjVjR1VpT2lKR2FXZDFjbVVpTENKMGVYQmxJam9pVUd4dmRDSjlMQ0owYVdOclpYSWlPbnNpYVdRaU9pSmlPR1kwWkdFNU5TMWxZbVF4TFRRek5XSXRZalUwTnkxa04yWmpOak13T0dKaE5tRWlMQ0owZVhCbElqb2lSR0YwWlhScGJXVlVhV05yWlhJaWZYMHNJbWxrSWpvaU16UTRaVEZpTWpNdE5XUTVZaTAwTnprNUxXSmtNalV0WlRRM056VTRZekZsWXpBd0lpd2lkSGx3WlNJNklrUmhkR1YwYVcxbFFYaHBjeUo5TEhzaVlYUjBjbWxpZFhSbGN5STZleUptYjNKdFlYUjBaWElpT25zaWFXUWlPaUptT0RkaVpEaGtZeTFqWkRabExUUTNZV1l0T1RObU15MW1NVEE1TldSbE5qWmpaallpTENKMGVYQmxJam9pUW1GemFXTlVhV05yUm05eWJXRjBkR1Z5SW4wc0luQnNiM1FpT25zaWFXUWlPaUpqTVdNd016SXhZeTAwTnpabUxUUmtZVEl0WW1JNE5TMHhPR1ptWkdVeE1tWTBZekFpTENKemRXSjBlWEJsSWpvaVJtbG5kWEpsSWl3aWRIbHdaU0k2SWxCc2IzUWlmU3dpZEdsamEyVnlJanA3SW1sa0lqb2lOekppTnpjMk5qUXRObUl3WVMwME1EazRMVGcxWTJVdFpXUmhNV05oTURobE5XWXdJaXdpZEhsd1pTSTZJa0poYzJsalZHbGphMlZ5SW4xOUxDSnBaQ0k2SWpjNFlUZGtaRGhtTFdJMFlUY3RORFUyTlMwNE5UWTBMVEprWldZM1ptVTJNREUyWkNJc0luUjVjR1VpT2lKTWFXNWxZWEpCZUdsekluMHNleUpoZEhSeWFXSjFkR1Z6SWpwN0lteHBibVZmWVd4d2FHRWlPbnNpZG1Gc2RXVWlPakF1TVgwc0lteHBibVZmWTJGd0lqb2ljbTkxYm1RaUxDSnNhVzVsWDJOdmJHOXlJanA3SW5aaGJIVmxJam9pSXpGbU56ZGlOQ0o5TENKc2FXNWxYMnB2YVc0aU9pSnliM1Z1WkNJc0lteHBibVZmZDJsa2RHZ2lPbnNpZG1Gc2RXVWlPalY5TENKNElqcDdJbVpwWld4a0lqb2llQ0o5TENKNUlqcDdJbVpwWld4a0lqb2llU0o5ZlN3aWFXUWlPaUl6WXpCa04yVXhNeTFrWXpkbUxUUTJZell0WVdFek1pMDNOVGxtTmpjMVpHTmpaR1lpTENKMGVYQmxJam9pVEdsdVpTSjlMSHNpWVhSMGNtbGlkWFJsY3lJNmUzMHNJbWxrSWpvaVlqZzNOVGMxTkdVdE5UQTNPQzAwT1dWa0xXSXhPR0V0T0dVd1l6WmhZelV4TURoa0lpd2lkSGx3WlNJNklreHBibVZoY2xOallXeGxJbjBzZXlKaGRIUnlhV0oxZEdWeklqcDdJbVJoZEdGZmMyOTFjbU5sSWpwN0ltbGtJam9pWkRZNFkyUXhNell0T0RJd01DMDBNRGxpTFdGbVlUY3Raak5tWVRBd01EZGlPR00ySWl3aWRIbHdaU0k2SWtOdmJIVnRia1JoZEdGVGIzVnlZMlVpZlN3aVoyeDVjR2dpT25zaWFXUWlPaUpoTkdGbU1UTmtaQzB4WldZMkxUUm1Nakl0WVRBeU15MWxObU0wTVdKbU1UVTNZVGdpTENKMGVYQmxJam9pVEdsdVpTSjlMQ0pvYjNabGNsOW5iSGx3YUNJNmJuVnNiQ3dpYlhWMFpXUmZaMng1Y0dnaU9tNTFiR3dzSW01dmJuTmxiR1ZqZEdsdmJsOW5iSGx3YUNJNmV5SnBaQ0k2SWpOak1HUTNaVEV6TFdSak4yWXRORFpqTmkxaFlUTXlMVGMxT1dZMk56VmtZMk5rWmlJc0luUjVjR1VpT2lKTWFXNWxJbjBzSW5ObGJHVmpkR2x2Ymw5bmJIbHdhQ0k2Ym5Wc2JIMHNJbWxrSWpvaVpUWXhOV0kxTVdJdFlUaGtaaTAwWWpNeUxXRTVZamd0TTJJM1ptUTROR1kyTmpZeklpd2lkSGx3WlNJNklrZHNlWEJvVW1WdVpHVnlaWElpZlN4N0ltRjBkSEpwWW5WMFpYTWlPbnNpWW1Wc2IzY2lPbHQ3SW1sa0lqb2lNelE0WlRGaU1qTXROV1E1WWkwME56azVMV0prTWpVdFpUUTNOelU0WXpGbFl6QXdJaXdpZEhsd1pTSTZJa1JoZEdWMGFXMWxRWGhwY3lKOVhTd2liR1ZtZENJNlczc2lhV1FpT2lJM09HRTNaR1E0WmkxaU5HRTNMVFExTmpVdE9EVTJOQzB5WkdWbU4yWmxOakF4Tm1RaUxDSjBlWEJsSWpvaVRHbHVaV0Z5UVhocGN5SjlYU3dpY0d4dmRGOW9aV2xuYUhRaU9qSTFNQ3dpY0d4dmRGOTNhV1IwYUNJNk56VXdMQ0p5Wlc1a1pYSmxjbk1pT2x0N0ltbGtJam9pTXpRNFpURmlNak10TldRNVlpMDBOems1TFdKa01qVXRaVFEzTnpVNFl6RmxZekF3SWl3aWRIbHdaU0k2SWtSaGRHVjBhVzFsUVhocGN5SjlMSHNpYVdRaU9pSXhZVGt3WmpnNFpDMWpOV1l3TFRReE56TXRPRGhrT1MwMU5EZ3daRGt5WWpCbE4yWWlMQ0owZVhCbElqb2lSM0pwWkNKOUxIc2lhV1FpT2lJM09HRTNaR1E0WmkxaU5HRTNMVFExTmpVdE9EVTJOQzB5WkdWbU4yWmxOakF4Tm1RaUxDSjBlWEJsSWpvaVRHbHVaV0Z5UVhocGN5SjlMSHNpYVdRaU9pSmlPVEk0WmpKaE15MWlNekZrTFRRNU4yRXRPV015TUMxak5HTTBNMk00TXpjNE1tUWlMQ0owZVhCbElqb2lSM0pwWkNKOUxIc2lhV1FpT2lJM1pHRTVPR0psTVMxaVpUUmpMVFF3TlRJdFltSTVNeTFpWVdZM1lXTmlZVFEwTkRVaUxDSjBlWEJsSWpvaVFtOTRRVzV1YjNSaGRHbHZiaUo5TEhzaWFXUWlPaUl4TmpabFptSXpNaTAwTTJaa0xUUXdOell0WWpkbFppMHhNMlJqWW1RMk16SXpNbUlpTENKMGVYQmxJam9pVEdWblpXNWtJbjBzZXlKcFpDSTZJbVUwWkdVMlpEYzNMV1U0TmpRdE5EZzJZUzA0T0RJM0xXUXdaREk1TVRKbU1HVm1NaUlzSW5SNWNHVWlPaUpIYkhsd2FGSmxibVJsY21WeUluMHNleUpwWkNJNklqSmxOR0prT1RJM0xUQmlNR0V0TkRRMU5TMDRPVEUyTFdJNVlUazRZVEpoWkRjNFl5SXNJblI1Y0dVaU9pSkhiSGx3YUZKbGJtUmxjbVZ5SW4wc2V5SnBaQ0k2SWpWbU1HTXdNRGRrTFRNME56a3RORE14T0MwNE9EWXlMV1UyTnpNek1qTTBOMlZrWlNJc0luUjVjR1VpT2lKSGJIbHdhRkpsYm1SbGNtVnlJbjBzZXlKcFpDSTZJbVUyTVRWaU5URmlMV0U0WkdZdE5HSXpNaTFoT1dJNExUTmlOMlprT0RSbU5qWTJNeUlzSW5SNWNHVWlPaUpIYkhsd2FGSmxibVJsY21WeUluMWRMQ0owYVhSc1pTSTZleUpwWkNJNklqVTBORGcxTVRnd0xXVXdabVl0TkRrNFppMDVORGhqTFROaE5qYzFaVEU0TmpZMVlTSXNJblI1Y0dVaU9pSlVhWFJzWlNKOUxDSjBiMjlzWDJWMlpXNTBjeUk2ZXlKcFpDSTZJbVkyTVRWalpEUTFMVE5tTVRRdE5HWTRaQzA1WmpKbExXRXlPREkwWWpWaU1UQXhPU0lzSW5SNWNHVWlPaUpVYjI5c1JYWmxiblJ6SW4wc0luUnZiMnhpWVhJaU9uc2lhV1FpT2lJeU1qSmxNRGszWmkxak5HUTVMVFExT1dVdE9EQXhZUzAzTnpreE1UaGtZV0ZoWVRBaUxDSjBlWEJsSWpvaVZHOXZiR0poY2lKOUxDSjBiMjlzWW1GeVgyeHZZMkYwYVc5dUlqb2lZV0p2ZG1VaUxDSjRYM0poYm1kbElqcDdJbWxrSWpvaU1EZGxNV1U0TlRndE1ERm1ZUzAwTmpFM0xXSTVOVGt0TURRNE5ESTJaalpsT1RSaElpd2lkSGx3WlNJNklrUmhkR0ZTWVc1blpURmtJbjBzSW5oZmMyTmhiR1VpT25zaWFXUWlPaUkxT1dFeE1tWmtOQzFsWTJGaExUUTBNV0l0WW1GaU9DMW1ZV0ZrWWpreU5tRTROak1pTENKMGVYQmxJam9pVEdsdVpXRnlVMk5oYkdVaWZTd2llVjl5WVc1blpTSTZleUpwWkNJNkltTTFZemsxTm1ZNExUTm1PV0l0TkdaalppMWlOVGM1TFRBNFpEVXhNamRqTVRRell5SXNJblI1Y0dVaU9pSkVZWFJoVW1GdVoyVXhaQ0o5TENKNVgzTmpZV3hsSWpwN0ltbGtJam9pWWpnM05UYzFOR1V0TlRBM09DMDBPV1ZrTFdJeE9HRXRPR1V3WXpaaFl6VXhNRGhrSWl3aWRIbHdaU0k2SWt4cGJtVmhjbE5qWVd4bEluMTlMQ0pwWkNJNkltTXhZekF6TWpGakxUUTNObVl0TkdSaE1pMWlZamcxTFRFNFptWmtaVEV5WmpSak1DSXNJbk4xWW5SNWNHVWlPaUpHYVdkMWNtVWlMQ0owZVhCbElqb2lVR3h2ZENKOUxIc2lZWFIwY21saWRYUmxjeUk2ZXlKc1lXSmxiQ0k2ZXlKMllXeDFaU0k2SWtoWlEwOU5JbjBzSW5KbGJtUmxjbVZ5Y3lJNlczc2lhV1FpT2lKbE5qRTFZalV4WWkxaE9HUm1MVFJpTXpJdFlUbGlPQzB6WWpkbVpEZzBaalkyTmpNaUxDSjBlWEJsSWpvaVIyeDVjR2hTWlc1a1pYSmxjaUo5WFgwc0ltbGtJam9pTXpKbU1USXdZbVV0TWpkaFl5MDBObVUyTFdFNVkyWXRaak13TkdNM016RmxNVEE0SWl3aWRIbHdaU0k2SWt4bFoyVnVaRWwwWlcwaWZTeDdJbUYwZEhKcFluVjBaWE1pT25zaVpHRjVjeUk2V3pFc09Dd3hOU3d5TWwxOUxDSnBaQ0k2SWpWaFlUYzNZVFppTFRNM05qY3ROR0V6TkMxaE5qTm1MVFV4TWpnNE5tSXlZekU0TmlJc0luUjVjR1VpT2lKRVlYbHpWR2xqYTJWeUluMHNleUpoZEhSeWFXSjFkR1Z6SWpwN0ltUmhlWE1pT2xzeExEUXNOeXd4TUN3eE15d3hOaXd4T1N3eU1pd3lOU3d5T0YxOUxDSnBaQ0k2SW1NeU1UaGtOakExTFdGaFpXRXROREZqWXkxaVptWTJMVGxsTmpjd05tVm1ZalJqTXlJc0luUjVjR1VpT2lKRVlYbHpWR2xqYTJWeUluMHNleUpoZEhSeWFXSjFkR1Z6SWpwN0ltUmhlWE1pT2xzeExESXNNeXcwTERVc05pdzNMRGdzT1N3eE1Dd3hNU3d4TWl3eE15d3hOQ3d4TlN3eE5pd3hOeXd4T0N3eE9Td3lNQ3d5TVN3eU1pd3lNeXd5TkN3eU5Td3lOaXd5Tnl3eU9Dd3lPU3d6TUN3ek1WMTlMQ0pwWkNJNklqZzVNV0UwWm1RM0xXVmpObVl0TkdJd01pMDRNek5oTFRJeE1UWXhOMkkyTXpJNU55SXNJblI1Y0dVaU9pSkVZWGx6VkdsamEyVnlJbjBzZXlKaGRIUnlhV0oxZEdWeklqcDdJbXhwYm1WZlkyRndJam9pY205MWJtUWlMQ0pzYVc1bFgyTnZiRzl5SWpwN0luWmhiSFZsSWpvaUkyWmxaVEE0WWlKOUxDSnNhVzVsWDJwdmFXNGlPaUp5YjNWdVpDSXNJbXhwYm1WZmQybGtkR2dpT25zaWRtRnNkV1VpT2pWOUxDSjRJanA3SW1acFpXeGtJam9pZUNKOUxDSjVJanA3SW1acFpXeGtJam9pZVNKOWZTd2lhV1FpT2lKaE5HRm1NVE5rWkMweFpXWTJMVFJtTWpJdFlUQXlNeTFsTm1NME1XSm1NVFUzWVRnaUxDSjBlWEJsSWpvaVRHbHVaU0o5TEhzaVlYUjBjbWxpZFhSbGN5STZleUprWVhseklqcGJNU3d4TlYxOUxDSnBaQ0k2SWpVM1pqQmlZamxsTFRBNE1qWXROREkxWlMwNU9ETmxMVGRtTURnelpHWmhZV05pWWlJc0luUjVjR1VpT2lKRVlYbHpWR2xqYTJWeUluMHNleUpoZEhSeWFXSjFkR1Z6SWpwN0ltSmhjMlVpT2pZd0xDSnRZVzUwYVhOellYTWlPbHN4TERJc05Td3hNQ3d4TlN3eU1Dd3pNRjBzSW0xaGVGOXBiblJsY25aaGJDSTZNVGd3TURBd01DNHdMQ0p0YVc1ZmFXNTBaWEoyWVd3aU9qRXdNREF1TUN3aWJuVnRYMjFwYm05eVgzUnBZMnR6SWpvd2ZTd2lhV1FpT2lJM016TmpaVEZrT0MweU5tVmpMVFF3TVdZdFlUWTNZUzAyWkRjek1HSTVPV1F5WkRNaUxDSjBlWEJsSWpvaVFXUmhjSFJwZG1WVWFXTnJaWElpZlYwc0luSnZiM1JmYVdSeklqcGJJbU14WXpBek1qRmpMVFEzTm1ZdE5HUmhNaTFpWWpnMUxURTRabVprWlRFeVpqUmpNQ0pkZlN3aWRHbDBiR1VpT2lKQ2IydGxhQ0JCY0hCc2FXTmhkR2x2YmlJc0luWmxjbk5wYjI0aU9pSXdMakV5TGpZaWZYMDdDaUFnSUNBZ0lDQWdJQ0FnSUNBZ2RtRnlJSEpsYm1SbGNsOXBkR1Z0Y3lBOUlGdDdJbVJ2WTJsa0lqb2laRE00T0RVd1pqTXRaV1UxT1MwME16UmhMVGxoTlRjdE9EZGpNakEzTW1Kak1ETTVJaXdpWld4bGJXVnVkR2xrSWpvaU1HRm1ZV0U1TW1ZdE1tTXdNaTAwTm1Oa0xXSTFPRGN0WVRsbVl6ZGhOalF5TmpneUlpd2liVzlrWld4cFpDSTZJbU14WXpBek1qRmpMVFEzTm1ZdE5HUmhNaTFpWWpnMUxURTRabVprWlRFeVpqUmpNQ0o5WFRzS0lDQWdJQ0FnSUNBZ0lDQWdJQ0FLSUNBZ0lDQWdJQ0FnSUNBZ0lDQkNiMnRsYUM1bGJXSmxaQzVsYldKbFpGOXBkR1Z0Y3loa2IyTnpYMnB6YjI0c0lISmxibVJsY2w5cGRHVnRjeWs3Q2lBZ0lDQWdJQ0FnSUNBZ0lIMHBPd29nSUNBZ0lDQWdJQ0FnZlRzS0lDQWdJQ0FnSUNBZ0lHbG1JQ2hrYjJOMWJXVnVkQzV5WldGa2VWTjBZWFJsSUNFOUlDSnNiMkZrYVc1bklpa2dabTRvS1RzS0lDQWdJQ0FnSUNBZ0lHVnNjMlVnWkc5amRXMWxiblF1WVdSa1JYWmxiblJNYVhOMFpXNWxjaWdpUkU5TlEyOXVkR1Z1ZEV4dllXUmxaQ0lzSUdadUtUc0tJQ0FnSUNBZ0lDQjlLU2dwT3dvZ0lDQWdJQ0FnSUFvZ0lDQWdJQ0FnSUR3dmMyTnlhWEIwUGdvZ0lDQWdQQzlpYjJSNVBnbzhMMmgwYld3KyIgd2lkdGg9Ijc5MCIgc3R5bGU9ImJvcmRlcjpub25lICFpbXBvcnRhbnQ7IiBoZWlnaHQ9IjMzMCI+PC9pZnJhbWU+JylbMF07CiAgICAgICAgICAgICAgICBwb3B1cF82YTk0ODU4YjMwOTU0NGExYTI0NmFhNDk3YzdlZGFiZS5zZXRDb250ZW50KGlfZnJhbWVfMjE1ODkzMmMxYzAxNDFmNWIwMzMzOTI3MGYzMGRkOTQpOwogICAgICAgICAgICAKCiAgICAgICAgICAgIG1hcmtlcl9kNTRiYjY5MTU3NGQ0OTA0OTQzM2E0YjQyMzA5MzAwOC5iaW5kUG9wdXAocG9wdXBfNmE5NDg1OGIzMDk1NDRhMWEyNDZhYTQ5N2M3ZWRhYmUpOwoKICAgICAgICAgICAgCiAgICAgICAgCjwvc2NyaXB0Pg==\" style=\"position:absolute;width:100%;height:100%;left:0;top:0;border:none !important;\" allowfullscreen webkitallowfullscreen mozallowfullscreen></iframe></div></div>"
      ],
      "text/plain": [
       "<folium.folium.Map at 0x16790fe7d68>"
      ]
     },
     "execution_count": 25,
     "metadata": {},
     "output_type": "execute_result"
    }
   ],
   "source": [
    "dfs = load_ncs(config)\n",
    "\n",
    "for station in dfs:\n",
    "    sta_name = all_obs[station]\n",
    "    df = dfs[station]\n",
    "    if df.empty:\n",
    "        continue\n",
    "    p = make_plot(df, station)\n",
    "    maker = make_marker(p, station)\n",
    "    maker.add_to(m)\n",
    "\n",
    "m"
   ]
  },
  {
   "cell_type": "markdown",
   "metadata": {},
   "source": [
    "Now we can navigate the map and click on the markers to explorer our findings.\n",
    "\n",
    "The green markers locate the observations locations. They pop-up an interactive plot with the time-series and scores for the models (hover over the lines to se the scores). The blue markers indicate the nearest model grid point found for the comparison."
   ]
  },
  {
   "cell_type": "code",
   "execution_count": null,
   "metadata": {
    "collapsed": true
   },
   "outputs": [],
   "source": []
  }
 ],
 "metadata": {
  "anaconda-cloud": {},
  "kernelspec": {
   "display_name": "Python [default]",
   "language": "python",
   "name": "python3"
  },
  "language_info": {
   "codemirror_mode": {
    "name": "ipython",
    "version": 3
   },
   "file_extension": ".py",
   "mimetype": "text/x-python",
   "name": "python",
   "nbconvert_exporter": "python",
   "pygments_lexer": "ipython3",
   "version": "3.6.1"
  }
 },
 "nbformat": 4,
 "nbformat_minor": 1
}
