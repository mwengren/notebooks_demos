{
 "cells": [
  {
   "cell_type": "markdown",
   "metadata": {},
   "source": [
    "# The Boston Light Swim temperature analysis with Python\n",
    "\n",
    "In the past we demonstrated how to perform a CSW catalog search with [`OWSLib`](https://ioos.github.io/notebooks_demos//notebooks/2016-12-19-exploring_csw),\n",
    "and how to obtain near real-time data with [`pyoos`](https://ioos.github.io/notebooks_demos//notebooks/2016-10-12-fetching_data).\n",
    "In this notebook we will use both to find all observations and model data around the Boston Harbor to access the sea water temperature.\n",
    "\n",
    "\n",
    "This workflow is part of an example to advise swimmers of the annual [Boston lighthouse swim](http://bostonlightswim.org/) of the Boston Harbor water temperature conditions prior to the race. For more information regarding the workflow presented here see [Signell, Richard P.; Fernandes, Filipe; Wilcox, Kyle.   2016. \"Dynamic Reusable Workflows for Ocean Science.\" *J. Mar. Sci. Eng.* 4, no. 4: 68](http://dx.doi.org/10.3390/jmse4040068).\n",
    "\n",
    "(This notebook uses a custom `ioos_tools` module that needs to be added to the path separately. We recommend cloning the [repository](https://github.com/ioos/notebooks_demos) on GitHub which already includes the most update version of `ioos_tools`.)"
   ]
  },
  {
   "cell_type": "code",
   "execution_count": 1,
   "metadata": {
    "collapsed": true
   },
   "outputs": [],
   "source": [
    "import os\n",
    "import sys\n",
    "import warnings\n",
    "\n",
    "ioos_tools = os.path.join(os.path.pardir)\n",
    "sys.path.append(ioos_tools)\n",
    "\n",
    "# Suppresing warnings for a \"pretty output.\"\n",
    "warnings.simplefilter('ignore')"
   ]
  },
  {
   "cell_type": "markdown",
   "metadata": {},
   "source": [
    "This notebook is quite big and complex,\n",
    "so to help us keep things organized we'll define a cell with the most important options and switches.\n",
    "\n",
    "Below we can define the date,\n",
    "bounding box, phenomena `SOS` and `CF` names and units,\n",
    "and the catalogs we will search."
   ]
  },
  {
   "cell_type": "code",
   "execution_count": 2,
   "metadata": {},
   "outputs": [
    {
     "name": "stdout",
     "output_type": "stream",
     "text": [
      "Overwriting config.yaml\n"
     ]
    }
   ],
   "source": [
    "%%writefile config.yaml\n",
    "\n",
    "# Specify a YYYY-MM-DD hh:mm:ss date or integer day offset.\n",
    "# If both start and stop are offsets they will be computed relative to datetime.today() at midnight.\n",
    "# Use the dates commented below to reproduce the last Boston Light Swim event forecast.\n",
    "date:\n",
    "    start: -5 # 2016-8-16 00:00:00\n",
    "    stop: +4 # 2016-8-29 00:00:00\n",
    "\n",
    "run_name: 'latest'\n",
    "\n",
    "# Boston harbor.\n",
    "region:\n",
    "    bbox: [-71.3, 42.03, -70.57, 42.63]\n",
    "    crs: 'urn:ogc:def:crs:OGC:1.3:CRS84'\n",
    "\n",
    "sos_name: 'sea_water_temperature'\n",
    "\n",
    "cf_names:\n",
    "    - sea_water_temperature\n",
    "    - sea_surface_temperature\n",
    "    - sea_water_potential_temperature\n",
    "    - equivalent_potential_temperature\n",
    "    - sea_water_conservative_temperature\n",
    "    - pseudo_equivalent_potential_temperature\n",
    "\n",
    "units: 'celsius'\n",
    "\n",
    "catalogs:\n",
    "    - https://data.ioos.us/csw"
   ]
  },
  {
   "cell_type": "markdown",
   "metadata": {},
   "source": [
    "We'll print some of the search configuration options along the way to keep track of them."
   ]
  },
  {
   "cell_type": "code",
   "execution_count": 3,
   "metadata": {},
   "outputs": [
    {
     "name": "stdout",
     "output_type": "stream",
     "text": [
      "Saving data inside directory /home/mwengren/workspace/code/git/ioos/notebooks_demos/notebooks/latest\n",
      "*********************** Run information ************************\n",
      "Run date: 2017-08-17 15:55:02\n",
      "Start: 2017-08-12 00:00:00\n",
      "Stop: 2017-08-21 00:00:00\n",
      "Bounding box: -71.30, 42.03,-70.57, 42.63\n"
     ]
    }
   ],
   "source": [
    "import shutil\n",
    "from datetime import datetime\n",
    "from ioos_tools.ioos import parse_config\n",
    "\n",
    "config = parse_config('config.yaml')\n",
    "\n",
    "# Saves downloaded data into a temporary directory.\n",
    "save_dir = os.path.abspath(config['run_name'])\n",
    "if os.path.exists(save_dir):\n",
    "    shutil.rmtree(save_dir)\n",
    "os.makedirs(save_dir)\n",
    "\n",
    "fmt = '{:*^64}'.format\n",
    "print(fmt('Saving data inside directory {}'.format(save_dir)))\n",
    "print(fmt(' Run information '))\n",
    "print('Run date: {:%Y-%m-%d %H:%M:%S}'.format(datetime.utcnow()))\n",
    "print('Start: {:%Y-%m-%d %H:%M:%S}'.format(config['date']['start']))\n",
    "print('Stop: {:%Y-%m-%d %H:%M:%S}'.format(config['date']['stop']))\n",
    "print('Bounding box: {0:3.2f}, {1:3.2f},'\n",
    "      '{2:3.2f}, {3:3.2f}'.format(*config['region']['bbox']))"
   ]
  },
  {
   "cell_type": "markdown",
   "metadata": {},
   "source": [
    "We already created an `OWSLib.fes` filter [before](https://ioos.github.io/notebooks_demos//notebooks/2016-12-19-exploring_csw).\n",
    "The main difference here is that we do not want the atmosphere model data,\n",
    "so we are filtering out all the `GRIB-2` data format."
   ]
  },
  {
   "cell_type": "code",
   "execution_count": 4,
   "metadata": {
    "collapsed": true
   },
   "outputs": [],
   "source": [
    "def make_filter(config):\n",
    "    from owslib import fes\n",
    "    from ioos_tools.ioos import fes_date_filter\n",
    "    kw = dict(wildCard='*', escapeChar='\\\\',\n",
    "              singleChar='?', propertyname='apiso:AnyText')\n",
    "\n",
    "    or_filt = fes.Or([fes.PropertyIsLike(literal=('*%s*' % val), **kw)\n",
    "                      for val in config['cf_names']])\n",
    "\n",
    "    not_filt = fes.Not([fes.PropertyIsLike(literal='GRIB-2', **kw)])\n",
    "\n",
    "    begin, end = fes_date_filter(config['date']['start'],\n",
    "                                 config['date']['stop'])\n",
    "    bbox_crs = fes.BBox(config['region']['bbox'],\n",
    "                        crs=config['region']['crs'])\n",
    "    filter_list = [fes.And([bbox_crs, begin, end, or_filt, not_filt])]\n",
    "    return filter_list\n",
    "\n",
    "\n",
    "filter_list = make_filter(config)"
   ]
  },
  {
   "cell_type": "markdown",
   "metadata": {},
   "source": [
    "In the cell below we ask the catalog for all the returns that match the filter and have an OPeNDAP endpoint."
   ]
  },
  {
   "cell_type": "code",
   "execution_count": 5,
   "metadata": {
    "code_folding": [],
    "scrolled": false
   },
   "outputs": [
    {
     "name": "stdout",
     "output_type": "stream",
     "text": [
      "********************* Catalog information **********************\n",
      "URL: https://data.ioos.us/csw\n",
      "OPeNDAP\n",
      "http://oos.soest.hawaii.edu/thredds/dodsC/hioos/satellite/dhw_5km\n",
      "http://oos.soest.hawaii.edu/thredds/dodsC/pacioos/hycom/global\n",
      "http://thredds.cdip.ucsd.edu/thredds/dodsC/cdip/realtime/162p1_rt.nc\n",
      "http://thredds.cdip.ucsd.edu/thredds/dodsC/cdip/realtime/166p1_rt.nc\n",
      "http://thredds.cdip.ucsd.edu/thredds/dodsC/cdip/realtime/201p1_rt.nc\n",
      "http://thredds.cdip.ucsd.edu/thredds/dodsC/cdip/realtime/204p1_rt.nc\n",
      "http://thredds.cdip.ucsd.edu/thredds/dodsC/cdip/realtime/231p1_rt.nc\n",
      "http://thredds.secoora.org/thredds/dodsC/G1_SST_GLOBAL.nc\n",
      "http://thredds.secoora.org/thredds/dodsC/SECOORA_NCSU_CNAPS.nc\n",
      "http://www.neracoos.org/thredds/dodsC/UMO/DSG/SOS/A01/Accelerometer/HistoricRealtime/Agg.ncml\n",
      "http://www.smast.umassd.edu:8080/thredds/dodsC/FVCOM/NECOFS/Forecasts/NECOFS_FVCOM_OCEAN_BOSTON_FORECAST.nc\n",
      "http://www.smast.umassd.edu:8080/thredds/dodsC/FVCOM/NECOFS/Forecasts/NECOFS_FVCOM_OCEAN_MASSBAY_FORECAST.nc\n",
      "http://www.smast.umassd.edu:8080/thredds/dodsC/FVCOM/NECOFS/Forecasts/NECOFS_FVCOM_OCEAN_SCITUATE_FORECAST.nc\n",
      "http://www.smast.umassd.edu:8080/thredds/dodsC/FVCOM/NECOFS/Forecasts/NECOFS_GOM3_FORECAST.nc\n",
      "Number of datasets available: 20\n",
      "Directional wave and sea surface temperature measurements collected in situ by Datawell Mark 3 directional buoy located near OCEAN STATION PAPA from 2015/01/01 01:00:00 to 2017/08/13 17:40:59.\n",
      "Directional wave and sea surface temperature measurements collected in situ by Datawell Mark 3 directional buoy located near SCRIPPS NEARSHORE, CA from 2015/01/07 23:00:00 to 2017/08/15 18:00:32.\n",
      "G1SST, 1km blended SST\n",
      "HYbrid Coordinate Ocean Model (HYCOM): Global\n",
      "NECOFS (FVCOM) - Scituate - Latest Forecast\n",
      "NECOFS GOM3 (FVCOM) - Northeast US - Latest Forecast\n",
      "NECOFS Massachusetts (FVCOM) - Boston - Latest Forecast\n",
      "NECOFS Massachusetts (FVCOM) - Massachusetts Coastal - Latest Forecast\n",
      "NERACOOS Gulf of Maine Ocean Array: Realtime Buoy Observations: A01 Massachusetts Bay: A01 ACCELEROMETER Massachusetts Bay\n",
      "NOAA Coral Reef Watch Operational Daily Near-Real-Time Global 5-km Satellite Coral Bleaching Monitoring Products\n",
      "A01 Accelerometer - Waves\n",
      "A01 Directional Waves (waves.mstrain Experimental)\n",
      "A01 Met - Meteorology\n",
      "A01 Optode - Oxygen\n",
      "A01 Sbe37 - CTD\n",
      "COAWST Modeling System: USEast: ROMS-WRF-SWAN coupled model (aka CNAPS)\n",
      "Coupled Northwest Atlantic Prediction System (CNAPS)\n",
      "Directional wave and sea surface temperature measurements collected in situ by Datawell Mark 3 directional buoy located near CLATSOP SPIT, OR from 2016/10/12 17:00:00 to 2017/08/15 17:31:29.\n",
      "Directional wave and sea surface temperature measurements collected in situ by Datawell Mark 3 directional buoy located near LAKESIDE, OR from 2017/03/31 23:00:00 to 2017/08/15 17:32:02.\n",
      "Directional wave and sea surface temperature measurements collected in situ by Datawell Mark 3 directional buoy located near LOWER COOK INLET, AK from 2016/12/16 00:00:00 to 2017/08/13 18:09:42.\n",
      "\n",
      "\n"
     ]
    }
   ],
   "source": [
    "from ioos_tools.ioos import service_urls, get_csw_records\n",
    "from owslib.csw import CatalogueServiceWeb\n",
    "\n",
    "\n",
    "dap_urls = []\n",
    "print(fmt(' Catalog information '))\n",
    "for endpoint in config['catalogs']:\n",
    "    print('URL: {}'.format(endpoint))\n",
    "    try:\n",
    "        csw = CatalogueServiceWeb(endpoint, timeout=120)\n",
    "    except Exception as e:\n",
    "        print('{}'.format(e))\n",
    "        continue\n",
    "    csw = get_csw_records(csw, filter_list, esn='full')\n",
    "    OPeNDAP = service_urls(csw.records, identifier='OPeNDAP:OPeNDAP')\n",
    "    \n",
    "    \n",
    "    \n",
    "    \n",
    "    print('OPeNDAP')\n",
    "    for url in OPeNDAP: \n",
    "        print('{}'.format(url))\n",
    "        #let's just filter out a few models with incomplete forecasts:\n",
    "        if 'dhw_5km' in url or 'G1_SST_GLOBAL' in url or 'MASSBAY' in url: continue\n",
    "        dap_urls.append(url)\n",
    "    \n",
    "        \n",
    "    #dap_urls.extend(OPeNDAP)\n",
    "    #print('dap_urls')\n",
    "    #for url in dap_urls:\n",
    "    #    print('{}.html'.format(url))\n",
    "\n",
    "    print('Number of datasets available: {}'.format(len(csw.records.keys())))\n",
    "\n",
    "    for rec, item in csw.records.items():\n",
    "        print('{}'.format(item.title))\n",
    "    #if OPeNDAP:\n",
    "    #    print(fmt(' OPeNDAP '))\n",
    "    #    for url in OPeNDAP:\n",
    "    #        print('{}.html'.format(url))\n",
    "            \n",
    "    print('\\n')\n",
    "\n",
    "# Get only unique endpoints.\n",
    "#dap_urls = list(set(dap_urls))\n",
    "dap_urls = list(dap_urls)"
   ]
  },
  {
   "cell_type": "markdown",
   "metadata": {},
   "source": [
    "We found some models, and observations from NERACOOS there.\n",
    "However, we do know that there are some buoys from NDBC and CO-OPS available too.\n",
    "Also, those NERACOOS observations seem to be from a [CTD](http://www.neracoos.org/thredds/dodsC/UMO/DSG/SOS/A01/CTD1m/HistoricRealtime/Agg.ncml.html) mounted at 65 meters below the sea surface. Rendering them useless from our purpose.\n",
    "\n",
    "So let's use the catalog only for the models by filtering the observations with `is_station` below.\n",
    "And we'll rely `CO-OPS` and `NDBC` services for the observations."
   ]
  },
  {
   "cell_type": "code",
   "execution_count": 6,
   "metadata": {},
   "outputs": [
    {
     "name": "stdout",
     "output_type": "stream",
     "text": [
      "************************* Filtered DAP *************************\n",
      "http://oos.soest.hawaii.edu/thredds/dodsC/pacioos/hycom/global.html\n",
      "http://thredds.secoora.org/thredds/dodsC/SECOORA_NCSU_CNAPS.nc.html\n",
      "http://www.smast.umassd.edu:8080/thredds/dodsC/FVCOM/NECOFS/Forecasts/NECOFS_FVCOM_OCEAN_BOSTON_FORECAST.nc.html\n",
      "http://www.smast.umassd.edu:8080/thredds/dodsC/FVCOM/NECOFS/Forecasts/NECOFS_FVCOM_OCEAN_SCITUATE_FORECAST.nc.html\n",
      "http://www.smast.umassd.edu:8080/thredds/dodsC/FVCOM/NECOFS/Forecasts/NECOFS_GOM3_FORECAST.nc.html\n"
     ]
    }
   ],
   "source": [
    "from ioos_tools.ioos import is_station\n",
    "\n",
    "# Filter out some station endpoints.\n",
    "non_stations = []\n",
    "for url in dap_urls:\n",
    "    try:\n",
    "        if not is_station(url):\n",
    "            non_stations.append(url)\n",
    "    except (RuntimeError, OSError, IOError) as e:\n",
    "        print('Could not access URL {}. {!r}'.format(url, e))\n",
    "\n",
    "dap_urls = non_stations\n",
    "\n",
    "print(fmt(' Filtered DAP '))\n",
    "for url in dap_urls:\n",
    "    print('{}.html'.format(url))"
   ]
  },
  {
   "cell_type": "markdown",
   "metadata": {},
   "source": [
    "Now we can use `pyoos` collectors for `NdbcSos`,"
   ]
  },
  {
   "cell_type": "code",
   "execution_count": 7,
   "metadata": {},
   "outputs": [
    {
     "name": "stdout",
     "output_type": "stream",
     "text": [
      "******************* NDBC Collector offerings *******************\n",
      "National Data Buoy Center SOS: 992 offerings\n"
     ]
    }
   ],
   "source": [
    "from pyoos.collectors.ndbc.ndbc_sos import NdbcSos\n",
    "\n",
    "collector_ndbc = NdbcSos()\n",
    "\n",
    "collector_ndbc.set_bbox(config['region']['bbox'])\n",
    "collector_ndbc.end_time = config['date']['stop']\n",
    "collector_ndbc.start_time = config['date']['start']\n",
    "collector_ndbc.variables = [config['sos_name']]\n",
    "\n",
    "ofrs = collector_ndbc.server.offerings\n",
    "title = collector_ndbc.server.identification.title\n",
    "print(fmt(' NDBC Collector offerings '))\n",
    "print('{}: {} offerings'.format(title, len(ofrs)))"
   ]
  },
  {
   "cell_type": "code",
   "execution_count": 8,
   "metadata": {},
   "outputs": [
    {
     "data": {
      "text/html": [
       "<div>\n",
       "<style>\n",
       "    .dataframe thead tr:only-child th {\n",
       "        text-align: right;\n",
       "    }\n",
       "\n",
       "    .dataframe thead th {\n",
       "        text-align: left;\n",
       "    }\n",
       "\n",
       "    .dataframe tbody tr th {\n",
       "        vertical-align: top;\n",
       "    }\n",
       "</style>\n",
       "<table border=\"1\" class=\"dataframe\">\n",
       "  <thead>\n",
       "    <tr style=\"text-align: right;\">\n",
       "      <th></th>\n",
       "      <th>depth</th>\n",
       "      <th>lat</th>\n",
       "      <th>lon</th>\n",
       "      <th>sensor</th>\n",
       "      <th>station_name</th>\n",
       "    </tr>\n",
       "    <tr>\n",
       "      <th>station_code</th>\n",
       "      <th></th>\n",
       "      <th></th>\n",
       "      <th></th>\n",
       "      <th></th>\n",
       "      <th></th>\n",
       "    </tr>\n",
       "  </thead>\n",
       "  <tbody>\n",
       "    <tr>\n",
       "      <th>44013</th>\n",
       "      <td>0.6</td>\n",
       "      <td>42.346</td>\n",
       "      <td>-70.651</td>\n",
       "      <td>urn:ioos:sensor:wmo:44013::watertemp1</td>\n",
       "      <td>BOSTON 16 NM East of Boston, MA</td>\n",
       "    </tr>\n",
       "  </tbody>\n",
       "</table>\n",
       "</div>"
      ],
      "text/plain": [
       "              depth     lat     lon                                 sensor  \\\n",
       "station_code                                                                 \n",
       "44013           0.6  42.346 -70.651  urn:ioos:sensor:wmo:44013::watertemp1   \n",
       "\n",
       "                                 station_name  \n",
       "station_code                                   \n",
       "44013         BOSTON 16 NM East of Boston, MA  "
      ]
     },
     "execution_count": 8,
     "metadata": {},
     "output_type": "execute_result"
    }
   ],
   "source": [
    "import pandas as pd\n",
    "from ioos_tools.ioos import collector2table\n",
    "\n",
    "ndbc = collector2table(collector=collector_ndbc,\n",
    "                       config=config,\n",
    "                       col='sea_water_temperature (C)')\n",
    "\n",
    "if ndbc:\n",
    "    data = dict(\n",
    "        station_name=[s._metadata.get('station_name') for s in ndbc],\n",
    "        station_code=[s._metadata.get('station_code') for s in ndbc],\n",
    "        sensor=[s._metadata.get('sensor') for s in ndbc],\n",
    "        lon=[s._metadata.get('lon') for s in ndbc],\n",
    "        lat=[s._metadata.get('lat') for s in ndbc],\n",
    "        depth=[s._metadata.get('depth') for s in ndbc],\n",
    "    )\n",
    "\n",
    "table = pd.DataFrame(data).set_index('station_code')\n",
    "table"
   ]
  },
  {
   "cell_type": "markdown",
   "metadata": {},
   "source": [
    "and `CoopsSos`."
   ]
  },
  {
   "cell_type": "code",
   "execution_count": 9,
   "metadata": {},
   "outputs": [
    {
     "name": "stdout",
     "output_type": "stream",
     "text": [
      "********************* Collector offerings **********************\n",
      "NOAA.NOS.CO-OPS SOS: 1187 offerings\n"
     ]
    }
   ],
   "source": [
    "from pyoos.collectors.coops.coops_sos import CoopsSos\n",
    "\n",
    "collector_coops = CoopsSos()\n",
    "\n",
    "collector_coops.set_bbox(config['region']['bbox'])\n",
    "collector_coops.end_time = config['date']['stop']\n",
    "collector_coops.start_time = config['date']['start']\n",
    "collector_coops.variables = [config['sos_name']]\n",
    "\n",
    "ofrs = collector_coops.server.offerings\n",
    "title = collector_coops.server.identification.title\n",
    "print(fmt(' Collector offerings '))\n",
    "print('{}: {} offerings'.format(title, len(ofrs)))"
   ]
  },
  {
   "cell_type": "code",
   "execution_count": 10,
   "metadata": {
    "scrolled": true
   },
   "outputs": [
    {
     "data": {
      "text/html": [
       "<div>\n",
       "<style>\n",
       "    .dataframe thead tr:only-child th {\n",
       "        text-align: right;\n",
       "    }\n",
       "\n",
       "    .dataframe thead th {\n",
       "        text-align: left;\n",
       "    }\n",
       "\n",
       "    .dataframe tbody tr th {\n",
       "        vertical-align: top;\n",
       "    }\n",
       "</style>\n",
       "<table border=\"1\" class=\"dataframe\">\n",
       "  <thead>\n",
       "    <tr style=\"text-align: right;\">\n",
       "      <th></th>\n",
       "      <th>depth</th>\n",
       "      <th>lat</th>\n",
       "      <th>lon</th>\n",
       "      <th>sensor</th>\n",
       "      <th>station_name</th>\n",
       "    </tr>\n",
       "    <tr>\n",
       "      <th>station_code</th>\n",
       "      <th></th>\n",
       "      <th></th>\n",
       "      <th></th>\n",
       "      <th></th>\n",
       "      <th></th>\n",
       "    </tr>\n",
       "  </thead>\n",
       "  <tbody>\n",
       "    <tr>\n",
       "      <th>44013</th>\n",
       "      <td>0.6</td>\n",
       "      <td>42.346</td>\n",
       "      <td>-70.651</td>\n",
       "      <td>urn:ioos:sensor:wmo:44013::watertemp1</td>\n",
       "      <td>BOSTON 16 NM East of Boston, MA</td>\n",
       "    </tr>\n",
       "  </tbody>\n",
       "</table>\n",
       "</div>"
      ],
      "text/plain": [
       "              depth     lat     lon                                 sensor  \\\n",
       "station_code                                                                 \n",
       "44013           0.6  42.346 -70.651  urn:ioos:sensor:wmo:44013::watertemp1   \n",
       "\n",
       "                                 station_name  \n",
       "station_code                                   \n",
       "44013         BOSTON 16 NM East of Boston, MA  "
      ]
     },
     "execution_count": 10,
     "metadata": {},
     "output_type": "execute_result"
    }
   ],
   "source": [
    "coops = collector2table(collector=collector_coops,\n",
    "                        config=config,\n",
    "                        col='sea_water_temperature (C)')\n",
    "\n",
    "if coops:\n",
    "    data = dict(\n",
    "        station_name=[s._metadata.get('station_name') for s in coops],\n",
    "        station_code=[s._metadata.get('station_code') for s in coops],\n",
    "        sensor=[s._metadata.get('sensor') for s in coops],\n",
    "        lon=[s._metadata.get('lon') for s in coops],\n",
    "        lat=[s._metadata.get('lat') for s in coops],\n",
    "        depth=[s._metadata.get('depth') for s in coops],\n",
    "    )\n",
    "\n",
    "table = pd.DataFrame(data).set_index('station_code')\n",
    "table"
   ]
  },
  {
   "cell_type": "markdown",
   "metadata": {},
   "source": [
    "We will join all the observations into an uniform series, interpolated to 1-hour interval, for the model-data comparison.\n",
    "\n",
    "This step is necessary because the observations can be 7 or 10 minutes resolution,\n",
    "while the models can be 30 to 60 minutes."
   ]
  },
  {
   "cell_type": "code",
   "execution_count": 11,
   "metadata": {
    "collapsed": true,
    "scrolled": true
   },
   "outputs": [],
   "source": [
    "data = ndbc + coops\n",
    "\n",
    "index = pd.date_range(start=config['date']['start'].replace(tzinfo=None),\n",
    "                      end=config['date']['stop'].replace(tzinfo=None),\n",
    "                      freq='1H')\n",
    "\n",
    "# Preserve metadata with `reindex`.\n",
    "observations = []\n",
    "for series in data:\n",
    "    _metadata = series._metadata\n",
    "    obs = series.reindex(index=index, limit=1, method='nearest')\n",
    "    obs._metadata = _metadata\n",
    "    observations.append(obs)"
   ]
  },
  {
   "cell_type": "markdown",
   "metadata": {},
   "source": [
    "In this next cell we will save the data for quicker access later."
   ]
  },
  {
   "cell_type": "code",
   "execution_count": 12,
   "metadata": {
    "collapsed": true,
    "scrolled": false
   },
   "outputs": [],
   "source": [
    "import iris\n",
    "from ioos_tools.tardis import series2cube\n",
    "\n",
    "attr = dict(\n",
    "    featureType='timeSeries',\n",
    "    Conventions='CF-1.6',\n",
    "    standard_name_vocabulary='CF-1.6',\n",
    "    cdm_data_type='Station',\n",
    "    comment='Data from http://opendap.co-ops.nos.noaa.gov'\n",
    ")\n",
    "\n",
    "\n",
    "cubes = iris.cube.CubeList(\n",
    "    [series2cube(obs, attr=attr) for obs in observations]\n",
    ")\n",
    "\n",
    "outfile = os.path.join(save_dir, 'OBS_DATA.nc')\n",
    "iris.save(cubes, outfile)"
   ]
  },
  {
   "cell_type": "markdown",
   "metadata": {},
   "source": [
    "Taking a quick look at the observations:"
   ]
  },
  {
   "cell_type": "code",
   "execution_count": 13,
   "metadata": {},
   "outputs": [
    {
     "data": {
      "image/png": "[encoded data removed]",
      "text/plain": [
       "<matplotlib.figure.Figure at 0x7f4ebe6f09b0>"
      ]
     },
     "metadata": {},
     "output_type": "display_data"
    }
   ],
   "source": [
    "%matplotlib inline\n",
    "\n",
    "ax = pd.concat(data).plot(figsize=(11, 2.25))"
   ]
  },
  {
   "cell_type": "markdown",
   "metadata": {},
   "source": [
    "Now it is time to loop the models we found above,"
   ]
  },
  {
   "cell_type": "code",
   "execution_count": 14,
   "metadata": {},
   "outputs": [
    {
     "name": "stdout",
     "output_type": "stream",
     "text": [
      "**************************** Models ****************************\n",
      "\n",
      "[Reading url 1/5]: http://oos.soest.hawaii.edu/thredds/dodsC/pacioos/hycom/global\n",
      "\n",
      "[Reading url 2/5]: http://thredds.secoora.org/thredds/dodsC/SECOORA_NCSU_CNAPS.nc\n",
      "\n",
      "[Reading url 3/5]: http://www.smast.umassd.edu:8080/thredds/dodsC/FVCOM/NECOFS/Forecasts/NECOFS_FVCOM_OCEAN_BOSTON_FORECAST.nc\n",
      "\n",
      "[Reading url 4/5]: http://www.smast.umassd.edu:8080/thredds/dodsC/FVCOM/NECOFS/Forecasts/NECOFS_FVCOM_OCEAN_SCITUATE_FORECAST.nc\n",
      "\n",
      "[Reading url 5/5]: http://www.smast.umassd.edu:8080/thredds/dodsC/FVCOM/NECOFS/Forecasts/NECOFS_GOM3_FORECAST.nc\n"
     ]
    }
   ],
   "source": [
    "from iris.exceptions import (CoordinateNotFoundError, ConstraintMismatchError,\n",
    "                             MergeError)\n",
    "from ioos_tools.ioos import get_model_name\n",
    "from ioos_tools.tardis import quick_load_cubes, proc_cube, is_model, get_surface\n",
    "\n",
    "print(fmt(' Models '))\n",
    "cubes = dict()\n",
    "for k, url in enumerate(dap_urls):\n",
    "    print('\\n[Reading url {}/{}]: {}'.format(k+1, len(dap_urls), url))\n",
    "    try:\n",
    "        cube = quick_load_cubes(url, config['cf_names'],\n",
    "                                callback=None, strict=True)\n",
    "        if is_model(cube):\n",
    "            cube = proc_cube(cube,\n",
    "                             bbox=config['region']['bbox'],\n",
    "                             time=(config['date']['start'],\n",
    "                                   config['date']['stop']),\n",
    "                             units=config['units'])\n",
    "        else:\n",
    "            print('[Not model data]: {}'.format(url))\n",
    "            continue\n",
    "        cube = get_surface(cube)\n",
    "        mod_name = get_model_name(url)\n",
    "        cubes.update({mod_name: cube})\n",
    "    except (RuntimeError, ValueError,\n",
    "            ConstraintMismatchError, CoordinateNotFoundError,\n",
    "            IndexError) as e:\n",
    "        print('Cannot get cube for: {}\\n{}'.format(url, e))"
   ]
  },
  {
   "cell_type": "markdown",
   "metadata": {},
   "source": [
    "Next, we will match them with the nearest observed time-series. The `max_dist=0.08` is in degrees, that is roughly 8 kilometers."
   ]
  },
  {
   "cell_type": "code",
   "execution_count": 15,
   "metadata": {},
   "outputs": [
    {
     "name": "stdout",
     "output_type": "stream",
     "text": [
      " Downloading to file /home/mwengren/workspace/code/git/ioos/notebooks_demos/notebooks/latest/pacioos_hycom-global.nc \n",
      "[Water  ] BOSTON 16 NM East of Boston, MA\n",
      "Finished processing [pacioos_hycom-global]\n",
      " Downloading to file /home/mwengren/workspace/code/git/ioos/notebooks_demos/notebooks/latest/SECOORA_NCSU_CNAPS.nc \n",
      "[Water  ] BOSTON 16 NM East of Boston, MA\n",
      "Finished processing [SECOORA_NCSU_CNAPS]\n",
      " Downloading to file /home/mwengren/workspace/code/git/ioos/notebooks_demos/notebooks/latest/Forecasts-NECOFS_FVCOM_OCEAN_BOSTON_FORECAST.nc \n",
      "[No Data] BOSTON 16 NM East of Boston, MA\n",
      "Finished processing [Forecasts-NECOFS_FVCOM_OCEAN_BOSTON_FORECAST]\n",
      " Downloading to file /home/mwengren/workspace/code/git/ioos/notebooks_demos/notebooks/latest/Forecasts-NECOFS_FVCOM_OCEAN_SCITUATE_FORECAST.nc \n",
      "[No Data] BOSTON 16 NM East of Boston, MA\n",
      "Finished processing [Forecasts-NECOFS_FVCOM_OCEAN_SCITUATE_FORECAST]\n",
      " Downloading to file /home/mwengren/workspace/code/git/ioos/notebooks_demos/notebooks/latest/FVCOM_Forecasts-NECOFS_GOM3_FORECAST.nc \n",
      "[Water  ] BOSTON 16 NM East of Boston, MA\n",
      "Finished processing [FVCOM_Forecasts-NECOFS_GOM3_FORECAST]\n"
     ]
    }
   ],
   "source": [
    "import iris\n",
    "from iris.pandas import as_series\n",
    "from ioos_tools.tardis import (make_tree, get_nearest_water,\n",
    "                               add_station, ensure_timeseries, remove_ssh)\n",
    "\n",
    "for mod_name, cube in cubes.items():\n",
    "    fname = '{}.nc'.format(mod_name)\n",
    "    fname = os.path.join(save_dir, fname)\n",
    "    print(fmt(' Downloading to file {} '.format(fname)))\n",
    "    try:\n",
    "        tree, lon, lat = make_tree(cube)\n",
    "    except CoordinateNotFoundError as e:\n",
    "        print('Cannot make KDTree for: {}'.format(mod_name))\n",
    "        continue\n",
    "    # Get model series at observed locations.\n",
    "    raw_series = dict()\n",
    "    for obs in observations:\n",
    "        obs = obs._metadata\n",
    "        station = obs['station_code']\n",
    "        try:\n",
    "            kw = dict(k=10, max_dist=0.08, min_var=0.01)\n",
    "            args = cube, tree, obs['lon'], obs['lat']\n",
    "            try:\n",
    "                series, dist, idx = get_nearest_water(*args, **kw)\n",
    "            except RuntimeError as e:\n",
    "                print('Cannot download {!r}.\\n{}'.format(cube, e))\n",
    "                series = None\n",
    "        except ValueError as e:\n",
    "            status = 'No Data'\n",
    "            print('[{}] {}'.format(status, obs['station_name']))\n",
    "            continue\n",
    "        if not series:\n",
    "            status = 'Land   '\n",
    "        else:\n",
    "            raw_series.update({station: series})\n",
    "            series = as_series(series)\n",
    "            status = 'Water  '\n",
    "        print('[{}] {}'.format(status, obs['station_name']))\n",
    "    if raw_series:  # Save cube.\n",
    "        for station, cube in raw_series.items():\n",
    "            cube = add_station(cube, station)\n",
    "            cube = remove_ssh(cube)\n",
    "        try:\n",
    "            cube = iris.cube.CubeList(raw_series.values()).merge_cube()\n",
    "        except MergeError as e:\n",
    "            print(e)\n",
    "        ensure_timeseries(cube)\n",
    "        try:\n",
    "            iris.save(cube, fname)\n",
    "        except AttributeError:\n",
    "            # FIXME: we should patch the bad attribute instead of removing everything.\n",
    "            cube.attributes = {}\n",
    "            iris.save(cube, fname)\n",
    "        del cube\n",
    "    print('Finished processing [{}]'.format(mod_name))"
   ]
  },
  {
   "cell_type": "markdown",
   "metadata": {},
   "source": [
    "Now it is possible to compute some simple comparison metrics. First we'll calculate the model mean bias:\n",
    "\n",
    "$$ \\text{MB} = \\mathbf{\\overline{m}} - \\mathbf{\\overline{o}}$$"
   ]
  },
  {
   "cell_type": "code",
   "execution_count": 16,
   "metadata": {
    "collapsed": true
   },
   "outputs": [],
   "source": [
    "from ioos_tools.ioos import stations_keys\n",
    "\n",
    "\n",
    "def rename_cols(df, config):\n",
    "    cols = stations_keys(config, key='station_name')\n",
    "    return df.rename(columns=cols)"
   ]
  },
  {
   "cell_type": "code",
   "execution_count": 17,
   "metadata": {
    "collapsed": true,
    "scrolled": false
   },
   "outputs": [],
   "source": [
    "from ioos_tools.ioos import load_ncs\n",
    "from ioos_tools.skill_score import mean_bias, apply_skill\n",
    "\n",
    "dfs = load_ncs(config)\n",
    "\n",
    "df = apply_skill(dfs, mean_bias, remove_mean=False, filter_tides=False)\n",
    "skill_score = dict(mean_bias=df.to_dict())\n",
    "\n",
    "# Filter out stations with no valid comparison.\n",
    "df.dropna(how='all', axis=1, inplace=True)\n",
    "df = df.applymap('{:.2f}'.format).replace('nan', '--')"
   ]
  },
  {
   "cell_type": "markdown",
   "metadata": {},
   "source": [
    "And the root mean squared rrror of the deviations from the mean:\n",
    "$$ \\text{CRMS} = \\sqrt{\\left(\\mathbf{m'} - \\mathbf{o'}\\right)^2}$$\n",
    "\n",
    "where: $\\mathbf{m'} = \\mathbf{m} - \\mathbf{\\overline{m}}$ and $\\mathbf{o'} = \\mathbf{o} - \\mathbf{\\overline{o}}$"
   ]
  },
  {
   "cell_type": "code",
   "execution_count": 18,
   "metadata": {
    "collapsed": true
   },
   "outputs": [],
   "source": [
    "from ioos_tools.skill_score import rmse\n",
    "\n",
    "dfs = load_ncs(config)\n",
    "\n",
    "df = apply_skill(dfs, rmse, remove_mean=True, filter_tides=False)\n",
    "skill_score['rmse'] = df.to_dict()\n",
    "\n",
    "# Filter out stations with no valid comparison.\n",
    "df.dropna(how='all', axis=1, inplace=True)\n",
    "df = df.applymap('{:.2f}'.format).replace('nan', '--')"
   ]
  },
  {
   "cell_type": "markdown",
   "metadata": {},
   "source": [
    "The next 2 cells make the scores \"pretty\" for plotting."
   ]
  },
  {
   "cell_type": "code",
   "execution_count": 19,
   "metadata": {
    "collapsed": true
   },
   "outputs": [],
   "source": [
    "import pandas as pd\n",
    "\n",
    "# Stringfy keys.\n",
    "for key in skill_score.keys():\n",
    "    skill_score[key] = {str(k): v for k, v in skill_score[key].items()}\n",
    "\n",
    "mean_bias = pd.DataFrame.from_dict(skill_score['mean_bias'])\n",
    "mean_bias = mean_bias.applymap('{:.2f}'.format).replace('nan', '--')\n",
    "\n",
    "skill_score = pd.DataFrame.from_dict(skill_score['rmse'])\n",
    "skill_score = skill_score.applymap('{:.2f}'.format).replace('nan', '--')"
   ]
  },
  {
   "cell_type": "code",
   "execution_count": 20,
   "metadata": {
    "collapsed": true
   },
   "outputs": [],
   "source": [
    "from ioos_tools.ioos import make_map\n",
    "\n",
    "bbox = config['region']['bbox']\n",
    "units = config['units']\n",
    "run_name = config['run_name']\n",
    "\n",
    "kw = dict(zoom_start=11, line=True, states=False,\n",
    "          secoora_stations=False, layers=False)\n",
    "m = make_map(bbox, **kw)"
   ]
  },
  {
   "cell_type": "markdown",
   "metadata": {},
   "source": [
    "The cells from `[20]` to `[25]` create a [`folium`](https://github.com/python-visualization/folium) map with [`bokeh`](http://bokeh.pydata.org/en/latest/) for the time-series at the observed points.\n",
    "\n",
    "Note that we did mark the nearest model cell location used in the comparison."
   ]
  },
  {
   "cell_type": "code",
   "execution_count": 21,
   "metadata": {},
   "outputs": [
    {
     "data": {
      "text/plain": [
       "<folium.plugins.marker_cluster.MarkerCluster at 0x7f4eb383e240>"
      ]
     },
     "execution_count": 21,
     "metadata": {},
     "output_type": "execute_result"
    }
   ],
   "source": [
    "all_obs = stations_keys(config)\n",
    "\n",
    "from glob import glob\n",
    "from operator import itemgetter\n",
    "\n",
    "import iris\n",
    "import folium\n",
    "from folium.plugins import MarkerCluster\n",
    "\n",
    "iris.FUTURE.netcdf_promote = True\n",
    "\n",
    "big_list = []\n",
    "for fname in glob(os.path.join(save_dir, '*.nc')):\n",
    "    if 'OBS_DATA' in fname:\n",
    "        continue\n",
    "    cube = iris.load_cube(fname)\n",
    "    model = os.path.split(fname)[1].split('-')[-1].split('.')[0]\n",
    "    lons = cube.coord(axis='X').points\n",
    "    lats = cube.coord(axis='Y').points\n",
    "    stations = cube.coord('station_code').points\n",
    "    models = [model]*lons.size\n",
    "    lista = zip(models, lons.tolist(), lats.tolist(), stations.tolist())\n",
    "    big_list.extend(lista)\n",
    "\n",
    "big_list.sort(key=itemgetter(3))\n",
    "df = pd.DataFrame(big_list, columns=['name', 'lon', 'lat', 'station'])\n",
    "df.set_index('station', drop=True, inplace=True)\n",
    "groups = df.groupby(df.index)\n",
    "\n",
    "\n",
    "locations, popups = [], []\n",
    "for station, info in groups:\n",
    "    sta_name = all_obs[station]\n",
    "    for lat, lon, name in zip(info.lat, info.lon, info.name):\n",
    "        locations.append([lat, lon])\n",
    "        popups.append('[{}]: {}'.format(name, sta_name))\n",
    "\n",
    "MarkerCluster(locations=locations, popups=popups).add_to(m)"
   ]
  },
  {
   "cell_type": "markdown",
   "metadata": {},
   "source": [
    "Here we use a dictionary with some models we expect to find so we can create a better legend for the plots. If any new models are found, we will use its filename in the legend as a default until we can go back and add a short name to our library."
   ]
  },
  {
   "cell_type": "code",
   "execution_count": 22,
   "metadata": {
    "collapsed": true
   },
   "outputs": [],
   "source": [
    "titles = {\n",
    "    'coawst_4_use_best': 'COAWST_4',\n",
    "    'global': 'HYCOM',\n",
    "    'NECOFS_GOM3_FORECAST': 'NECOFS_GOM3',\n",
    "    'NECOFS_FVCOM_OCEAN_MASSBAY_FORECAST': 'NECOFS_MassBay',\n",
    "    'OBS_DATA': 'Observations'\n",
    "}"
   ]
  },
  {
   "cell_type": "code",
   "execution_count": 23,
   "metadata": {
    "collapsed": true
   },
   "outputs": [],
   "source": [
    "from bokeh.resources import CDN\n",
    "from bokeh.plotting import figure\n",
    "from bokeh.embed import file_html\n",
    "from bokeh.models import HoverTool\n",
    "from itertools import cycle\n",
    "from bokeh.palettes import Spectral6\n",
    "\n",
    "from folium import IFrame\n",
    "\n",
    "# Plot defaults.\n",
    "colors = Spectral6\n",
    "colorcycler = cycle(colors)\n",
    "tools = 'pan,box_zoom,reset'\n",
    "width, height = 750, 250\n",
    "\n",
    "\n",
    "def make_plot(df, station):\n",
    "    p = figure(toolbar_location='above',\n",
    "               x_axis_type='datetime',\n",
    "               width=width,\n",
    "               height=height,\n",
    "               tools=tools,\n",
    "               title=str(station))\n",
    "    for column, series in df.iteritems():\n",
    "        series.dropna(inplace=True)\n",
    "        if not series.empty:\n",
    "            line = p.line(\n",
    "                x=series.index,\n",
    "                y=series.values,\n",
    "                legend='%s' % titles.get(column, column),\n",
    "                line_color=next(colorcycler),\n",
    "                line_width=5,\n",
    "                line_cap='round',\n",
    "                line_join='round'\n",
    "            )\n",
    "            if 'OBS_DATA' not in column:\n",
    "                bias = mean_bias[str(station)][column]\n",
    "                skill = skill_score[str(station)][column]\n",
    "            else:\n",
    "                skill = bias = 'NA'\n",
    "            p.add_tools(HoverTool(tooltips=[('Name', '%s' % column),\n",
    "                                            ('Bias', bias),\n",
    "                                            ('Skill', skill)],\n",
    "                                  renderers=[line]))\n",
    "    return p\n",
    "\n",
    "\n",
    "def make_marker(p, station):\n",
    "    lons = stations_keys(config, key='lon')\n",
    "    lats = stations_keys(config, key='lat')\n",
    "\n",
    "    lon, lat = lons[station], lats[station]\n",
    "    html = file_html(p, CDN, station)\n",
    "    iframe = IFrame(html, width=width+40, height=height+80)\n",
    "\n",
    "    popup = folium.Popup(iframe, max_width=2650)\n",
    "    icon = folium.Icon(color='green', icon='stats')\n",
    "    marker = folium.Marker(location=[lat, lon],\n",
    "                           popup=popup,\n",
    "                           icon=icon)\n",
    "    return marker"
   ]
  },
  {
   "cell_type": "code",
   "execution_count": 24,
   "metadata": {
    "scrolled": true
   },
   "outputs": [
    {
     "data": {
      "text/html": [
       "<div style=\"width:100%;\"><div style=\"position:relative;width:100%;height:0;padding-bottom:60%;\"><iframe src=\"data:text/html;charset=utf-8;base64,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\" style=\"position:absolute;width:100%;height:100%;left:0;top:0;border:none !important;\" allowfullscreen webkitallowfullscreen mozallowfullscreen></iframe></div></div>"
      ],
      "text/plain": [
       "<folium.folium.Map at 0x7f4eb2ff8c18>"
      ]
     },
     "execution_count": 24,
     "metadata": {},
     "output_type": "execute_result"
    }
   ],
   "source": [
    "dfs = load_ncs(config)\n",
    "\n",
    "for station in dfs:\n",
    "    sta_name = all_obs[station]\n",
    "    df = dfs[station]\n",
    "    if df.empty:\n",
    "        continue\n",
    "    p = make_plot(df, station)\n",
    "    maker = make_marker(p, station)\n",
    "    maker.add_to(m)\n",
    "\n",
    "m"
   ]
  },
  {
   "cell_type": "markdown",
   "metadata": {},
   "source": [
    "Now we can navigate the map and click on the markers to explorer our findings.\n",
    "\n",
    "The green markers locate the observations locations. They pop-up an interactive plot with the time-series and scores for the models (hover over the lines to se the scores). The blue markers indicate the nearest model grid point found for the comparison."
   ]
  },
  {
   "cell_type": "code",
   "execution_count": null,
   "metadata": {
    "collapsed": true
   },
   "outputs": [],
   "source": []
  }
 ],
 "metadata": {
  "anaconda-cloud": {},
  "kernelspec": {
   "display_name": "Python [default]",
   "language": "python",
   "name": "python3"
  },
  "language_info": {
   "codemirror_mode": {
    "name": "ipython",
    "version": 3
   },
   "file_extension": ".py",
   "mimetype": "text/x-python",
   "name": "python",
   "nbconvert_exporter": "python",
   "pygments_lexer": "ipython3",
   "version": "3.6.2"
  }
 },
 "nbformat": 4,
 "nbformat_minor": 1
}
