{
 "cells": [
  {
   "cell_type": "markdown",
   "metadata": {},
   "source": [
    "# The Boston Light Swim temperature analysis with Python\n",
    "\n",
    "In the past we demonstrated how to perform a CSW catalog search with [`OWSLib`](https://ioos.github.io/notebooks_demos//notebooks/2016-12-19-exploring_csw),\n",
    "and how to obtain near real-time data with [`pyoos`](https://ioos.github.io/notebooks_demos//notebooks/2016-10-12-fetching_data).\n",
    "In this notebook we will use both to find all observations and model data around the Boston Harbor to access the sea water temperature.\n",
    "\n",
    "\n",
    "This workflow is part of an example to advise swimmers of the annual [Boston lighthouse swim](http://bostonlightswim.org/) of the Boston Harbor water temperature conditions prior to the race. For more information regarding the workflow presented here see [Signell, Richard P.; Fernandes, Filipe; Wilcox, Kyle.   2016. \"Dynamic Reusable Workflows for Ocean Science.\" *J. Mar. Sci. Eng.* 4, no. 4: 68](http://dx.doi.org/10.3390/jmse4040068).\n",
    "\n",
    "(This notebook uses a custom `ioos_tools` module that needs to be added to the path separately. We recommend cloning the [repository](https://github.com/ioos/notebooks_demos) on GitHub which already includes the most update version of `ioos_tools`.)"
   ]
  },
  {
   "cell_type": "code",
   "execution_count": 1,
   "metadata": {
    "collapsed": true
   },
   "outputs": [],
   "source": [
    "import os\n",
    "import sys\n",
    "import warnings\n",
    "\n",
    "ioos_tools = os.path.join(os.path.pardir)\n",
    "sys.path.append(ioos_tools)\n",
    "\n",
    "# Suppresing warnings for a \"pretty output.\"\n",
    "warnings.simplefilter('ignore')"
   ]
  },
  {
   "cell_type": "markdown",
   "metadata": {},
   "source": [
    "This notebook is quite big and complex,\n",
    "so to help us keep things organized we'll define a cell with the most important options and switches.\n",
    "\n",
    "Below we can define the date,\n",
    "bounding box, phenomena `SOS` and `CF` names and units,\n",
    "and the catalogs we will search."
   ]
  },
  {
   "cell_type": "code",
   "execution_count": 2,
   "metadata": {},
   "outputs": [
    {
     "name": "stdout",
     "output_type": "stream",
     "text": [
      "Writing config.yaml\n"
     ]
    }
   ],
   "source": [
    "%%writefile config.yaml\n",
    "\n",
    "# Specify a YYYY-MM-DD hh:mm:ss date or integer day offset.\n",
    "# If both start and stop are offsets they will be computed relative to datetime.today() at midnight.\n",
    "# Use the dates commented below to reproduce the last Boston Light Swim event forecast.\n",
    "date:\n",
    "    start: -5 # 2016-8-16 00:00:00\n",
    "    stop: +4 # 2016-8-29 00:00:00\n",
    "\n",
    "run_name: 'latest'\n",
    "\n",
    "# Boston harbor.\n",
    "region:\n",
    "    bbox: [-71.3, 42.03, -70.57, 42.63]\n",
    "    crs: 'urn:ogc:def:crs:OGC:1.3:CRS84'\n",
    "\n",
    "sos_name: 'sea_water_temperature'\n",
    "\n",
    "cf_names:\n",
    "    - sea_water_temperature\n",
    "    - sea_surface_temperature\n",
    "    - sea_water_potential_temperature\n",
    "    - equivalent_potential_temperature\n",
    "    - sea_water_conservative_temperature\n",
    "    - pseudo_equivalent_potential_temperature\n",
    "\n",
    "units: 'celsius'\n",
    "\n",
    "catalogs:\n",
    "    - https://data.ioos.us/csw\n",
    "#    - https://gamone.whoi.edu/csw"
   ]
  },
  {
   "cell_type": "markdown",
   "metadata": {},
   "source": [
    "We'll print some of the search configuration options along the way to keep track of them."
   ]
  },
  {
   "cell_type": "code",
   "execution_count": 3,
   "metadata": {},
   "outputs": [
    {
     "name": "stdout",
     "output_type": "stream",
     "text": [
      "Saving data inside directory /home/mwengren/workspace/code/git/ioos/notebooks_demos/notebooks/latest\n",
      "*********************** Run information ************************\n",
      "Run date: 2017-08-15 18:47:43\n",
      "Start: 2017-08-10 00:00:00\n",
      "Stop: 2017-08-19 00:00:00\n",
      "Bounding box: -71.30, 42.03,-70.57, 42.63\n"
     ]
    }
   ],
   "source": [
    "import shutil\n",
    "from datetime import datetime\n",
    "from ioos_tools.ioos import parse_config\n",
    "\n",
    "config = parse_config('config.yaml')\n",
    "\n",
    "# Saves downloaded data into a temporary directory.\n",
    "save_dir = os.path.abspath(config['run_name'])\n",
    "if os.path.exists(save_dir):\n",
    "    shutil.rmtree(save_dir)\n",
    "os.makedirs(save_dir)\n",
    "\n",
    "fmt = '{:*^64}'.format\n",
    "print(fmt('Saving data inside directory {}'.format(save_dir)))\n",
    "print(fmt(' Run information '))\n",
    "print('Run date: {:%Y-%m-%d %H:%M:%S}'.format(datetime.utcnow()))\n",
    "print('Start: {:%Y-%m-%d %H:%M:%S}'.format(config['date']['start']))\n",
    "print('Stop: {:%Y-%m-%d %H:%M:%S}'.format(config['date']['stop']))\n",
    "print('Bounding box: {0:3.2f}, {1:3.2f},'\n",
    "      '{2:3.2f}, {3:3.2f}'.format(*config['region']['bbox']))"
   ]
  },
  {
   "cell_type": "markdown",
   "metadata": {},
   "source": [
    "We already created an `OWSLib.fes` filter [before](https://ioos.github.io/notebooks_demos//notebooks/2016-12-19-exploring_csw).\n",
    "The main difference here is that we do not want the atmosphere model data,\n",
    "so we are filtering out all the `GRIB-2` data format."
   ]
  },
  {
   "cell_type": "code",
   "execution_count": 4,
   "metadata": {
    "collapsed": true
   },
   "outputs": [],
   "source": [
    "def make_filter(config):\n",
    "    from owslib import fes\n",
    "    from ioos_tools.ioos import fes_date_filter\n",
    "    kw = dict(wildCard='*', escapeChar='\\\\',\n",
    "              singleChar='?', propertyname='apiso:AnyText')\n",
    "\n",
    "    or_filt = fes.Or([fes.PropertyIsLike(literal=('*%s*' % val), **kw)\n",
    "                      for val in config['cf_names']])\n",
    "\n",
    "    not_filt = fes.Not([fes.PropertyIsLike(literal='GRIB-2', **kw)])\n",
    "\n",
    "    begin, end = fes_date_filter(config['date']['start'],\n",
    "                                 config['date']['stop'])\n",
    "    bbox_crs = fes.BBox(config['region']['bbox'],\n",
    "                        crs=config['region']['crs'])\n",
    "    filter_list = [fes.And([bbox_crs, begin, end, or_filt, not_filt])]\n",
    "    return filter_list\n",
    "\n",
    "\n",
    "filter_list = make_filter(config)"
   ]
  },
  {
   "cell_type": "markdown",
   "metadata": {},
   "source": [
    "In the cell below we ask the catalog for all the returns that match the filter and have an OPeNDAP endpoint."
   ]
  },
  {
   "cell_type": "code",
   "execution_count": 5,
   "metadata": {
    "code_folding": [],
    "scrolled": false
   },
   "outputs": [
    {
     "name": "stdout",
     "output_type": "stream",
     "text": [
      "********************* Catalog information **********************\n",
      "URL: https://data.ioos.us/csw\n",
      "Number of datasets available: 20\n",
      "Directional wave and sea surface temperature measurements collected in situ by Datawell Mark 3 directional buoy located near OCEAN STATION PAPA from 2015/01/01 01:00:00 to 2017/08/14 17:42:21.\n",
      "Directional wave and sea surface temperature measurements collected in situ by Datawell Mark 3 directional buoy located near SCRIPPS NEARSHORE, CA from 2015/01/07 23:00:00 to 2017/08/14 18:00:14.\n",
      "G1SST, 1km blended SST\n",
      "HYbrid Coordinate Ocean Model (HYCOM): Global\n",
      "NECOFS (FVCOM) - Scituate - Latest Forecast\n",
      "NECOFS GOM3 (FVCOM) - Northeast US - Latest Forecast\n",
      "NECOFS Massachusetts (FVCOM) - Boston - Latest Forecast\n",
      "NECOFS Massachusetts (FVCOM) - Massachusetts Coastal - Latest Forecast\n",
      "NERACOOS Gulf of Maine Ocean Array: Realtime Buoy Observations: A01 Massachusetts Bay: A01 ACCELEROMETER Massachusetts Bay\n",
      "NOAA Coral Reef Watch Operational Daily Near-Real-Time Global 5-km Satellite Coral Bleaching Monitoring Products\n",
      "A01 Accelerometer - Waves\n",
      "A01 Directional Waves (waves.mstrain Experimental)\n",
      "A01 Met - Meteorology\n",
      "A01 Optode - Oxygen\n",
      "A01 Sbe37 - CTD\n",
      "COAWST Modeling System: USEast: ROMS-WRF-SWAN coupled model (aka CNAPS)\n",
      "Coupled Northwest Atlantic Prediction System (CNAPS)\n",
      "Directional wave and sea surface temperature measurements collected in situ by Datawell Mark 3 directional buoy located near CLATSOP SPIT, OR from 2016/10/12 17:00:00 to 2017/08/14 18:02:49.\n",
      "Directional wave and sea surface temperature measurements collected in situ by Datawell Mark 3 directional buoy located near LAKESIDE, OR from 2017/03/31 23:00:00 to 2017/08/14 13:31:35.\n",
      "Directional wave and sea surface temperature measurements collected in situ by Datawell Mark 3 directional buoy located near LOWER COOK INLET, AK from 2016/12/16 00:00:00 to 2017/08/14 18:09:40.\n",
      "***************************** DAP ******************************\n",
      "http://oos.soest.hawaii.edu/thredds/dodsC/hioos/satellite/dhw_5km.html\n",
      "http://oos.soest.hawaii.edu/thredds/dodsC/pacioos/hycom/global.html\n",
      "http://thredds.cdip.ucsd.edu/thredds/dodsC/cdip/realtime/162p1_rt.nc.html\n",
      "http://thredds.cdip.ucsd.edu/thredds/dodsC/cdip/realtime/166p1_rt.nc.html\n",
      "http://thredds.cdip.ucsd.edu/thredds/dodsC/cdip/realtime/201p1_rt.nc.html\n",
      "http://thredds.cdip.ucsd.edu/thredds/dodsC/cdip/realtime/204p1_rt.nc.html\n",
      "http://thredds.cdip.ucsd.edu/thredds/dodsC/cdip/realtime/231p1_rt.nc.html\n",
      "http://thredds.secoora.org/thredds/dodsC/G1_SST_GLOBAL.nc.html\n",
      "http://thredds.secoora.org/thredds/dodsC/SECOORA_NCSU_CNAPS.nc.html\n",
      "http://www.neracoos.org/thredds/dodsC/UMO/DSG/SOS/A01/Accelerometer/HistoricRealtime/Agg.ncml.html\n",
      "http://www.smast.umassd.edu:8080/thredds/dodsC/FVCOM/NECOFS/Forecasts/NECOFS_FVCOM_OCEAN_BOSTON_FORECAST.nc.html\n",
      "http://www.smast.umassd.edu:8080/thredds/dodsC/FVCOM/NECOFS/Forecasts/NECOFS_FVCOM_OCEAN_MASSBAY_FORECAST.nc.html\n",
      "http://www.smast.umassd.edu:8080/thredds/dodsC/FVCOM/NECOFS/Forecasts/NECOFS_FVCOM_OCEAN_SCITUATE_FORECAST.nc.html\n",
      "http://www.smast.umassd.edu:8080/thredds/dodsC/FVCOM/NECOFS/Forecasts/NECOFS_GOM3_FORECAST.nc.html\n",
      "\n",
      "\n",
      "URL: https://gamone.whoi.edu/csw\n",
      "Number of datasets available: 1\n",
      "COAWST Modeling System: USEast: ROMS-WRF-SWAN coupled model (aka CNAPS)\n",
      "\n",
      "\n"
     ]
    }
   ],
   "source": [
    "from ioos_tools.ioos import service_urls, get_csw_records\n",
    "from owslib.csw import CatalogueServiceWeb\n",
    "\n",
    "\n",
    "dap_urls = []\n",
    "print(fmt(' Catalog information '))\n",
    "for endpoint in config['catalogs']:\n",
    "    print('URL: {}'.format(endpoint))\n",
    "    try:\n",
    "        csw = CatalogueServiceWeb(endpoint, timeout=120)\n",
    "    except Exception as e:\n",
    "        print('{}'.format(e))\n",
    "        continue\n",
    "    csw = get_csw_records(csw, filter_list, esn='full')\n",
    "    OPeNDAP = service_urls(csw.records, identifier='OPeNDAP:OPeNDAP')\n",
    "    \n",
    "    print(OPeNDAP)\n",
    "    \n",
    "    odp = service_urls(csw.records, identifier='urn:x-esri:specification:ServiceType:odp:url')\n",
    "    \n",
    "    print(dap)\n",
    "    \n",
    "    dap = OPeNDAP + odp\n",
    "    dap_urls.extend(dap)\n",
    "\n",
    "    print('Number of datasets available: {}'.format(len(csw.records.keys())))\n",
    "\n",
    "    for rec, item in csw.records.items():\n",
    "        print('{}'.format(item.title))\n",
    "    if dap:\n",
    "        print(fmt(' DAP '))\n",
    "        for url in dap:\n",
    "            print('{}.html'.format(url))\n",
    "    print('\\n')\n",
    "\n",
    "# Get only unique endpoints.\n",
    "dap_urls = list(set(dap_urls))"
   ]
  },
  {
   "cell_type": "markdown",
   "metadata": {},
   "source": [
    "We found some models, and observations from NERACOOS there.\n",
    "However, we do know that there are some buoys from NDBC and CO-OPS available too.\n",
    "Also, those NERACOOS observations seem to be from a [CTD](http://www.neracoos.org/thredds/dodsC/UMO/DSG/SOS/A01/CTD1m/HistoricRealtime/Agg.ncml.html) mounted at 65 meters below the sea surface. Rendering them useless from our purpose.\n",
    "\n",
    "So let's use the catalog only for the models by filtering the observations with `is_station` below.\n",
    "And we'll rely `CO-OPS` and `NDBC` services for the observations."
   ]
  },
  {
   "cell_type": "code",
   "execution_count": 6,
   "metadata": {},
   "outputs": [
    {
     "name": "stdout",
     "output_type": "stream",
     "text": [
      "************************* Filtered DAP *************************\n",
      "http://oos.soest.hawaii.edu/thredds/dodsC/pacioos/hycom/global.html\n",
      "http://thredds.secoora.org/thredds/dodsC/SECOORA_NCSU_CNAPS.nc.html\n",
      "http://www.smast.umassd.edu:8080/thredds/dodsC/FVCOM/NECOFS/Forecasts/NECOFS_FVCOM_OCEAN_SCITUATE_FORECAST.nc.html\n",
      "http://www.smast.umassd.edu:8080/thredds/dodsC/FVCOM/NECOFS/Forecasts/NECOFS_FVCOM_OCEAN_BOSTON_FORECAST.nc.html\n",
      "http://www.smast.umassd.edu:8080/thredds/dodsC/FVCOM/NECOFS/Forecasts/NECOFS_FVCOM_OCEAN_MASSBAY_FORECAST.nc.html\n",
      "http://www.smast.umassd.edu:8080/thredds/dodsC/FVCOM/NECOFS/Forecasts/NECOFS_GOM3_FORECAST.nc.html\n",
      "http://oos.soest.hawaii.edu/thredds/dodsC/hioos/satellite/dhw_5km.html\n",
      "http://thredds.secoora.org/thredds/dodsC/G1_SST_GLOBAL.nc.html\n"
     ]
    }
   ],
   "source": [
    "from ioos_tools.ioos import is_station\n",
    "\n",
    "# Filter out some station endpoints.\n",
    "non_stations = []\n",
    "for url in dap_urls:\n",
    "    try:\n",
    "        if not is_station(url):\n",
    "            non_stations.append(url)\n",
    "    except (RuntimeError, OSError, IOError) as e:\n",
    "        print('Could not access URL {}. {!r}'.format(url, e))\n",
    "\n",
    "dap_urls = non_stations\n",
    "\n",
    "print(fmt(' Filtered DAP '))\n",
    "for url in dap_urls:\n",
    "    print('{}.html'.format(url))"
   ]
  },
  {
   "cell_type": "markdown",
   "metadata": {},
   "source": [
    "Now we can use `pyoos` collectors for `NdbcSos`,"
   ]
  },
  {
   "cell_type": "code",
   "execution_count": 8,
   "metadata": {},
   "outputs": [
    {
     "name": "stdout",
     "output_type": "stream",
     "text": [
      "******************* NDBC Collector offerings *******************\n",
      "National Data Buoy Center SOS: 992 offerings\n"
     ]
    }
   ],
   "source": [
    "from pyoos.collectors.ndbc.ndbc_sos import NdbcSos\n",
    "\n",
    "collector_ndbc = NdbcSos()\n",
    "\n",
    "collector_ndbc.set_bbox(config['region']['bbox'])\n",
    "collector_ndbc.end_time = config['date']['stop']\n",
    "collector_ndbc.start_time = config['date']['start']\n",
    "collector_ndbc.variables = [config['sos_name']]\n",
    "\n",
    "ofrs = collector_ndbc.server.offerings\n",
    "title = collector_ndbc.server.identification.title\n",
    "print(fmt(' NDBC Collector offerings '))\n",
    "print('{}: {} offerings'.format(title, len(ofrs)))"
   ]
  },
  {
   "cell_type": "code",
   "execution_count": 9,
   "metadata": {},
   "outputs": [
    {
     "data": {
      "text/html": [
       "<div>\n",
       "<style>\n",
       "    .dataframe thead tr:only-child th {\n",
       "        text-align: right;\n",
       "    }\n",
       "\n",
       "    .dataframe thead th {\n",
       "        text-align: left;\n",
       "    }\n",
       "\n",
       "    .dataframe tbody tr th {\n",
       "        vertical-align: top;\n",
       "    }\n",
       "</style>\n",
       "<table border=\"1\" class=\"dataframe\">\n",
       "  <thead>\n",
       "    <tr style=\"text-align: right;\">\n",
       "      <th></th>\n",
       "      <th>depth</th>\n",
       "      <th>lat</th>\n",
       "      <th>lon</th>\n",
       "      <th>sensor</th>\n",
       "      <th>station_name</th>\n",
       "    </tr>\n",
       "    <tr>\n",
       "      <th>station_code</th>\n",
       "      <th></th>\n",
       "      <th></th>\n",
       "      <th></th>\n",
       "      <th></th>\n",
       "      <th></th>\n",
       "    </tr>\n",
       "  </thead>\n",
       "  <tbody>\n",
       "    <tr>\n",
       "      <th>44013</th>\n",
       "      <td>0.6</td>\n",
       "      <td>42.346</td>\n",
       "      <td>-70.651</td>\n",
       "      <td>urn:ioos:sensor:wmo:44013::watertemp1</td>\n",
       "      <td>BOSTON 16 NM East of Boston, MA</td>\n",
       "    </tr>\n",
       "  </tbody>\n",
       "</table>\n",
       "</div>"
      ],
      "text/plain": [
       "              depth     lat     lon                                 sensor  \\\n",
       "station_code                                                                 \n",
       "44013           0.6  42.346 -70.651  urn:ioos:sensor:wmo:44013::watertemp1   \n",
       "\n",
       "                                 station_name  \n",
       "station_code                                   \n",
       "44013         BOSTON 16 NM East of Boston, MA  "
      ]
     },
     "execution_count": 9,
     "metadata": {},
     "output_type": "execute_result"
    }
   ],
   "source": [
    "import pandas as pd\n",
    "from ioos_tools.ioos import collector2table\n",
    "\n",
    "ndbc = collector2table(collector=collector_ndbc,\n",
    "                       config=config,\n",
    "                       col='sea_water_temperature (C)')\n",
    "\n",
    "if ndbc:\n",
    "    data = dict(\n",
    "        station_name=[s._metadata.get('station_name') for s in ndbc],\n",
    "        station_code=[s._metadata.get('station_code') for s in ndbc],\n",
    "        sensor=[s._metadata.get('sensor') for s in ndbc],\n",
    "        lon=[s._metadata.get('lon') for s in ndbc],\n",
    "        lat=[s._metadata.get('lat') for s in ndbc],\n",
    "        depth=[s._metadata.get('depth') for s in ndbc],\n",
    "    )\n",
    "\n",
    "table = pd.DataFrame(data).set_index('station_code')\n",
    "table"
   ]
  },
  {
   "cell_type": "markdown",
   "metadata": {},
   "source": [
    "and `CoopsSos`."
   ]
  },
  {
   "cell_type": "code",
   "execution_count": 10,
   "metadata": {},
   "outputs": [
    {
     "name": "stdout",
     "output_type": "stream",
     "text": [
      "********************* Collector offerings **********************\n",
      "NOAA.NOS.CO-OPS SOS: 1187 offerings\n"
     ]
    }
   ],
   "source": [
    "from pyoos.collectors.coops.coops_sos import CoopsSos\n",
    "\n",
    "collector_coops = CoopsSos()\n",
    "\n",
    "collector_coops.set_bbox(config['region']['bbox'])\n",
    "collector_coops.end_time = config['date']['stop']\n",
    "collector_coops.start_time = config['date']['start']\n",
    "collector_coops.variables = [config['sos_name']]\n",
    "\n",
    "ofrs = collector_coops.server.offerings\n",
    "title = collector_coops.server.identification.title\n",
    "print(fmt(' Collector offerings '))\n",
    "print('{}: {} offerings'.format(title, len(ofrs)))"
   ]
  },
  {
   "cell_type": "code",
   "execution_count": 11,
   "metadata": {
    "scrolled": true
   },
   "outputs": [
    {
     "data": {
      "text/html": [
       "<div>\n",
       "<style>\n",
       "    .dataframe thead tr:only-child th {\n",
       "        text-align: right;\n",
       "    }\n",
       "\n",
       "    .dataframe thead th {\n",
       "        text-align: left;\n",
       "    }\n",
       "\n",
       "    .dataframe tbody tr th {\n",
       "        vertical-align: top;\n",
       "    }\n",
       "</style>\n",
       "<table border=\"1\" class=\"dataframe\">\n",
       "  <thead>\n",
       "    <tr style=\"text-align: right;\">\n",
       "      <th></th>\n",
       "      <th>depth</th>\n",
       "      <th>lat</th>\n",
       "      <th>lon</th>\n",
       "      <th>sensor</th>\n",
       "      <th>station_name</th>\n",
       "    </tr>\n",
       "    <tr>\n",
       "      <th>station_code</th>\n",
       "      <th></th>\n",
       "      <th></th>\n",
       "      <th></th>\n",
       "      <th></th>\n",
       "      <th></th>\n",
       "    </tr>\n",
       "  </thead>\n",
       "  <tbody>\n",
       "    <tr>\n",
       "      <th>44013</th>\n",
       "      <td>0.6</td>\n",
       "      <td>42.346</td>\n",
       "      <td>-70.651</td>\n",
       "      <td>urn:ioos:sensor:wmo:44013::watertemp1</td>\n",
       "      <td>BOSTON 16 NM East of Boston, MA</td>\n",
       "    </tr>\n",
       "  </tbody>\n",
       "</table>\n",
       "</div>"
      ],
      "text/plain": [
       "              depth     lat     lon                                 sensor  \\\n",
       "station_code                                                                 \n",
       "44013           0.6  42.346 -70.651  urn:ioos:sensor:wmo:44013::watertemp1   \n",
       "\n",
       "                                 station_name  \n",
       "station_code                                   \n",
       "44013         BOSTON 16 NM East of Boston, MA  "
      ]
     },
     "execution_count": 11,
     "metadata": {},
     "output_type": "execute_result"
    }
   ],
   "source": [
    "coops = collector2table(collector=collector_coops,\n",
    "                        config=config,\n",
    "                        col='sea_water_temperature (C)')\n",
    "\n",
    "if coops:\n",
    "    data = dict(\n",
    "        station_name=[s._metadata.get('station_name') for s in coops],\n",
    "        station_code=[s._metadata.get('station_code') for s in coops],\n",
    "        sensor=[s._metadata.get('sensor') for s in coops],\n",
    "        lon=[s._metadata.get('lon') for s in coops],\n",
    "        lat=[s._metadata.get('lat') for s in coops],\n",
    "        depth=[s._metadata.get('depth') for s in coops],\n",
    "    )\n",
    "\n",
    "table = pd.DataFrame(data).set_index('station_code')\n",
    "table"
   ]
  },
  {
   "cell_type": "markdown",
   "metadata": {},
   "source": [
    "We will join all the observations into an uniform series, interpolated to 1-hour interval, for the model-data comparison.\n",
    "\n",
    "This step is necessary because the observations can be 7 or 10 minutes resolution,\n",
    "while the models can be 30 to 60 minutes."
   ]
  },
  {
   "cell_type": "code",
   "execution_count": 12,
   "metadata": {
    "collapsed": true,
    "scrolled": true
   },
   "outputs": [],
   "source": [
    "data = ndbc + coops\n",
    "\n",
    "index = pd.date_range(start=config['date']['start'].replace(tzinfo=None),\n",
    "                      end=config['date']['stop'].replace(tzinfo=None),\n",
    "                      freq='1H')\n",
    "\n",
    "# Preserve metadata with `reindex`.\n",
    "observations = []\n",
    "for series in data:\n",
    "    _metadata = series._metadata\n",
    "    obs = series.reindex(index=index, limit=1, method='nearest')\n",
    "    obs._metadata = _metadata\n",
    "    observations.append(obs)"
   ]
  },
  {
   "cell_type": "markdown",
   "metadata": {},
   "source": [
    "In this next cell we will save the data for quicker access later."
   ]
  },
  {
   "cell_type": "code",
   "execution_count": 13,
   "metadata": {
    "collapsed": true,
    "scrolled": false
   },
   "outputs": [],
   "source": [
    "import iris\n",
    "from ioos_tools.tardis import series2cube\n",
    "\n",
    "attr = dict(\n",
    "    featureType='timeSeries',\n",
    "    Conventions='CF-1.6',\n",
    "    standard_name_vocabulary='CF-1.6',\n",
    "    cdm_data_type='Station',\n",
    "    comment='Data from http://opendap.co-ops.nos.noaa.gov'\n",
    ")\n",
    "\n",
    "\n",
    "cubes = iris.cube.CubeList(\n",
    "    [series2cube(obs, attr=attr) for obs in observations]\n",
    ")\n",
    "\n",
    "outfile = os.path.join(save_dir, 'OBS_DATA.nc')\n",
    "iris.save(cubes, outfile)"
   ]
  },
  {
   "cell_type": "markdown",
   "metadata": {},
   "source": [
    "Taking a quick look at the observations:"
   ]
  },
  {
   "cell_type": "code",
   "execution_count": 14,
   "metadata": {},
   "outputs": [
    {
     "data": {
      "image/png": "[encoded data removed]",
      "text/plain": [
       "<matplotlib.figure.Figure at 0x7f1861255358>"
      ]
     },
     "metadata": {},
     "output_type": "display_data"
    }
   ],
   "source": [
    "%matplotlib inline\n",
    "\n",
    "ax = pd.concat(data).plot(figsize=(11, 2.25))"
   ]
  },
  {
   "cell_type": "markdown",
   "metadata": {},
   "source": [
    "Now it is time to loop the models we found above,"
   ]
  },
  {
   "cell_type": "code",
   "execution_count": 15,
   "metadata": {},
   "outputs": [
    {
     "name": "stdout",
     "output_type": "stream",
     "text": [
      "**************************** Models ****************************\n",
      "\n",
      "[Reading url 1/8]: http://oos.soest.hawaii.edu/thredds/dodsC/pacioos/hycom/global\n",
      "\n",
      "[Reading url 2/8]: http://thredds.secoora.org/thredds/dodsC/SECOORA_NCSU_CNAPS.nc\n",
      "\n",
      "[Reading url 3/8]: http://www.smast.umassd.edu:8080/thredds/dodsC/FVCOM/NECOFS/Forecasts/NECOFS_FVCOM_OCEAN_SCITUATE_FORECAST.nc\n",
      "\n",
      "[Reading url 4/8]: http://www.smast.umassd.edu:8080/thredds/dodsC/FVCOM/NECOFS/Forecasts/NECOFS_FVCOM_OCEAN_BOSTON_FORECAST.nc\n",
      "\n",
      "[Reading url 5/8]: http://www.smast.umassd.edu:8080/thredds/dodsC/FVCOM/NECOFS/Forecasts/NECOFS_FVCOM_OCEAN_MASSBAY_FORECAST.nc\n",
      "\n",
      "[Reading url 6/8]: http://www.smast.umassd.edu:8080/thredds/dodsC/FVCOM/NECOFS/Forecasts/NECOFS_GOM3_FORECAST.nc\n",
      "\n",
      "[Reading url 7/8]: http://oos.soest.hawaii.edu/thredds/dodsC/hioos/satellite/dhw_5km\n",
      "\n",
      "[Reading url 8/8]: http://thredds.secoora.org/thredds/dodsC/G1_SST_GLOBAL.nc\n"
     ]
    }
   ],
   "source": [
    "from iris.exceptions import (CoordinateNotFoundError, ConstraintMismatchError,\n",
    "                             MergeError)\n",
    "from ioos_tools.ioos import get_model_name\n",
    "from ioos_tools.tardis import quick_load_cubes, proc_cube, is_model, get_surface\n",
    "\n",
    "print(fmt(' Models '))\n",
    "cubes = dict()\n",
    "for k, url in enumerate(dap_urls):\n",
    "    print('\\n[Reading url {}/{}]: {}'.format(k+1, len(dap_urls), url))\n",
    "    try:\n",
    "        cube = quick_load_cubes(url, config['cf_names'],\n",
    "                                callback=None, strict=True)\n",
    "        if is_model(cube):\n",
    "            cube = proc_cube(cube,\n",
    "                             bbox=config['region']['bbox'],\n",
    "                             time=(config['date']['start'],\n",
    "                                   config['date']['stop']),\n",
    "                             units=config['units'])\n",
    "        else:\n",
    "            print('[Not model data]: {}'.format(url))\n",
    "            continue\n",
    "        cube = get_surface(cube)\n",
    "        mod_name = get_model_name(url)\n",
    "        cubes.update({mod_name: cube})\n",
    "    except (RuntimeError, ValueError,\n",
    "            ConstraintMismatchError, CoordinateNotFoundError,\n",
    "            IndexError) as e:\n",
    "        print('Cannot get cube for: {}\\n{}'.format(url, e))"
   ]
  },
  {
   "cell_type": "markdown",
   "metadata": {},
   "source": [
    "Next, we will match them with the nearest observed time-series. The `max_dist=0.08` is in degrees, that is roughly 8 kilometers."
   ]
  },
  {
   "cell_type": "code",
   "execution_count": 18,
   "metadata": {},
   "outputs": [
    {
     "name": "stdout",
     "output_type": "stream",
     "text": [
      " Downloading to file /home/mwengren/workspace/code/git/ioos/notebooks_demos/notebooks/latest/pacioos_hycom-global.nc \n",
      "[Water  ] BOSTON 16 NM East of Boston, MA\n",
      "Finished processing [pacioos_hycom-global]\n",
      " Downloading to file /home/mwengren/workspace/code/git/ioos/notebooks_demos/notebooks/latest/SECOORA_NCSU_CNAPS.nc \n",
      "[Water  ] BOSTON 16 NM East of Boston, MA\n",
      "Finished processing [SECOORA_NCSU_CNAPS]\n",
      " Downloading to file /home/mwengren/workspace/code/git/ioos/notebooks_demos/notebooks/latest/Forecasts-NECOFS_FVCOM_OCEAN_SCITUATE_FORECAST.nc \n",
      "[No Data] BOSTON 16 NM East of Boston, MA\n",
      "Finished processing [Forecasts-NECOFS_FVCOM_OCEAN_SCITUATE_FORECAST]\n",
      " Downloading to file /home/mwengren/workspace/code/git/ioos/notebooks_demos/notebooks/latest/Forecasts-NECOFS_FVCOM_OCEAN_BOSTON_FORECAST.nc \n",
      "[No Data] BOSTON 16 NM East of Boston, MA\n",
      "Finished processing [Forecasts-NECOFS_FVCOM_OCEAN_BOSTON_FORECAST]\n",
      " Downloading to file /home/mwengren/workspace/code/git/ioos/notebooks_demos/notebooks/latest/Forecasts-NECOFS_FVCOM_OCEAN_MASSBAY_FORECAST.nc \n",
      "[Water  ] BOSTON 16 NM East of Boston, MA\n",
      "Finished processing [Forecasts-NECOFS_FVCOM_OCEAN_MASSBAY_FORECAST]\n",
      " Downloading to file /home/mwengren/workspace/code/git/ioos/notebooks_demos/notebooks/latest/FVCOM_Forecasts-NECOFS_GOM3_FORECAST.nc \n",
      "[Water  ] BOSTON 16 NM East of Boston, MA\n",
      "Finished processing [FVCOM_Forecasts-NECOFS_GOM3_FORECAST]\n",
      " Downloading to file /home/mwengren/workspace/code/git/ioos/notebooks_demos/notebooks/latest/hioos_satellite-dhw_5km.nc \n",
      "[Water  ] BOSTON 16 NM East of Boston, MA\n",
      "Finished processing [hioos_satellite-dhw_5km]\n",
      " Downloading to file /home/mwengren/workspace/code/git/ioos/notebooks_demos/notebooks/latest/G1_SST_GLOBAL.nc \n",
      "[Water  ] BOSTON 16 NM East of Boston, MA\n",
      "Finished processing [G1_SST_GLOBAL]\n"
     ]
    }
   ],
   "source": [
    "import iris\n",
    "from iris.pandas import as_series\n",
    "from ioos_tools.tardis import (make_tree, get_nearest_water,\n",
    "                               add_station, ensure_timeseries, remove_ssh)\n",
    "\n",
    "for mod_name, cube in cubes.items():\n",
    "    fname = '{}.nc'.format(mod_name)\n",
    "    fname = os.path.join(save_dir, fname)\n",
    "    print(fmt(' Downloading to file {} '.format(fname)))\n",
    "    try:\n",
    "        tree, lon, lat = make_tree(cube)\n",
    "    except CoordinateNotFoundError as e:\n",
    "        print('Cannot make KDTree for: {}'.format(mod_name))\n",
    "        continue\n",
    "    # Get model series at observed locations.\n",
    "    raw_series = dict()\n",
    "    for obs in observations:\n",
    "        obs = obs._metadata\n",
    "        station = obs['station_code']\n",
    "        try:\n",
    "            kw = dict(k=10, max_dist=0.08, min_var=0.01)\n",
    "            args = cube, tree, obs['lon'], obs['lat']\n",
    "            try:\n",
    "                series, dist, idx = get_nearest_water(*args, **kw)\n",
    "            except RuntimeError as e:\n",
    "                print('Cannot download {!r}.\\n{}'.format(cube, e))\n",
    "                series = None\n",
    "        except ValueError as e:\n",
    "            status = 'No Data'\n",
    "            print('[{}] {}'.format(status, obs['station_name']))\n",
    "            continue\n",
    "        if not series:\n",
    "            status = 'Land   '\n",
    "        else:\n",
    "            raw_series.update({station: series})\n",
    "            series = as_series(series)\n",
    "            status = 'Water  '\n",
    "        print('[{}] {}'.format(status, obs['station_name']))\n",
    "    if raw_series:  # Save cube.\n",
    "        for station, cube in raw_series.items():\n",
    "            cube = add_station(cube, station)\n",
    "            cube = remove_ssh(cube)\n",
    "        try:\n",
    "            cube = iris.cube.CubeList(raw_series.values()).merge_cube()\n",
    "        except MergeError as e:\n",
    "            print(e)\n",
    "        ensure_timeseries(cube)\n",
    "        try:\n",
    "            iris.save(cube, fname)\n",
    "        except AttributeError:\n",
    "            # FIXME: we should patch the bad attribute instead of removing everything.\n",
    "            cube.attributes = {}\n",
    "            iris.save(cube, fname)\n",
    "        del cube\n",
    "    print('Finished processing [{}]'.format(mod_name))"
   ]
  },
  {
   "cell_type": "markdown",
   "metadata": {},
   "source": [
    "Now it is possible to compute some simple comparison metrics. First we'll calculate the model mean bias:\n",
    "\n",
    "$$ \\text{MB} = \\mathbf{\\overline{m}} - \\mathbf{\\overline{o}}$$"
   ]
  },
  {
   "cell_type": "code",
   "execution_count": 19,
   "metadata": {
    "collapsed": true
   },
   "outputs": [],
   "source": [
    "from ioos_tools.ioos import stations_keys\n",
    "\n",
    "\n",
    "def rename_cols(df, config):\n",
    "    cols = stations_keys(config, key='station_name')\n",
    "    return df.rename(columns=cols)"
   ]
  },
  {
   "cell_type": "code",
   "execution_count": 20,
   "metadata": {
    "collapsed": true,
    "scrolled": false
   },
   "outputs": [],
   "source": [
    "from ioos_tools.ioos import load_ncs\n",
    "from ioos_tools.skill_score import mean_bias, apply_skill\n",
    "\n",
    "dfs = load_ncs(config)\n",
    "\n",
    "df = apply_skill(dfs, mean_bias, remove_mean=False, filter_tides=False)\n",
    "skill_score = dict(mean_bias=df.to_dict())\n",
    "\n",
    "# Filter out stations with no valid comparison.\n",
    "df.dropna(how='all', axis=1, inplace=True)\n",
    "df = df.applymap('{:.2f}'.format).replace('nan', '--')"
   ]
  },
  {
   "cell_type": "markdown",
   "metadata": {},
   "source": [
    "And the root mean squared rrror of the deviations from the mean:\n",
    "$$ \\text{CRMS} = \\sqrt{\\left(\\mathbf{m'} - \\mathbf{o'}\\right)^2}$$\n",
    "\n",
    "where: $\\mathbf{m'} = \\mathbf{m} - \\mathbf{\\overline{m}}$ and $\\mathbf{o'} = \\mathbf{o} - \\mathbf{\\overline{o}}$"
   ]
  },
  {
   "cell_type": "code",
   "execution_count": 21,
   "metadata": {
    "collapsed": true
   },
   "outputs": [],
   "source": [
    "from ioos_tools.skill_score import rmse\n",
    "\n",
    "dfs = load_ncs(config)\n",
    "\n",
    "df = apply_skill(dfs, rmse, remove_mean=True, filter_tides=False)\n",
    "skill_score['rmse'] = df.to_dict()\n",
    "\n",
    "# Filter out stations with no valid comparison.\n",
    "df.dropna(how='all', axis=1, inplace=True)\n",
    "df = df.applymap('{:.2f}'.format).replace('nan', '--')"
   ]
  },
  {
   "cell_type": "markdown",
   "metadata": {},
   "source": [
    "The next 2 cells make the scores \"pretty\" for plotting."
   ]
  },
  {
   "cell_type": "code",
   "execution_count": 22,
   "metadata": {
    "collapsed": true
   },
   "outputs": [],
   "source": [
    "import pandas as pd\n",
    "\n",
    "# Stringfy keys.\n",
    "for key in skill_score.keys():\n",
    "    skill_score[key] = {str(k): v for k, v in skill_score[key].items()}\n",
    "\n",
    "mean_bias = pd.DataFrame.from_dict(skill_score['mean_bias'])\n",
    "mean_bias = mean_bias.applymap('{:.2f}'.format).replace('nan', '--')\n",
    "\n",
    "skill_score = pd.DataFrame.from_dict(skill_score['rmse'])\n",
    "skill_score = skill_score.applymap('{:.2f}'.format).replace('nan', '--')"
   ]
  },
  {
   "cell_type": "code",
   "execution_count": 23,
   "metadata": {
    "collapsed": true
   },
   "outputs": [],
   "source": [
    "from ioos_tools.ioos import make_map\n",
    "\n",
    "bbox = config['region']['bbox']\n",
    "units = config['units']\n",
    "run_name = config['run_name']\n",
    "\n",
    "kw = dict(zoom_start=11, line=True, states=False,\n",
    "          secoora_stations=False, layers=False)\n",
    "m = make_map(bbox, **kw)"
   ]
  },
  {
   "cell_type": "markdown",
   "metadata": {},
   "source": [
    "The cells from `[20]` to `[25]` create a [`folium`](https://github.com/python-visualization/folium) map with [`bokeh`](http://bokeh.pydata.org/en/latest/) for the time-series at the observed points.\n",
    "\n",
    "Note that we did mark the nearest model cell location used in the comparison."
   ]
  },
  {
   "cell_type": "code",
   "execution_count": 24,
   "metadata": {},
   "outputs": [
    {
     "data": {
      "text/plain": [
       "<folium.plugins.marker_cluster.MarkerCluster at 0x7f1855203ba8>"
      ]
     },
     "execution_count": 24,
     "metadata": {},
     "output_type": "execute_result"
    }
   ],
   "source": [
    "all_obs = stations_keys(config)\n",
    "\n",
    "from glob import glob\n",
    "from operator import itemgetter\n",
    "\n",
    "import iris\n",
    "import folium\n",
    "from folium.plugins import MarkerCluster\n",
    "\n",
    "iris.FUTURE.netcdf_promote = True\n",
    "\n",
    "big_list = []\n",
    "for fname in glob(os.path.join(save_dir, '*.nc')):\n",
    "    if 'OBS_DATA' in fname:\n",
    "        continue\n",
    "    cube = iris.load_cube(fname)\n",
    "    model = os.path.split(fname)[1].split('-')[-1].split('.')[0]\n",
    "    lons = cube.coord(axis='X').points\n",
    "    lats = cube.coord(axis='Y').points\n",
    "    stations = cube.coord('station_code').points\n",
    "    models = [model]*lons.size\n",
    "    lista = zip(models, lons.tolist(), lats.tolist(), stations.tolist())\n",
    "    big_list.extend(lista)\n",
    "\n",
    "big_list.sort(key=itemgetter(3))\n",
    "df = pd.DataFrame(big_list, columns=['name', 'lon', 'lat', 'station'])\n",
    "df.set_index('station', drop=True, inplace=True)\n",
    "groups = df.groupby(df.index)\n",
    "\n",
    "\n",
    "locations, popups = [], []\n",
    "for station, info in groups:\n",
    "    sta_name = all_obs[station]\n",
    "    for lat, lon, name in zip(info.lat, info.lon, info.name):\n",
    "        locations.append([lat, lon])\n",
    "        popups.append('[{}]: {}'.format(name, sta_name))\n",
    "\n",
    "MarkerCluster(locations=locations, popups=popups).add_to(m)"
   ]
  },
  {
   "cell_type": "markdown",
   "metadata": {},
   "source": [
    "Here we use a dictionary with some models we expect to find so we can create a better legend for the plots. If any new models are found, we will use its filename in the legend as a default until we can go back and add a short name to our library."
   ]
  },
  {
   "cell_type": "code",
   "execution_count": 25,
   "metadata": {
    "collapsed": true
   },
   "outputs": [],
   "source": [
    "titles = {\n",
    "    'coawst_4_use_best': 'COAWST_4',\n",
    "    'global': 'HYCOM',\n",
    "    'NECOFS_GOM3_FORECAST': 'NECOFS_GOM3',\n",
    "    'NECOFS_FVCOM_OCEAN_MASSBAY_FORECAST': 'NECOFS_MassBay',\n",
    "    'OBS_DATA': 'Observations'\n",
    "}"
   ]
  },
  {
   "cell_type": "code",
   "execution_count": 26,
   "metadata": {
    "collapsed": true
   },
   "outputs": [],
   "source": [
    "from bokeh.resources import CDN\n",
    "from bokeh.plotting import figure\n",
    "from bokeh.embed import file_html\n",
    "from bokeh.models import HoverTool\n",
    "from itertools import cycle\n",
    "from bokeh.palettes import Spectral6\n",
    "\n",
    "from folium import IFrame\n",
    "\n",
    "# Plot defaults.\n",
    "colors = Spectral6\n",
    "colorcycler = cycle(colors)\n",
    "tools = 'pan,box_zoom,reset'\n",
    "width, height = 750, 250\n",
    "\n",
    "\n",
    "def make_plot(df, station):\n",
    "    p = figure(toolbar_location='above',\n",
    "               x_axis_type='datetime',\n",
    "               width=width,\n",
    "               height=height,\n",
    "               tools=tools,\n",
    "               title=str(station))\n",
    "    for column, series in df.iteritems():\n",
    "        series.dropna(inplace=True)\n",
    "        if not series.empty:\n",
    "            line = p.line(\n",
    "                x=series.index,\n",
    "                y=series.values,\n",
    "                legend='%s' % titles.get(column, column),\n",
    "                line_color=next(colorcycler),\n",
    "                line_width=5,\n",
    "                line_cap='round',\n",
    "                line_join='round'\n",
    "            )\n",
    "            if 'OBS_DATA' not in column:\n",
    "                bias = mean_bias[str(station)][column]\n",
    "                skill = skill_score[str(station)][column]\n",
    "            else:\n",
    "                skill = bias = 'NA'\n",
    "            p.add_tools(HoverTool(tooltips=[('Name', '%s' % column),\n",
    "                                            ('Bias', bias),\n",
    "                                            ('Skill', skill)],\n",
    "                                  renderers=[line]))\n",
    "    return p\n",
    "\n",
    "\n",
    "def make_marker(p, station):\n",
    "    lons = stations_keys(config, key='lon')\n",
    "    lats = stations_keys(config, key='lat')\n",
    "\n",
    "    lon, lat = lons[station], lats[station]\n",
    "    html = file_html(p, CDN, station)\n",
    "    iframe = IFrame(html, width=width+40, height=height+80)\n",
    "\n",
    "    popup = folium.Popup(iframe, max_width=2650)\n",
    "    icon = folium.Icon(color='green', icon='stats')\n",
    "    marker = folium.Marker(location=[lat, lon],\n",
    "                           popup=popup,\n",
    "                           icon=icon)\n",
    "    return marker"
   ]
  },
  {
   "cell_type": "code",
   "execution_count": 27,
   "metadata": {
    "scrolled": true
   },
   "outputs": [
    {
     "data": {
      "text/html": [
       "<div style=\"width:100%;\"><div style=\"position:relative;width:100%;height:0;padding-bottom:60%;\"><iframe src=\"data:text/html;charset=utf-8;base64,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\" style=\"position:absolute;width:100%;height:100%;left:0;top:0;border:none !important;\" allowfullscreen webkitallowfullscreen mozallowfullscreen></iframe></div></div>"
      ],
      "text/plain": [
       "<folium.folium.Map at 0x7f186012e518>"
      ]
     },
     "execution_count": 27,
     "metadata": {},
     "output_type": "execute_result"
    }
   ],
   "source": [
    "dfs = load_ncs(config)\n",
    "\n",
    "for station in dfs:\n",
    "    sta_name = all_obs[station]\n",
    "    df = dfs[station]\n",
    "    if df.empty:\n",
    "        continue\n",
    "    p = make_plot(df, station)\n",
    "    maker = make_marker(p, station)\n",
    "    maker.add_to(m)\n",
    "\n",
    "m"
   ]
  },
  {
   "cell_type": "markdown",
   "metadata": {},
   "source": [
    "Now we can navigate the map and click on the markers to explorer our findings.\n",
    "\n",
    "The green markers locate the observations locations. They pop-up an interactive plot with the time-series and scores for the models (hover over the lines to se the scores). The blue markers indicate the nearest model grid point found for the comparison."
   ]
  }
 ],
 "metadata": {
  "anaconda-cloud": {},
  "kernelspec": {
   "display_name": "Python [default]",
   "language": "python",
   "name": "python3"
  },
  "language_info": {
   "codemirror_mode": {
    "name": "ipython",
    "version": 3
   },
   "file_extension": ".py",
   "mimetype": "text/x-python",
   "name": "python",
   "nbconvert_exporter": "python",
   "pygments_lexer": "ipython3",
   "version": "3.6.2"
  }
 },
 "nbformat": 4,
 "nbformat_minor": 1
}
