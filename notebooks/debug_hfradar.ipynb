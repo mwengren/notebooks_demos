{
  "cells": [
    {
      "metadata": {
        "trusted": true
      },
      "cell_type": "code",
      "source": "def fes_date_filter(start, stop, constraint='overlaps'):\n    from owslib import fes\n    start = start.strftime('%Y-%m-%d %H:00')\n    stop = stop.strftime('%Y-%m-%d %H:00')\n    if constraint == 'overlaps':\n        propertyname = 'apiso:TempExtent_begin'\n        begin = fes.PropertyIsLessThanOrEqualTo(propertyname=propertyname,\n                                                literal=stop)\n        propertyname = 'apiso:TempExtent_end'\n        end = fes.PropertyIsGreaterThanOrEqualTo(propertyname=propertyname,\n                                                 literal=start)\n    elif constraint == 'within':\n        propertyname = 'apiso:TempExtent_begin'\n        begin = fes.PropertyIsGreaterThanOrEqualTo(propertyname=propertyname,\n                                                   literal=start)\n        propertyname = 'apiso:TempExtent_end'\n        end = fes.PropertyIsLessThanOrEqualTo(propertyname=propertyname,\n                                              literal=stop)\n    else:\n        raise NameError('Unrecognized constraint {}'.format(constraint))\n    return begin, end\n\n\ndef get_csw_records(csw, filter_list, pagesize=10, maxrecords=1000):\n    from owslib.fes import SortBy, SortProperty\n    # Iterate over sorted results.\n    sortby = SortBy([SortProperty('dc:title', 'ASC')])\n    csw_records = {}\n    startposition = 0\n    nextrecord = getattr(csw, 'results', 1)\n    while nextrecord != 0:\n        csw.getrecords2(constraints=filter_list, startposition=startposition,\n                        maxrecords=pagesize, sortby=sortby)\n        csw_records.update(csw.records)\n        if csw.results['nextrecord'] == 0:\n            break\n        startposition += pagesize + 1  # Last one is included.\n        if startposition >= maxrecords:\n            break\n    csw.records.update(csw_records)",
      "execution_count": 1,
      "outputs": []
    },
    {
      "metadata": {
        "trusted": true
      },
      "cell_type": "code",
      "source": "from datetime import datetime, timedelta\n\n# Region: West coast.\nmin_lon, max_lon = -123, -121\nmin_lat, max_lat = 36, 40\n\nbbox = [min_lon, min_lat, max_lon, max_lat]\ncrs = 'urn:ogc:def:crs:OGC:1.3:CRS84'\n\nnow = datetime.utcnow()\nstop = now\n\n# Surface velocity CF names.\ncf_names = ['surface_northward_sea_water_velocity',\n            'surface_eastward_sea_water_velocity']",
      "execution_count": 2,
      "outputs": []
    },
    {
      "metadata": {
        "trusted": true
      },
      "cell_type": "code",
      "source": "from owslib import fes\n\n\nkw = dict(wildCard='*', escapeChar='\\\\',\n          singleChar='?', propertyname='apiso:AnyText')\n\nor_filt = fes.Or([fes.PropertyIsLike(literal=('*%s*' % val), **kw)\n                  for val in cf_names])\n\n# Exclude GNOME returns.\nnot_filt = fes.Not([fes.PropertyIsLike(literal='*GNOME*', **kw)])\n\nbbox_crs = fes.BBox(bbox, crs=crs)",
      "execution_count": 3,
      "outputs": []
    },
    {
      "metadata": {
        "scrolled": false,
        "trusted": true
      },
      "cell_type": "code",
      "source": "from owslib.csw import CatalogueServiceWeb\n\n\nendpoint = 'https://data.ioos.us/csw'\n\ncsw = CatalogueServiceWeb(endpoint, timeout=60)",
      "execution_count": 4,
      "outputs": []
    },
    {
      "metadata": {},
      "cell_type": "markdown",
      "source": "# 31 days works"
    },
    {
      "metadata": {
        "trusted": true
      },
      "cell_type": "code",
      "source": "start = now - timedelta(days=(31))\n\nbegin, end = fes_date_filter(start, stop)\n\nfilter_list = [fes.And([bbox_crs, begin, end, or_filt, not_filt])]\n\nget_csw_records(csw, filter_list, pagesize=10, maxrecords=1000)\n\nrecords = '\\n'.join(csw.records.keys())\nprint('Found {} records.\\n'.format(len(csw.records.keys())))\nfor key, value in list(csw.records.items()):\n    if 'HFR/USWC' in key:\n        print('[{}]: {}'.format(value.title, key))",
      "execution_count": 5,
      "outputs": [
        {
          "output_type": "stream",
          "text": "Found 6 records.\n\n[Near-Real Time Surface Ocean Velocity, U.S. West Coast,\n1 km Resolution]: HFR/USWC/1km/hourly/RTV/HFRADAR_US_West_Coast_1km_Resolution_Hourly_RTV_best.ncd\n[Near-Real Time Surface Ocean Velocity, U.S. West Coast,\n2 km Resolution]: HFR/USWC/2km/hourly/RTV/HFRADAR_US_West_Coast_2km_Resolution_Hourly_RTV_best.ncd\n[Near-Real Time Surface Ocean Velocity, U.S. West Coast,\n500 m Resolution]: HFR/USWC/500m/hourly/RTV/HFRADAR_US_West_Coast_500m_Resolution_Hourly_RTV_best.ncd\n[Near-Real Time Surface Ocean Velocity, U.S. West Coast,\n6 km Resolution]: HFR/USWC/6km/hourly/RTV/HFRADAR_US_West_Coast_6km_Resolution_Hourly_RTV_best.ncd\n",
          "name": "stdout"
        }
      ]
    },
    {
      "metadata": {},
      "cell_type": "markdown",
      "source": "# ~~30 days fails~~"
    },
    {
      "metadata": {
        "trusted": true
      },
      "cell_type": "code",
      "source": "start = now - timedelta(days=(30))\n\nbegin, end = fes_date_filter(start, stop)\n\nfilter_list = [fes.And([bbox_crs, begin, end, or_filt, not_filt])]\n\nget_csw_records(csw, filter_list, pagesize=10, maxrecords=1000)\n\nrecords = '\\n'.join(csw.records.keys())\nprint('Found {} records.\\n'.format(len(csw.records.keys())))\nfor key, value in list(csw.records.items()):\n    if 'HFR/USWC' in key:\n        print('[{}]: {}'.format(value.title, key))",
      "execution_count": 6,
      "outputs": [
        {
          "output_type": "stream",
          "text": "Found 6 records.\n\n[Near-Real Time Surface Ocean Velocity, U.S. West Coast,\n1 km Resolution]: HFR/USWC/1km/hourly/RTV/HFRADAR_US_West_Coast_1km_Resolution_Hourly_RTV_best.ncd\n[Near-Real Time Surface Ocean Velocity, U.S. West Coast,\n2 km Resolution]: HFR/USWC/2km/hourly/RTV/HFRADAR_US_West_Coast_2km_Resolution_Hourly_RTV_best.ncd\n[Near-Real Time Surface Ocean Velocity, U.S. West Coast,\n500 m Resolution]: HFR/USWC/500m/hourly/RTV/HFRADAR_US_West_Coast_500m_Resolution_Hourly_RTV_best.ncd\n[Near-Real Time Surface Ocean Velocity, U.S. West Coast,\n6 km Resolution]: HFR/USWC/6km/hourly/RTV/HFRADAR_US_West_Coast_6km_Resolution_Hourly_RTV_best.ncd\n",
          "name": "stdout"
        }
      ]
    },
    {
      "metadata": {},
      "cell_type": "markdown",
      "source": "# past week"
    },
    {
      "metadata": {
        "trusted": true
      },
      "cell_type": "code",
      "source": "start = now - timedelta(days=(7))\n\nbegin, end = fes_date_filter(start, stop)\n\nfilter_list = [fes.And([bbox_crs, begin, end, or_filt, not_filt])]\n\nget_csw_records(csw, filter_list, pagesize=10, maxrecords=1000)\n\nrecords = '\\n'.join(csw.records.keys())\nprint('Found {} records.\\n'.format(len(csw.records.keys())))\nfor key, value in list(csw.records.items()):\n    if 'HFR/USWC' in key:\n        print('[{}]: {}'.format(value.title, key))",
      "execution_count": 7,
      "outputs": [
        {
          "output_type": "stream",
          "text": "Found 6 records.\n\n[Near-Real Time Surface Ocean Velocity, U.S. West Coast,\n1 km Resolution]: HFR/USWC/1km/hourly/RTV/HFRADAR_US_West_Coast_1km_Resolution_Hourly_RTV_best.ncd\n[Near-Real Time Surface Ocean Velocity, U.S. West Coast,\n2 km Resolution]: HFR/USWC/2km/hourly/RTV/HFRADAR_US_West_Coast_2km_Resolution_Hourly_RTV_best.ncd\n[Near-Real Time Surface Ocean Velocity, U.S. West Coast,\n500 m Resolution]: HFR/USWC/500m/hourly/RTV/HFRADAR_US_West_Coast_500m_Resolution_Hourly_RTV_best.ncd\n[Near-Real Time Surface Ocean Velocity, U.S. West Coast,\n6 km Resolution]: HFR/USWC/6km/hourly/RTV/HFRADAR_US_West_Coast_6km_Resolution_Hourly_RTV_best.ncd\n",
          "name": "stdout"
        }
      ]
    }
  ],
  "metadata": {
    "_draft": {
      "nbviewer_url": "https://gist.github.com/b45877a314468f6c1e66dcf31eee610d"
    },
    "gist": {
      "id": "b45877a314468f6c1e66dcf31eee610d",
      "data": {
        "description": "debug_hfradar",
        "public": true
      }
    },
    "kernelspec": {
      "name": "python3",
      "display_name": "Python [default]",
      "language": "python"
    },
    "language_info": {
      "name": "python",
      "version": "3.6.2",
      "mimetype": "text/x-python",
      "codemirror_mode": {
        "name": "ipython",
        "version": 3
      },
      "pygments_lexer": "ipython3",
      "nbconvert_exporter": "python",
      "file_extension": ".py"
    }
  },
  "nbformat": 4,
  "nbformat_minor": 1
}